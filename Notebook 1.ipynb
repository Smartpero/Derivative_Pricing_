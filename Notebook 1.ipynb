{
  "nbformat": 4,
  "nbformat_minor": 0,
  "metadata": {
    "colab": {
      "provenance": []
    },
    "kernelspec": {
      "name": "python3",
      "display_name": "Python 3"
    },
    "language_info": {
      "name": "python"
    }
  },
  "cells": [
    {
      "cell_type": "markdown",
      "source": [
        "# **Step 1 : Binomial Model**"
      ],
      "metadata": {
        "id": "vKgxG6o9bdCr"
      }
    },
    {
      "cell_type": "code",
      "source": [
        "#import libraries\n",
        "import numpy as np\n",
        "import pandas as pd\n",
        "from scipy.stats import norm\n",
        "import matplotlib.pyplot as plt"
      ],
      "metadata": {
        "id": "gdBk2poYhzuV"
      },
      "execution_count": 1,
      "outputs": []
    },
    {
      "cell_type": "code",
      "source": [
        "# Parameters\n",
        "S0 = 100        # Initial stock price\n",
        "r = 0.05        # Risk-free rate\n",
        "sigma = 0.25    # Volatility\n",
        "T = 3 / 12      # Time to expiration in years (3 months)\n",
        "K = 100         # Strike price (ATM option)\n",
        "n_steps = 100   # Number of steps in the binomial tree"
      ],
      "metadata": {
        "id": "F53vxDF_pH2l"
      },
      "execution_count": 2,
      "outputs": []
    },
    {
      "cell_type": "markdown",
      "source": [
        "**5. European Call & Put Options**"
      ],
      "metadata": {
        "id": "mUZFHxhUcG5x"
      }
    },
    {
      "cell_type": "code",
      "source": [
        "# Binomial tree parameters\n",
        "dt = T / n_steps  # Time step\n",
        "u = np.exp(sigma * np.sqrt(dt))     # Up factor\n",
        "d = 1 / u                           # Down factor\n",
        "p = (np.exp(r * dt) - d) / (u - d)  # Risk-neutral probability\n",
        "\n",
        "# Generate terminal payoffs\n",
        "def binomial_tree_european_option(S0, K, r, T, sigma, n_steps, option_type=\"call\"):\n",
        "    # Create an array for asset prices at maturity\n",
        "    asset_prices = np.zeros(n_steps + 1)\n",
        "    for i in range(n_steps + 1):\n",
        "        asset_prices[i] = S0 * (u ** (n_steps - i)) * (d ** i)\n",
        "\n",
        "    # Option payoffs at maturity\n",
        "    if option_type == \"call\":\n",
        "        option_values = np.maximum(asset_prices - K, 0)\n",
        "    elif option_type == \"put\":\n",
        "        option_values = np.maximum(K - asset_prices, 0)\n",
        "\n",
        "    # Discount back through the tree\n",
        "    for j in range(n_steps - 1, -1, -1):\n",
        "        for i in range(j + 1):\n",
        "            option_values[i] = np.exp(-r * dt) * (p * option_values[i] + (1 - p) * option_values[i + 1])\n",
        "\n",
        "    return option_values[0]  # Return the option price at the root"
      ],
      "metadata": {
        "id": "-BFXUExXia5M"
      },
      "execution_count": 3,
      "outputs": []
    },
    {
      "cell_type": "code",
      "source": [
        "# Price ATM European Call and Put\n",
        "european_call_price = binomial_tree_european_option(S0, K, r, T, sigma, n_steps, \"call\")\n",
        "european_put_price = binomial_tree_european_option(S0, K, r, T, sigma, n_steps, \"put\")\n",
        "parity_difference = european_call_price - european_put_price - (S0 - K * np.exp(-r * T))\n",
        "print(f\"ATM European Call Price: {european_call_price:.2f}\")\n",
        "print(f\"ATM European Put Price: {european_put_price:.2f}\")\n",
        "print(f\"Put-Call Parity Difference: {parity_difference:.4f}\")"
      ],
      "metadata": {
        "colab": {
          "base_uri": "https://localhost:8080/",
          "height": 0
        },
        "id": "39gZObHaifJs",
        "outputId": "9343f501-ac25-465b-b60f-5c391dade4f5"
      },
      "execution_count": 4,
      "outputs": [
        {
          "output_type": "stream",
          "name": "stdout",
          "text": [
            "ATM European Call Price: 5.59\n",
            "ATM European Put Price: 4.34\n",
            "Put-Call Parity Difference: -0.0000\n"
          ]
        }
      ]
    },
    {
      "cell_type": "markdown",
      "source": [
        "**6. Delta for European Call and Put Options**"
      ],
      "metadata": {
        "id": "QKOIelKJdMtI"
      }
    },
    {
      "cell_type": "code",
      "source": [
        "# Compute Delta for Call and Put\n",
        "S0_up = S0 * 1.01  # 1% up move\n",
        "S0_down = S0 * 0.99  # 1% down move\n",
        "european_call_price_up = binomial_tree_european_option(S0_up, K, r, T, sigma, n_steps, \"call\")\n",
        "european_call_price_down = binomial_tree_european_option(S0_down, K, r, T, sigma, n_steps, \"call\")\n",
        "european_put_price_up = binomial_tree_european_option(S0_up, K, r, T, sigma, n_steps, \"put\")\n",
        "european_put_price_down = binomial_tree_european_option(S0_down, K, r, T, sigma, n_steps, \"put\")"
      ],
      "metadata": {
        "id": "UCzirVsErF6R"
      },
      "execution_count": 5,
      "outputs": []
    },
    {
      "cell_type": "code",
      "source": [
        "# Call Delta and Put Delta\n",
        "european_call_delta = (european_call_price_up - european_call_price_down) / (S0_up - S0_down)\n",
        "european_put_delta = (european_put_price_up - european_put_price_down) / (S0_up - S0_down)\n",
        "print(f\"European Call Delta: {european_call_delta:.4f}\")\n",
        "print(f\"European Put Delta: {european_put_delta:.4f}\")"
      ],
      "metadata": {
        "colab": {
          "base_uri": "https://localhost:8080/",
          "height": 0
        },
        "id": "ActaYVstwm9C",
        "outputId": "e42b7885-5fad-4cee-9853-bf15dd936737"
      },
      "execution_count": 6,
      "outputs": [
        {
          "output_type": "stream",
          "name": "stdout",
          "text": [
            "European Call Delta: 0.5644\n",
            "European Put Delta: -0.4356\n"
          ]
        }
      ]
    },
    {
      "cell_type": "markdown",
      "source": [
        "**7. European Call & Put Options Sensitivity to Volatility**"
      ],
      "metadata": {
        "id": "sjL1VSJberLD"
      }
    },
    {
      "cell_type": "code",
      "source": [
        "# Update volatility(vega)  by 5%\n",
        "sigma_new = sigma * 1.25  # 25% increase in volatility\n",
        "call_price_high_vol = binomial_tree_european_option(S0, K, r, T, sigma_new, n_steps, \"call\")\n",
        "put_price_high_vol = binomial_tree_european_option(S0, K, r, T, sigma_new, n_steps, \"put\")"
      ],
      "metadata": {
        "id": "SwYyh0FgrKz-"
      },
      "execution_count": 7,
      "outputs": []
    },
    {
      "cell_type": "code",
      "source": [
        "# Vega For Call and Put\n",
        "european_call_vega = (call_price_high_vol - european_call_price) / (sigma_new - sigma)\n",
        "european_put_vega = (put_price_high_vol - european_put_price) / (sigma_new - sigma)\n",
        "print(f\"European Call Vega: {european_call_vega:.4f}\")\n",
        "print(f\"European Put Vega: {european_put_vega:.4f}\")"
      ],
      "metadata": {
        "colab": {
          "base_uri": "https://localhost:8080/",
          "height": 0
        },
        "id": "M8ULvky0rwn2",
        "outputId": "dfdbd259-013d-428a-b91b-9aac4ffe5eb5"
      },
      "execution_count": 8,
      "outputs": [
        {
          "output_type": "stream",
          "name": "stdout",
          "text": [
            "European Call Vega: 0.0000\n",
            "European Put Vega: 0.0000\n"
          ]
        }
      ]
    },
    {
      "cell_type": "markdown",
      "source": [
        "**8. American Call & Put Options**"
      ],
      "metadata": {
        "id": "9n_oA4n0gwcN"
      }
    },
    {
      "cell_type": "markdown",
      "source": [
        "For an option to be at-the-money (ATM), the initial underlying stock price,  S_ini_  must be equal to the Strike Price,  K\n",
        "\n",
        "**Parameters:**\n",
        "\n",
        "- S_ini_ = 100  (Initial stock price)\n",
        "- r = 0.05  (Risk-free rate)\n",
        "- sigma = 0.20  (Volatility)\n",
        "- T = 3/12  (Time to expiration in years (3 months))\n",
        "- K = 100  (Strike price)"
      ],
      "metadata": {
        "id": "GmjgnlPyhPV0"
      }
    },
    {
      "cell_type": "code",
      "source": [
        "def binomial_tree_american_option(S_ini, K, T, r, sigma, N, option_type):\n",
        "    dt = T / N  # Define time step\n",
        "    u = np.exp(sigma * np.sqrt(dt))  # Define u\n",
        "    d = np.exp(-sigma * np.sqrt(dt))  # Define d\n",
        "    p = (np.exp(r * dt) - d) / (u - d)  # risk neutral probs\n",
        "    C = np.zeros([N + 1, N + 1])  # call prices\n",
        "    S = np.zeros([N + 1, N + 1])  # underlying price\n",
        "\n",
        "    for i in range(0, N + 1):\n",
        "        S[N, i] = S_ini * (u ** (i)) * (d ** (N - i))\n",
        "        if option_type == \"C\":\n",
        "            C[N, i] = max(S[N, i] - K, 0)\n",
        "        else:\n",
        "            C[N, i] = max(K - S[N, i], 0)\n",
        "\n",
        "    for j in range(N - 1, -1, -1):\n",
        "        for i in range(0, j + 1):\n",
        "            C[j, i] = np.exp(-r * dt) * (\n",
        "                p * C[j + 1, i + 1] + (1 - p) * C[j + 1, i]\n",
        "            )  # Computing the European option prices\n",
        "            S[j, i] = (\n",
        "                S_ini * (u ** (i)) * (d ** (j - i))\n",
        "            )  # Underlying evolution for each node\n",
        "            if option_type == \"C\":\n",
        "                C[j, i] = max(\n",
        "                    C[j, i], S[j, i] - K\n",
        "                )  # Decision between the European option price and the payoff from early-exercise\n",
        "            else:\n",
        "                C[j, i] = max(\n",
        "                    C[j, i], K - S[j, i]\n",
        "                )  # Decision between the European option price and the payoff from early-exercise\n",
        "\n",
        "    return C[0, 0], C, S"
      ],
      "metadata": {
        "id": "qZRP70nIrtEf"
      },
      "execution_count": 9,
      "outputs": []
    },
    {
      "cell_type": "code",
      "source": [
        "# Selecting number of steps, N\n",
        "price_array = []\n",
        "for N in [1, 10, 100, 200, 300, 400, 500, 600, 700, 800, 900, 1000, 1500, 2500]:\n",
        "    call_price, C, S =  binomial_tree_american_option(100, 100, 3/12, 0.05, 0.2, N, \"C\")\n",
        "    price_array.append(call_price)\n",
        "    print(\"With N = {:3d}, the price is {:.2f}\".format(N, call_price))"
      ],
      "metadata": {
        "colab": {
          "base_uri": "https://localhost:8080/",
          "height": 0
        },
        "id": "JTV50yEhkrxA",
        "outputId": "07220ec0-4e8a-4cf2-eadb-2bd8c9f9832c"
      },
      "execution_count": 10,
      "outputs": [
        {
          "output_type": "stream",
          "name": "stdout",
          "text": [
            "With N =   1, the price is 5.59\n",
            "With N =  10, the price is 4.52\n",
            "With N = 100, the price is 4.61\n",
            "With N = 200, the price is 4.61\n",
            "With N = 300, the price is 4.61\n",
            "With N = 400, the price is 4.61\n",
            "With N = 500, the price is 4.61\n",
            "With N = 600, the price is 4.61\n",
            "With N = 700, the price is 4.61\n",
            "With N = 800, the price is 4.61\n",
            "With N = 900, the price is 4.61\n",
            "With N = 1000, the price is 4.61\n",
            "With N = 1500, the price is 4.61\n",
            "With N = 2500, the price is 4.61\n"
          ]
        }
      ]
    },
    {
      "cell_type": "markdown",
      "source": [
        "Call price converges at N = 100 steps. Hence, N = 100 was selected"
      ],
      "metadata": {
        "id": "mSfTmsazls4k"
      }
    },
    {
      "cell_type": "code",
      "source": [
        "american_call_price, C, S = binomial_tree_american_option(100, 100, 3/12, 0.05, 0.20, 100, \"C\")\n",
        "american_call_price = round(american_call_price, 2)\n",
        "print(\"American Call Option Price:\", american_call_price)"
      ],
      "metadata": {
        "colab": {
          "base_uri": "https://localhost:8080/",
          "height": 0
        },
        "id": "XLmPgId5iaC9",
        "outputId": "10587d9f-27df-4e39-f308-fca655897f45"
      },
      "execution_count": 11,
      "outputs": [
        {
          "output_type": "stream",
          "name": "stdout",
          "text": [
            "American Call Option Price: 4.61\n"
          ]
        }
      ]
    },
    {
      "cell_type": "code",
      "source": [
        "american_put_price, C, S = binomial_tree_american_option(100, 100, 3/12, 0.05, 0.20, 100, \"P\")\n",
        "american_put_price = round(american_put_price, 2)\n",
        "print(\"American Put Option Price:\", american_put_price)"
      ],
      "metadata": {
        "colab": {
          "base_uri": "https://localhost:8080/",
          "height": 0
        },
        "id": "hAbhYjtpi3ZV",
        "outputId": "741591c8-163d-425d-b3e4-4a08ccdb7ef8"
      },
      "execution_count": 12,
      "outputs": [
        {
          "output_type": "stream",
          "name": "stdout",
          "text": [
            "American Put Option Price: 3.47\n"
          ]
        }
      ]
    },
    {
      "cell_type": "markdown",
      "source": [
        "**9. Delta for American Call & Put Options**"
      ],
      "metadata": {
        "id": "nJM2q_GBmyDJ"
      }
    },
    {
      "cell_type": "code",
      "source": [
        "def american_option_delta(S_ini, K, T, r, sigma, N, option_type):\n",
        "    dt = T / N  # Define time step\n",
        "    u = np.exp(sigma * np.sqrt(dt))  # Define u\n",
        "    d = np.exp(-sigma * np.sqrt(dt))  # Define d\n",
        "    p = (np.exp(r * dt) - d) / (u - d)  # risk neutral probs\n",
        "    C = np.zeros([N + 1, N + 1])  # call prices\n",
        "    S = np.zeros([N + 1, N + 1])  # underlying price\n",
        "    Delta = np.zeros([N, N])  # delta\n",
        "\n",
        "    for i in range(0, N + 1):\n",
        "        S[N, i] = S_ini * (u ** (i)) * (d ** (N - i))\n",
        "        if option_type == \"C\":\n",
        "            C[N, i] = max(S[N, i] - K, 0)\n",
        "        else:\n",
        "            C[N, i] = max(K - S[N, i], 0)\n",
        "\n",
        "    for j in range(N - 1, -1, -1):\n",
        "        for i in range(0, j + 1):\n",
        "            C[j, i] = np.exp(-r * dt) * (\n",
        "                p * C[j + 1, i + 1] + (1 - p) * C[j + 1, i]\n",
        "            )  # Computing the European option prices\n",
        "            S[j, i] = (\n",
        "                S_ini * (u ** (i)) * (d ** (j - i))\n",
        "            )  # Underlying evolution for each node\n",
        "            if option_type == \"C\":\n",
        "                C[j, i] = max(\n",
        "                    C[j, i], S[j, i] - K\n",
        "                )  # Decision between the American option price and the payoff from early-exercise\n",
        "            else:\n",
        "                C[j, i] = max(\n",
        "                    C[j, i], K - S[j, i]\n",
        "                )  # Decision between the American option price and the payoff from early-exercise\n",
        "\n",
        "            Delta[j, i] = (C[j + 1, i + 1] - C[j + 1, i]) / (\n",
        "                S[j + 1, i + 1] - S[j + 1, i]\n",
        "            )  # Computing the delta for each node\n",
        "\n",
        "    return C[0, 0], C, S, Delta"
      ],
      "metadata": {
        "id": "udIJ1YiCnRSs"
      },
      "execution_count": 13,
      "outputs": []
    },
    {
      "cell_type": "code",
      "source": [
        "price, C, S, delta = american_option_delta(100, 100, 3/12, 0.05, 0.2, 100, \"C\")\n",
        "print(\"Delta for American Call Option:\", delta.round(4))"
      ],
      "metadata": {
        "colab": {
          "base_uri": "https://localhost:8080/",
          "height": 0
        },
        "id": "yagPovbMnbCM",
        "outputId": "cd6b2f7a-96a2-4906-e0d3-b871508f4c33"
      },
      "execution_count": 14,
      "outputs": [
        {
          "output_type": "stream",
          "name": "stdout",
          "text": [
            "Delta for American Call Option: [[0.5693 0.     0.     ... 0.     0.     0.    ]\n",
            " [0.529  0.6082 0.     ... 0.     0.     0.    ]\n",
            " [0.488  0.5686 0.6464 ... 0.     0.     0.    ]\n",
            " ...\n",
            " [0.     0.     0.     ... 1.     0.     0.    ]\n",
            " [0.     0.     0.     ... 1.     1.     0.    ]\n",
            " [0.     0.     0.     ... 1.     1.     1.    ]]\n"
          ]
        }
      ]
    },
    {
      "cell_type": "markdown",
      "source": [
        "Greek Delta for American Call Option is: 0.5693"
      ],
      "metadata": {
        "id": "B7KcauH3omKn"
      }
    },
    {
      "cell_type": "code",
      "source": [
        "price, C, S, delta = american_option_delta(100, 100, 3/12, 0.05, 0.2, 100, \"P\")\n",
        "print(\"Delta for American Put Option\", delta.round(4))"
      ],
      "metadata": {
        "colab": {
          "base_uri": "https://localhost:8080/",
          "height": 0
        },
        "id": "OlE7-wi0nyr3",
        "outputId": "8a107058-5697-486c-af3d-7ce09352aad2"
      },
      "execution_count": 15,
      "outputs": [
        {
          "output_type": "stream",
          "name": "stdout",
          "text": [
            "Delta for American Put Option [[-0.4498  0.      0.     ...  0.      0.      0.    ]\n",
            " [-0.4931 -0.4081  0.     ...  0.      0.      0.    ]\n",
            " [-0.5374 -0.4503 -0.3673 ...  0.      0.      0.    ]\n",
            " ...\n",
            " [-1.     -1.     -1.     ...  0.      0.      0.    ]\n",
            " [-1.     -1.     -1.     ...  0.      0.      0.    ]\n",
            " [-1.     -1.     -1.     ...  0.      0.      0.    ]]\n"
          ]
        }
      ]
    },
    {
      "cell_type": "markdown",
      "source": [
        "Greek Delta for American Put Option is: -0.4498"
      ],
      "metadata": {
        "id": "HrY9IVdaq5T0"
      }
    },
    {
      "cell_type": "markdown",
      "source": [
        "**Difference Between Delta for American Call & Put**: While the call option delta is positive (is between 0 and 1), the put option delta holds the reverse position. For a call option price that increases as stock price increase, it expected that its delta will be positive. On the other hand, the put price decreases as the stock price increases.\n",
        "\n",
        "The delta of an American option pricing helps to assess the position of underlying asset price with intent of minimizing the risks associated with the changes in the underlying stock price. Since early exercise is possible under American option pricing, the option prices become sensitive to changes in stock prices; delta helps us measure this sensitivity of the options to changes in underlying stock prices.\n",
        "\n"
      ],
      "metadata": {
        "id": "EOL_cMv3rJi5"
      }
    },
    {
      "cell_type": "markdown",
      "source": [
        "**10. American Call & Put Options Sensitivity to Volatility**"
      ],
      "metadata": {
        "id": "muNhAmTcr7eu"
      }
    },
    {
      "cell_type": "code",
      "source": [
        "# with sigma= 0.25, American Call Price\n",
        "american_call_price_new, C, S = binomial_tree_american_option(100, 100, 3/12, 0.05, 0.25, 100, \"C\")\n",
        "print(\" American Call Option Price:\", american_call_price_new.round(2))"
      ],
      "metadata": {
        "colab": {
          "base_uri": "https://localhost:8080/",
          "height": 0
        },
        "id": "45WKU_yHrIPJ",
        "outputId": "912c0710-e5b5-413e-eade-d7ec0f47941a"
      },
      "execution_count": 16,
      "outputs": [
        {
          "output_type": "stream",
          "name": "stdout",
          "text": [
            " American Call Option Price: 5.59\n"
          ]
        }
      ]
    },
    {
      "cell_type": "code",
      "source": [
        "# with sigma= 0.25, American Put Price\n",
        "american_put_price_new, C, S = binomial_tree_american_option(100, 100, 3/12, 0.05, 0.25, 100, \"P\")\n",
        "print(\" American Put Option Price:\", american_put_price_new.round(2))"
      ],
      "metadata": {
        "colab": {
          "base_uri": "https://localhost:8080/",
          "height": 0
        },
        "id": "4zX3bqD4t0HR",
        "outputId": "cd0ebd6c-e55e-4815-b3d0-fe937a287dea"
      },
      "execution_count": 17,
      "outputs": [
        {
          "output_type": "stream",
          "name": "stdout",
          "text": [
            " American Put Option Price: 4.45\n"
          ]
        }
      ]
    },
    {
      "cell_type": "code",
      "source": [
        "# Vega For American Call and Put\n",
        "american_call_vega = (american_call_price_new - american_call_price) / (sigma_new - sigma)\n",
        "american_put_vega = (american_put_price_new - american_put_price) / (sigma_new - sigma)\n",
        "print(f\"American Call Vega: {american_call_vega:.4f}\")\n",
        "print(f\"American Put Vega: {american_put_vega:.4f}\")"
      ],
      "metadata": {
        "colab": {
          "base_uri": "https://localhost:8080/",
          "height": 0
        },
        "id": "9ilSwCqG7Q7F",
        "outputId": "3e38cf79-feb2-4f25-8afb-80df5bfcf62b"
      },
      "execution_count": 18,
      "outputs": [
        {
          "output_type": "stream",
          "name": "stdout",
          "text": [
            "American Call Vega: 15.6156\n",
            "American Put Vega: 15.7254\n"
          ]
        }
      ]
    },
    {
      "cell_type": "markdown",
      "source": [
        "**11. European Put-Call Parity Graph**"
      ],
      "metadata": {
        "id": "M3XeX8xK18kL"
      }
    },
    {
      "cell_type": "code",
      "source": [
        "# Plot European Put-Call Parity Verification\n",
        "plt.figure(figsize=(10, 5))\n",
        "plt.bar([\"Call - Put\"], [european_call_price - european_put_price], label=\"C - P\")\n",
        "plt.bar([\"S0 - PV(K)\"], [S0 - K * np.exp(-r * T)], label=\"S0 - Ke^(-rT)\")\n",
        "plt.title(\"Put-Call Parity for European Options\")\n",
        "plt.legend()\n",
        "plt.show()"
      ],
      "metadata": {
        "colab": {
          "base_uri": "https://localhost:8080/",
          "height": 468
        },
        "id": "aj-KF7TiypkV",
        "outputId": "c8817444-034e-4712-fcb9-e63529485186"
      },
      "execution_count": 19,
      "outputs": [
        {
          "output_type": "display_data",
          "data": {
            "text/plain": [
              "<Figure size 1000x500 with 1 Axes>"
            ],
            "image/png": "[encoded data removed]"
          },
          "metadata": {}
        }
      ]
    },
    {
      "cell_type": "markdown",
      "source": [
        "**12. American Put-Call Parity Graph**"
      ],
      "metadata": {
        "id": "HYbWpfC52hhx"
      }
    },
    {
      "cell_type": "code",
      "source": [
        " S_ini_ = 100\n",
        " K = 100\n",
        "#Plot American Put-Call Parity Verification\n",
        "plt.figure(figsize=(10, 5))\n",
        "plt.bar([\"Call - Put\"], [american_call_price - american_put_price], label=\"C - P\")\n",
        "plt.bar([\"S_ini_ - PV(K)\"], [S_ini_ - K * np.exp(-r * T)], label=\"S_ini - Ke^(-rT)\")\n",
        "plt.title(\"Put-Call Parity for American Options\")\n",
        "plt.legend()\n",
        "plt.show()"
      ],
      "metadata": {
        "colab": {
          "base_uri": "https://localhost:8080/",
          "height": 468
        },
        "id": "qbtQKbnW2q2M",
        "outputId": "72c82c6b-4278-4521-f4ef-c9ee1ece4692"
      },
      "execution_count": 20,
      "outputs": [
        {
          "output_type": "display_data",
          "data": {
            "text/plain": [
              "<Figure size 1000x500 with 1 Axes>"
            ],
            "image/png": "[encoded data removed]"
          },
          "metadata": {}
        }
      ]
    },
    {
      "cell_type": "markdown",
      "source": [
        "Put-Call Parity does not hold for American Options:\n",
        "\n",
        "Reason:\n",
        "\n",
        "- Early Exercise flexibility: The ability to exercise option before expiration  increases the value for both call and put options and in turn alters the balance of the parity equation (as shown in the Fig 2 above) creating an opportunity for arbitrage.\n",
        "\n",
        "- Intermittent dividend adjustments: Dividend paying stocks tend to optimize the value of American call because of early exercise. Additionally, payment of dividends reduces the underlying stock price, alters parity equilibrium and consequently gives room for arbitrage"
      ],
      "metadata": {
        "id": "zn6mtZUVDWqb"
      }
    },
    {
      "cell_type": "markdown",
      "source": [
        "**13. European Call vs American call**"
      ],
      "metadata": {
        "id": "ckZexYniHmWJ"
      }
    },
    {
      "cell_type": "code",
      "source": [
        "# confirm difference between European call and American Call\n",
        "european_call_price <= american_call_price"
      ],
      "metadata": {
        "colab": {
          "base_uri": "https://localhost:8080/",
          "height": 0
        },
        "id": "UgWnUY47H09P",
        "outputId": "4699db5b-f1bd-4246-da7b-207ef562dc45"
      },
      "execution_count": 21,
      "outputs": [
        {
          "output_type": "execute_result",
          "data": {
            "text/plain": [
              "False"
            ]
          },
          "metadata": {},
          "execution_count": 21
        }
      ]
    },
    {
      "cell_type": "code",
      "source": [
        "# European-American Call difference\n",
        "european_american_call_diff = european_call_price - american_call_price\n",
        "european_american_call_diff"
      ],
      "metadata": {
        "colab": {
          "base_uri": "https://localhost:8080/",
          "height": 0
        },
        "id": "LhYDSxbEOLpH",
        "outputId": "b578e999-3109-4aab-b8ce-13dc247f001e"
      },
      "execution_count": 22,
      "outputs": [
        {
          "output_type": "execute_result",
          "data": {
            "text/plain": [
              "0.9759735077054357"
            ]
          },
          "metadata": {},
          "execution_count": 22
        }
      ]
    },
    {
      "cell_type": "markdown",
      "source": [
        "Unfortunately, in this case, the European call option is greater than American call option. This might have been due to market inefficiences improper market valuation of European call or trading constraints on the flexibility of early exercise of American call options. In the real world setting, transaction costs, bid-asks spread and illiquidity could also impact on trading efficencies of the underlying stock"
      ],
      "metadata": {
        "id": "COPwJZokOcpW"
      }
    },
    {
      "cell_type": "markdown",
      "source": [
        "**14. European Put vs American Put**"
      ],
      "metadata": {
        "id": "HyVt7sUPP049"
      }
    },
    {
      "cell_type": "code",
      "source": [
        "# confirm difference between European put and American put\n",
        "european_put_price <= american_put_price"
      ],
      "metadata": {
        "colab": {
          "base_uri": "https://localhost:8080/",
          "height": 0
        },
        "id": "DHijIPQ2QGeH",
        "outputId": "3994e72c-4e1b-4089-efb3-8ae84cd5417f"
      },
      "execution_count": 23,
      "outputs": [
        {
          "output_type": "execute_result",
          "data": {
            "text/plain": [
              "False"
            ]
          },
          "metadata": {},
          "execution_count": 23
        }
      ]
    },
    {
      "cell_type": "code",
      "source": [
        "# European-American Put difference\n",
        "european_american_put_diff = european_put_price - american_put_price\n",
        "european_american_put_diff"
      ],
      "metadata": {
        "colab": {
          "base_uri": "https://localhost:8080/",
          "height": 0
        },
        "id": "3U2u09jWQZkw",
        "outputId": "b2254814-6ef3-45de-ce9e-49a7555df899"
      },
      "execution_count": 24,
      "outputs": [
        {
          "output_type": "execute_result",
          "data": {
            "text/plain": [
              "0.8737535570945929"
            ]
          },
          "metadata": {},
          "execution_count": 24
        }
      ]
    },
    {
      "cell_type": "markdown",
      "source": [
        "The conventional rule of European Put being less than or equal to the American Put does not hold in this case either.\n",
        "\n",
        "This could be due to dividend impact on early exercise. American put options can be impacted by dividend payouts and stock volatility- resulting in potential increases in underlying stock prices.\n",
        "\n",
        "Low interest rates or no immediate put payoff: could cause option investors to value European option more than American put options"
      ],
      "metadata": {
        "id": "Yuyo86PnRQrx"
      }
    },
    {
      "cell_type": "markdown",
      "source": [
        "# **Step 2 : Trinomial Model**"
      ],
      "metadata": {
        "id": "KcnMzILQ7qV0"
      }
    },
    {
      "cell_type": "markdown",
      "source": [
        "**15. European Trimonial Call**"
      ],
      "metadata": {
        "id": "or4ElOQb8wS1"
      }
    },
    {
      "cell_type": "markdown",
      "source": [
        "\n",
        "**Parameters**\n",
        "\n",
        "- S_ini_ = 100$       (Initial stock price)\n",
        "\n",
        "- For Deep ITM: we will consider moneyness (K/S_ini_) of **90%**. (i.e **K = 90**)\n",
        "\n",
        "- For ITM : we will consider moneyness (K/S_ini_) of **95%** (i.e **K = 95**)\n",
        "\n",
        "- ATM: K = S_ini_ = **100**\n",
        "\n",
        "- For OTM: we will consider moneyness (K/S_ini_) of **105%**. (i.e **K = 105**)\n",
        "\n",
        "- For Deep OTM: we will consider moneyness (K/S_ini_) of **125%** (i.e **K = 110**)\n",
        "\n",
        "**Parameters**\n",
        "\n",
        "- $S_ini_ = 100$       (Initial stock price)\n",
        "\n",
        "- For Deep OTM: we will consider moneyness (K/S_ini_) of **90%**. (i.e **K = 90**)\n",
        "\n",
        "- For OTM : we will consider moneyness (K/S_ini_) of **95%** (i.e **K = 95**)\n",
        "\n",
        "- ATM: K = S_ini_ = **100**\n",
        "\n",
        "- For ITM: we will consider moneyness (K/S_ini_) of **105%**. (i.e **K = 105**)\n",
        "\n",
        "- For Deep ITM: we will consider moneyness (K/S_ini_) of **110%** (i.e **K = 110**)\n",
        "\n",
        "\n",
        "\n",
        "\n",
        "\n",
        "- $r = 0.05$       (Risk-free rate)\n",
        "- $sigma = 0.20$   (Volatility)\n",
        "- $T = 3 / 12$      (Time to expiration in years (3 months))\n",
        "- $N = 100$  (Number of steps in trinomial tree)\n"
      ],
      "metadata": {
        "id": "tsMpX_gV9Vim"
      }
    },
    {
      "cell_type": "code",
      "source": [
        "def _gen_stock_vec(N, h):\n",
        "    S_ini_ = 100\n",
        "    sigma = 0.2\n",
        "    up = np.exp(sigma * np.sqrt(2 * h))\n",
        "    down = 1 / up  # down movement to force a \"recombining tree\"\n",
        "\n",
        "    vec_u = up * np.ones(N)\n",
        "    np.cumprod(vec_u, out=vec_u)  # Computing u, u^2, u^3....u^nb\n",
        "\n",
        "    vec_d = down * np.ones(N)\n",
        "    np.cumprod(vec_d, out=vec_d)  # Computing d, d^2, d^3....d^nb\n",
        "\n",
        "    res = np.concatenate(\n",
        "        (vec_d[::-1], [1.0], vec_u)\n",
        "    )  # putting together the last period tree underlyings\n",
        "    res *= S_ini_\n",
        "    return res"
      ],
      "metadata": {
        "id": "75Iu8X179nXc"
      },
      "execution_count": 25,
      "outputs": []
    },
    {
      "cell_type": "code",
      "source": [
        "def trinomial_euro_call(\n",
        "    N_steps,\n",
        "):  # For now, the only input to the function is the number of steps for the tree, N.\n",
        "    # Define parameters\n",
        "    r = 0.05\n",
        "    sigma = 0.20\n",
        "    T = 3/12\n",
        "\n",
        "    h = T / N_steps  # This would be our 'dt' from previous examples\n",
        "    discount = np.exp(-r * h)  # Define discount factor for simplicity later on\n",
        "\n",
        "    # Define risk-neutral probabilities:\n",
        "    pu = (\n",
        "        (np.exp(r * h / 2) - np.exp(-sigma * np.sqrt(h / 2)))\n",
        "        / (np.exp(sigma * np.sqrt(h / 2)) - np.exp(-sigma * np.sqrt(h / 2)))\n",
        "    ) ** 2\n",
        "    pd = (\n",
        "        (-np.exp(r * h / 2) + np.exp(sigma * np.sqrt(h / 2)))\n",
        "        / (np.exp(sigma * np.sqrt(h / 2)) - np.exp(-sigma * np.sqrt(h / 2)))\n",
        "    ) ** 2\n",
        "    pm = 1 - pu - pd\n",
        "    print(pu, pd, pm)\n",
        "    # This would be our underlying evolution (Note we are using the function from before!)\n",
        "    S = _gen_stock_vec(N_steps, h)\n",
        "\n",
        "    # Define Payoff (in this case, European Call Option)\n",
        "    final_payoff = np.maximum(S - K, 0)\n",
        "    nxt_vec_prices = final_payoff\n",
        "\n",
        "    # Proceed with iterations for the calculation of payoffs\n",
        "    for i in range(1, N_steps + 1):\n",
        "        vec_stock = _gen_stock_vec(N_steps - i, h)\n",
        "        expectation = np.zeros(vec_stock.size)\n",
        "\n",
        "        for j in range(expectation.size):\n",
        "            tmp = nxt_vec_prices[j] * pd\n",
        "            tmp += nxt_vec_prices[j + 1] * pm\n",
        "            tmp += nxt_vec_prices[j + 2] * pu\n",
        "\n",
        "            expectation[j] = tmp\n",
        "        # Discount option payoff!\n",
        "        nxt_vec_prices = discount * expectation\n",
        "\n",
        "    return nxt_vec_prices[\n",
        "        0\n",
        "    ]  # Notice here we only 'return' the expected discounted value of the option at t=0, that is, the price of the call option!"
      ],
      "metadata": {
        "id": "eMgN92Ai96Vf"
      },
      "execution_count": 26,
      "outputs": []
    },
    {
      "cell_type": "code",
      "source": [
        "euro_call_array = []\n",
        "for K in [90, 95, 100, 105, 110]:\n",
        "    euro_call_price = trinomial_euro_call(100)\n",
        "    euro_call_array.append(euro_call_price)\n",
        "\n",
        "    print(\"With K = {:3d}, the price is {:.2f}\".format(K, euro_call_price))"
      ],
      "metadata": {
        "colab": {
          "base_uri": "https://localhost:8080/",
          "height": 0
        },
        "id": "x1wOgxPZ-MTT",
        "outputId": "d358a482-7583-46ad-f374-ce306dbd049a"
      },
      "execution_count": 27,
      "outputs": [
        {
          "output_type": "stream",
          "name": "stdout",
          "text": [
            "0.25265879090156346 0.24735527275082417 0.49998593634761246\n",
            "With K =  90, the price is 11.67\n",
            "0.25265879090156346 0.24735527275082417 0.49998593634761246\n",
            "With K =  95, the price is 7.72\n",
            "0.25265879090156346 0.24735527275082417 0.49998593634761246\n",
            "With K = 100, the price is 4.61\n",
            "0.25265879090156346 0.24735527275082417 0.49998593634761246\n",
            "With K = 105, the price is 2.48\n",
            "0.25265879090156346 0.24735527275082417 0.49998593634761246\n",
            "With K = 110, the price is 1.19\n"
          ]
        }
      ]
    },
    {
      "cell_type": "markdown",
      "source": [
        "Call Price:\n",
        "\n",
        "- When Deep ITM  = 11.67\n",
        "- When ITM = 7.73\n",
        "- When ATM = 4.61\n",
        "- When OTM = 2.48\n",
        "- When Deep OTM = 1.19\n",
        "\n",
        "\n",
        "From the above, it is observed that call option decreases (less valuable) as we move from deep ITM to deep OTM. In terms of Moneyness: as moneyness increases for 90% to 110%. call option declines in value.\n",
        "\n",
        "This also implies that when a call option is deep ITM, the stock price is higher than the strike price, if the stock were to remain as such until the expiration, the holder's would definitely exercise the option at expiration. On the other hand, when a option is deep OTM, the strike price is significantly greater than the stock price, hence, option holder will not exercise option at maturity.\n"
      ],
      "metadata": {
        "id": "rurXa7ev_n9u"
      }
    },
    {
      "cell_type": "markdown",
      "source": [
        "**16. European Trinomial Put**"
      ],
      "metadata": {
        "id": "NjHhAC3bAOPF"
      }
    },
    {
      "cell_type": "markdown",
      "source": [
        "**Parameters**\n",
        "\n",
        "- $S_ini_ = 100$       (Initial stock price)\n",
        "\n",
        "- For Deep OTM: we will consider moneyness (K/S_ini_) of **90%**. (i.e **K = 90**)\n",
        "\n",
        "- For OTM : we will consider moneyness (K/S_ini_) of **95%** (i.e **K = 95**)\n",
        "\n",
        "- ATM: K = S_ini_ = **100**\n",
        "\n",
        "- For ITM: we will consider moneyness (K/S_ini_) of **105%**. (i.e **K = 105**)\n",
        "\n",
        "- For Deep ITM: we will consider moneyness (K/S_ini_) of **110%** (i.e **K = 110**)\n",
        "\n",
        "\n",
        "\n",
        "\n",
        "\n",
        "- $r = 0.05$       (Risk-free rate)\n",
        "- $sigma = 0.20$   (Volatility)\n",
        "- $T = 3 / 12$      (Time to expiration in years (3 months))\n",
        "- $N = 100$  (Number of steps in the trinomial tree)"
      ],
      "metadata": {
        "id": "taQayR2rAZj9"
      }
    },
    {
      "cell_type": "code",
      "source": [
        "def _gen_stock_vec(N, h):\n",
        "    S_ini_ = 100\n",
        "    sigma = 0.2\n",
        "    up = np.exp(sigma * np.sqrt(2 * h))\n",
        "    down = 1 / up  # down movement to force a \"recombining tree\"\n",
        "\n",
        "    vec_u = up * np.ones(N)\n",
        "    np.cumprod(vec_u, out=vec_u)  # Computing u, u^2, u^3....u^nb\n",
        "\n",
        "    vec_d = down * np.ones(N)\n",
        "    np.cumprod(vec_d, out=vec_d)  # Computing d, d^2, d^3....d^nb\n",
        "\n",
        "    res = np.concatenate(\n",
        "        (vec_d[::-1], [1.0], vec_u)\n",
        "    )  # putting together the last period tree underlyings\n",
        "    res *= S_ini_\n",
        "    return res"
      ],
      "metadata": {
        "id": "O5i96OgB-Uh0"
      },
      "execution_count": 28,
      "outputs": []
    },
    {
      "cell_type": "code",
      "source": [
        "def trinomial_euro_put(\n",
        "    N_steps,\n",
        "):  # For now, the only input to the function is the number of steps for the tree, N.\n",
        "    # Define parameters\n",
        "    r = 0.05\n",
        "    sigma = 0.20\n",
        "    T = 3/12\n",
        "\n",
        "    h = T / N_steps  # This would be our 'dt' from previous examples\n",
        "    discount = np.exp(-r * h)  # Define discount factor for simplicity later on\n",
        "\n",
        "    # Define risk-neutral probabilities:\n",
        "    pu = (\n",
        "        (np.exp(r * h / 2) - np.exp(-sigma * np.sqrt(h / 2)))\n",
        "        / (np.exp(sigma * np.sqrt(h / 2)) - np.exp(-sigma * np.sqrt(h / 2)))\n",
        "    ) ** 2\n",
        "    pd = (\n",
        "        (-np.exp(r * h / 2) + np.exp(sigma * np.sqrt(h / 2)))\n",
        "        / (np.exp(sigma * np.sqrt(h / 2)) - np.exp(-sigma * np.sqrt(h / 2)))\n",
        "    ) ** 2\n",
        "    pm = 1 - pu - pd\n",
        "    print(pu, pd, pm)\n",
        "    # This would be our underlying evolution (Note we are using the function from before!)\n",
        "    S = _gen_stock_vec(N_steps, h)\n",
        "\n",
        "    # Define Payoff (in this case, European Put Option)\n",
        "    final_payoff = np.maximum(K - S, 0)\n",
        "    nxt_vec_prices = final_payoff\n",
        "\n",
        "    # Proceed with iterations for the calculation of payoffs\n",
        "    for i in range(1, N_steps + 1):\n",
        "        vec_stock = _gen_stock_vec(N_steps - i, h)\n",
        "        expectation = np.zeros(vec_stock.size)\n",
        "\n",
        "        for j in range(expectation.size):\n",
        "            tmp = nxt_vec_prices[j] * pd\n",
        "            tmp += nxt_vec_prices[j + 1] * pm\n",
        "            tmp += nxt_vec_prices[j + 2] * pu\n",
        "\n",
        "            expectation[j] = tmp\n",
        "        # Discount option payoff!\n",
        "        nxt_vec_prices = discount * expectation\n",
        "\n",
        "    return nxt_vec_prices[\n",
        "        0\n",
        "    ]  # Notice here we only 'return' the expected discounted value of the option at t=0, that is, the price of the call option!"
      ],
      "metadata": {
        "id": "kif4LqJ8As2T"
      },
      "execution_count": 29,
      "outputs": []
    },
    {
      "cell_type": "code",
      "source": [
        "euro_put_array = []\n",
        "for K in [90, 95, 100, 105, 110]:\n",
        "    euro_put_price = trinomial_euro_put(100)\n",
        "    euro_put_array.append(euro_put_price)\n",
        "    print(\"With K = {:3d}, the price is {:.2f}\".format(K, euro_put_price))"
      ],
      "metadata": {
        "colab": {
          "base_uri": "https://localhost:8080/",
          "height": 0
        },
        "id": "ScZkeEsYBB34",
        "outputId": "cd65f1f8-6563-4675-90c6-6cf5da159a69"
      },
      "execution_count": 30,
      "outputs": [
        {
          "output_type": "stream",
          "name": "stdout",
          "text": [
            "0.25265879090156346 0.24735527275082417 0.49998593634761246\n",
            "With K =  90, the price is 0.55\n",
            "0.25265879090156346 0.24735527275082417 0.49998593634761246\n",
            "With K =  95, the price is 1.54\n",
            "0.25265879090156346 0.24735527275082417 0.49998593634761246\n",
            "With K = 100, the price is 3.37\n",
            "0.25265879090156346 0.24735527275082417 0.49998593634761246\n",
            "With K = 105, the price is 6.18\n",
            "0.25265879090156346 0.24735527275082417 0.49998593634761246\n",
            "With K = 110, the price is 9.83\n"
          ]
        }
      ]
    },
    {
      "cell_type": "markdown",
      "source": [
        "Put Price:\n",
        "\n",
        "- When Deep OTM  = 0.55\n",
        "- When OTM = 1.54\n",
        "- When ATM = 3.37\n",
        "- When ITM = 6.18\n",
        "- When Deep ITM = 9.83\n",
        "\n",
        "\n",
        "From the above, it is observed that put option decreases (less valuable) as we move for deep ITM to deep OTM. In terms of Moneyness: as moneyness increases for 90% to 110%, put option increases in value.\n",
        "\n",
        "This also implies that when a put option is deep ITM, the stock price is lower than the strike price. If the stock price were to remain as such until option expiration, the holder would definitely exercise the option at expiration. On the other hand, when a option is deep OTM, the strike price is significantly lower than the stock price, hence, option holder will not exercise option at maturity."
      ],
      "metadata": {
        "id": "k63v6KjYBObU"
      }
    },
    {
      "cell_type": "markdown",
      "source": [
        "**17. American Trinomial Call**"
      ],
      "metadata": {
        "id": "qFS8sTnXB-Q4"
      }
    },
    {
      "cell_type": "markdown",
      "source": [
        "**Parameters**\n",
        "\n",
        "- $S_ini_ = 100$       (Initial stock price)\n",
        "\n",
        "- For Deep ITM: we will consider moneyness (K/S_ini_) of **90%**. (i.e **K = 90**)\n",
        "\n",
        "- For ITM : we will consider moneyness (K/S_ini_) of **95%** (i.e **K = 95**)\n",
        "\n",
        "- ATM: K = S_ini_ = **100**\n",
        "\n",
        "- For OTM: we will consider moneyness (K/S_ini_) of **105%**. (i.e **K = 105**)\n",
        "\n",
        "- For Deep OTM: we will consider moneyness (K/S_ini_) of **110%** (i.e **K = 110**)\n",
        "\n",
        "\n",
        "\n",
        "\n",
        "\n",
        "- $r = 0.05$       (Risk-free rate)\n",
        "- $sigma = 0.20$   (Volatility)\n",
        "- $T = 3 / 12$      (Time to expiration in years (3 months))\n",
        "- $N = 100$  (Number of steps for trinomial tree)"
      ],
      "metadata": {
        "id": "TNSDaVtB9gmj"
      }
    },
    {
      "cell_type": "code",
      "source": [
        "def _gen_stock_vec(N, h):\n",
        "    S_ini_ = 100\n",
        "    sigma = 0.2\n",
        "    up = np.exp(sigma * np.sqrt(2 * h))\n",
        "    down = 1 / up  # down movement to force a \"recombining tree\"\n",
        "\n",
        "    vec_u = up * np.ones(N)\n",
        "    np.cumprod(vec_u, out=vec_u)  # Computing u, u^2, u^3....u^nb\n",
        "\n",
        "    vec_d = down * np.ones(N)\n",
        "    np.cumprod(vec_d, out=vec_d)  # Computing d, d^2, d^3....d^nb\n",
        "\n",
        "    res = np.concatenate(\n",
        "        (vec_d[::-1], [1.0], vec_u)\n",
        "    )  # putting together the last period tree underlyings\n",
        "    res *= S_ini_\n",
        "    return res"
      ],
      "metadata": {
        "id": "xC9G0-NHCora"
      },
      "execution_count": 31,
      "outputs": []
    },
    {
      "cell_type": "code",
      "source": [
        "def trinomial_american_call(\n",
        "    N_steps\n",
        "):  # For now, the only input to the function is the number of steps for the tree, N.\n",
        "    # Define parameters\n",
        "    r = 0.05\n",
        "    sigma = 0.20\n",
        "    T = 3/12\n",
        "\n",
        "    h = T / N_steps  # This would be our 'dt' from previous examples\n",
        "    discount = np.exp(-r * h)  # Define discount factor for simplicity later on\n",
        "\n",
        "    # Define risk-neutral probabilities:\n",
        "    pu = (\n",
        "        (np.exp(r * h / 2) - np.exp(-sigma * np.sqrt(h / 2)))\n",
        "        / (np.exp(sigma * np.sqrt(h / 2)) - np.exp(-sigma * np.sqrt(h / 2)))\n",
        "    ) ** 2\n",
        "    pd = (\n",
        "        (-np.exp(r * h / 2) + np.exp(sigma * np.sqrt(h / 2)))\n",
        "        / (np.exp(sigma * np.sqrt(h / 2)) - np.exp(-sigma * np.sqrt(h / 2)))\n",
        "    ) ** 2\n",
        "    pm = 1 - pu - pd\n",
        "    print(pu, pd, pm)\n",
        "    # This would be our underlying evolution (Note we are using the function from before!)\n",
        "    S = _gen_stock_vec(N_steps, h)\n",
        "\n",
        "\n",
        "    # Define Payoff\n",
        "    final_payoff = np.maximum(S - K, 0)\n",
        "    nxt_vec_prices = final_payoff\n",
        "\n",
        "    # Proceed with iterations for the calculation of payoffs\n",
        "    for i in range(1, N_steps + 1):\n",
        "        vec_stock = _gen_stock_vec(N_steps - i, h)\n",
        "        expectation = np.zeros(vec_stock.size)\n",
        "\n",
        "        for j in range(expectation.size):\n",
        "            tmp = nxt_vec_prices[j] * pd\n",
        "            tmp += nxt_vec_prices[j + 1] * pm\n",
        "            tmp += nxt_vec_prices[j + 2] * pu\n",
        "\n",
        "            expectation[j] = tmp\n",
        "        # Discount option payoff! (for American Call Option)\n",
        "            nxt_vec_prices = np.maximum(final_payoff, discount * tmp)\n",
        "\n",
        "\n",
        "    return nxt_vec_prices[\n",
        "        0\n",
        "    ]  # Notice here we only 'return' the expected discounted value of the option at t=0, that is, the price of the call option!"
      ],
      "metadata": {
        "id": "IcUnpFrICuLS"
      },
      "execution_count": 32,
      "outputs": []
    },
    {
      "cell_type": "code",
      "source": [
        "american_call_array = []\n",
        "for K in [90, 95, 100, 105, 110]:\n",
        "    american_call_price = trinomial_american_call(100)\n",
        "    american_call_array.append(american_call_price)\n",
        "    print(\"With K = {:3d}, the price is {:.2f}\".format(K, american_call_price))"
      ],
      "metadata": {
        "colab": {
          "base_uri": "https://localhost:8080/",
          "height": 0
        },
        "id": "qtejPd4oDFef",
        "outputId": "251ca1c9-2a18-432d-ae46-1bc688460f0e"
      },
      "execution_count": 33,
      "outputs": [
        {
          "output_type": "stream",
          "name": "stdout",
          "text": [
            "0.25265879090156346 0.24735527275082417 0.49998593634761246\n",
            "With K =  90, the price is 92.83\n",
            "0.25265879090156346 0.24735527275082417 0.49998593634761246\n",
            "With K =  95, the price is 91.36\n",
            "0.25265879090156346 0.24735527275082417 0.49998593634761246\n",
            "With K = 100, the price is 89.88\n",
            "0.25265879090156346 0.24735527275082417 0.49998593634761246\n",
            "With K = 105, the price is 88.40\n",
            "0.25265879090156346 0.24735527275082417 0.49998593634761246\n",
            "With K = 110, the price is 86.92\n"
          ]
        }
      ]
    },
    {
      "cell_type": "markdown",
      "source": [
        "Call Price:\n",
        "\n",
        "- When Deep ITM  = 92.83\n",
        "- When ITM = 91.86\n",
        "- when ATM = 89.88\n",
        "- when OTM = 88.40\n",
        "- when Deep OTM = 86.92\n",
        "\n",
        "\n",
        "For the above, it is observed that call option decreases in value as we move from deep ITM to deep OTM. In terms of Moneyness: as moneyness increases for 90% to 110%. call option decreases in value.\n",
        "\n",
        "This also implies that when a call option is deep ITM, the stock price is higher than the strike price, if the stock price was to spike astronomically, the holder might decide to exercise the option before expiration. However, the holder must critically compare the option price with stock value before deciding. On the other hand, when a call option is deep OTM, the strike price is significantly greater than the stock price, hence, option holder will not exercise option.\n",
        "\n",
        "Simply put, as the strike increases, the call option value decreases."
      ],
      "metadata": {
        "id": "qkHkWs4QDf20"
      }
    },
    {
      "cell_type": "markdown",
      "source": [
        "**18. American Trinomial Put**"
      ],
      "metadata": {
        "id": "sCph9bftDr9r"
      }
    },
    {
      "cell_type": "markdown",
      "source": [
        "**Parameters**\n",
        "\n",
        "- $S_ini_ = 100$       (Initial stock price)\n",
        "\n",
        "- For Deep OTM: we will consider moneyness (K/S_ini_) of **90%**. (i.e **K = 90**)\n",
        "\n",
        "- For OTM : we will consider moneyness (K/S_ini_) of **95%** (i.e **K = 95**)\n",
        "\n",
        "- ATM: K = S_ini_ = **100**\n",
        "\n",
        "- For ITM: we will consider moneyness (K/S_ini_) of **105%**. (i.e **K = 105**)\n",
        "\n",
        "- For Deep ITM: we will consider moneyness (K/S_ini_) of **110%** (i.e **K = 110**)\n",
        "\n",
        "\n",
        "\n",
        "\n",
        "\n",
        "- $r = 0.05$       (Risk-free rate)\n",
        "- $sigma = 0.20$   (Volatility)\n",
        "- $T = 3 / 12$      (Time to expiration in years (3 months))\n",
        "- $N = 100$  (Number of steps for trinomial tree)"
      ],
      "metadata": {
        "id": "vFEcgXxkD9ws"
      }
    },
    {
      "cell_type": "code",
      "source": [
        "def trinomial_american_put(\n",
        "    N_steps\n",
        "):  # For now, the only input to the function is the number of steps for the tree, N.\n",
        "    # Define parameters\n",
        "    r = 0.05\n",
        "    sigma = 0.20\n",
        "    T = 3/12\n",
        "\n",
        "    h = T / N_steps  # This would be our 'dt' from previous examples\n",
        "    discount = np.exp(-r * h)  # Define discount factor for simplicity later on\n",
        "\n",
        "    # Define risk-neutral probabilities:\n",
        "    pu = (\n",
        "        (np.exp(r * h / 2) - np.exp(-sigma * np.sqrt(h / 2)))\n",
        "        / (np.exp(sigma * np.sqrt(h / 2)) - np.exp(-sigma * np.sqrt(h / 2)))\n",
        "    ) ** 2\n",
        "    pd = (\n",
        "        (-np.exp(r * h / 2) + np.exp(sigma * np.sqrt(h / 2)))\n",
        "        / (np.exp(sigma * np.sqrt(h / 2)) - np.exp(-sigma * np.sqrt(h / 2)))\n",
        "    ) ** 2\n",
        "    pm = 1 - pu - pd\n",
        "    print(pu, pd, pm)\n",
        "    # This would be our underlying evolution (Note we are using the function from before!)\n",
        "    S = _gen_stock_vec(N_steps, h)\n",
        "\n",
        "    # Define Payoff\n",
        "    final_payoff = np.maximum(K - S, 0)\n",
        "    nxt_vec_prices = final_payoff\n",
        "\n",
        "    # Proceed with iterations for the calculation of payoffs\n",
        "    for i in range(1, N_steps + 1):\n",
        "        vec_stock = _gen_stock_vec(N_steps - i, h)\n",
        "        expectation = np.zeros(vec_stock.size)\n",
        "\n",
        "        for j in range(expectation.size):\n",
        "            tmp = nxt_vec_prices[j] * pd\n",
        "            tmp += nxt_vec_prices[j + 1] * pm\n",
        "            tmp += nxt_vec_prices[j + 2] * pu\n",
        "\n",
        "            expectation[j] = tmp\n",
        "        # Discount option payoff!(for American Put Option)\n",
        "            nxt_vec_prices = np.maximum(final_payoff, discount * tmp)\n",
        "\n",
        "    return nxt_vec_prices[\n",
        "        0\n",
        "    ] # Notice here we only 'return' the expected discounted value of the option at t=0, that is, the price of the put option!"
      ],
      "metadata": {
        "id": "rWXK1pJYDen8"
      },
      "execution_count": 34,
      "outputs": []
    },
    {
      "cell_type": "code",
      "source": [
        "american_put_array = []\n",
        "for K in [90, 95, 100, 105, 110]:\n",
        "    american_put_price = trinomial_american_put(100)\n",
        "    american_put_array.append(american_put_price)\n",
        "    print(\"With K = {:3d}, the price is {:.2f}\".format(K, american_put_price))"
      ],
      "metadata": {
        "colab": {
          "base_uri": "https://localhost:8080/",
          "height": 0
        },
        "id": "xP_65h4CE8C2",
        "outputId": "3a5abfc1-7a07-45be-e798-ccd3a516de65"
      },
      "execution_count": 35,
      "outputs": [
        {
          "output_type": "stream",
          "name": "stdout",
          "text": [
            "0.25265879090156346 0.24735527275082417 0.49998593634761246\n",
            "With K =  90, the price is 65.69\n",
            "0.25265879090156346 0.24735527275082417 0.49998593634761246\n",
            "With K =  95, the price is 70.69\n",
            "0.25265879090156346 0.24735527275082417 0.49998593634761246\n",
            "With K = 100, the price is 75.69\n",
            "0.25265879090156346 0.24735527275082417 0.49998593634761246\n",
            "With K = 105, the price is 80.69\n",
            "0.25265879090156346 0.24735527275082417 0.49998593634761246\n",
            "With K = 110, the price is 85.69\n"
          ]
        }
      ]
    },
    {
      "cell_type": "markdown",
      "source": [
        "Put Price:\n",
        "\n",
        "- When Deep OTM  = 65.69\n",
        "- When OTM = 70.69\n",
        "- When ATM = 75.69\n",
        "- When ITM = 80.69\n",
        "- When Deep ITM = 85.69\n",
        "\n",
        "\n",
        "From the above, it is observed that put option decreases (becomes less valuable) as we move for deep ITM to deep OTM. In terms of Moneyness: as moneyness increases for 90% to 110%, put option increases in value.\n",
        "\n",
        "This also implies that when a put option is deep ITM, the stock price is lower than the strike price, hence it is advisable for the to exercise option immediately as option's price is basically it's payoff. On the other hand, when a option is deep OTM, the strike price is significantly lower than the stock price, hence, option holder will not exercise option.\n",
        "\n",
        "Simply put, the higher the strike, the higher the potential for the put option to get deep ITM. The american put option is more valuable and optimal when deep ITM."
      ],
      "metadata": {
        "id": "f8180DCJE09v"
      }
    },
    {
      "cell_type": "markdown",
      "source": [
        "**Trinomial Tree Graphs**"
      ],
      "metadata": {
        "id": "1oT1_g-tFV8Y"
      }
    },
    {
      "cell_type": "code",
      "source": [
        "# libraries\n",
        "from mpl_toolkits import mplot3d\n",
        "import matplotlib.pyplot as plt"
      ],
      "metadata": {
        "id": "nByPP1-CFrpk"
      },
      "execution_count": 36,
      "outputs": []
    },
    {
      "cell_type": "markdown",
      "source": [
        "***Following Martingale's Principle: S = S_ini_ (Future value of stock = Current value of stock) =\n",
        "100***"
      ],
      "metadata": {
        "id": "e3MMfpyfF8Xs"
      }
    },
    {
      "cell_type": "markdown",
      "source": [
        "**19. European Trinomial for Calls, Puts & Stock Prices**"
      ],
      "metadata": {
        "id": "AtHrV1NOFffg"
      }
    },
    {
      "cell_type": "code",
      "source": [
        "# compile list of arrays\n",
        "strike_prices = np.array([90, 95, 100, 105, 110])\n",
        "stock_prices = np.array([100, 100, 100, 100, 100])\n",
        "# convert array into dataframe\n",
        "euro_raw_data = pd.DataFrame([euro_call_array, euro_put_array, stock_prices, strike_prices])\n",
        "euro_data = euro_raw_data.transpose()"
      ],
      "metadata": {
        "id": "nw6iz-XHGqLt"
      },
      "execution_count": 37,
      "outputs": []
    },
    {
      "cell_type": "code",
      "source": [
        "euro_data.columns = [\"Euro_call_price\", \"Euro_put_price\", \"Stock_price\", \"Strike_price\"]\n",
        "euro_data.round(2)"
      ],
      "metadata": {
        "colab": {
          "base_uri": "https://localhost:8080/",
          "height": 206
        },
        "id": "R9OjxUeqHB-s",
        "outputId": "46fe878f-8cee-4075-f47f-4f2a9f2019b9"
      },
      "execution_count": 38,
      "outputs": [
        {
          "output_type": "execute_result",
          "data": {
            "text/plain": [
              "   Euro_call_price  Euro_put_price  Stock_price  Strike_price\n",
              "0            11.67            0.55        100.0          90.0\n",
              "1             7.72            1.54        100.0          95.0\n",
              "2             4.61            3.37        100.0         100.0\n",
              "3             2.48            6.18        100.0         105.0\n",
              "4             1.19            9.83        100.0         110.0"
            ],
            "text/html": [
              "\n",
              "  <div id=\"df-44270f8c-be88-477e-ab27-3d9642f78fb0\" class=\"colab-df-container\">\n",
              "    <div>\n",
              "<style scoped>\n",
              "    .dataframe tbody tr th:only-of-type {\n",
              "        vertical-align: middle;\n",
              "    }\n",
              "\n",
              "    .dataframe tbody tr th {\n",
              "        vertical-align: top;\n",
              "    }\n",
              "\n",
              "    .dataframe thead th {\n",
              "        text-align: right;\n",
              "    }\n",
              "</style>\n",
              "<table border=\"1\" class=\"dataframe\">\n",
              "  <thead>\n",
              "    <tr style=\"text-align: right;\">\n",
              "      <th></th>\n",
              "      <th>Euro_call_price</th>\n",
              "      <th>Euro_put_price</th>\n",
              "      <th>Stock_price</th>\n",
              "      <th>Strike_price</th>\n",
              "    </tr>\n",
              "  </thead>\n",
              "  <tbody>\n",
              "    <tr>\n",
              "      <th>0</th>\n",
              "      <td>11.67</td>\n",
              "      <td>0.55</td>\n",
              "      <td>100.0</td>\n",
              "      <td>90.0</td>\n",
              "    </tr>\n",
              "    <tr>\n",
              "      <th>1</th>\n",
              "      <td>7.72</td>\n",
              "      <td>1.54</td>\n",
              "      <td>100.0</td>\n",
              "      <td>95.0</td>\n",
              "    </tr>\n",
              "    <tr>\n",
              "      <th>2</th>\n",
              "      <td>4.61</td>\n",
              "      <td>3.37</td>\n",
              "      <td>100.0</td>\n",
              "      <td>100.0</td>\n",
              "    </tr>\n",
              "    <tr>\n",
              "      <th>3</th>\n",
              "      <td>2.48</td>\n",
              "      <td>6.18</td>\n",
              "      <td>100.0</td>\n",
              "      <td>105.0</td>\n",
              "    </tr>\n",
              "    <tr>\n",
              "      <th>4</th>\n",
              "      <td>1.19</td>\n",
              "      <td>9.83</td>\n",
              "      <td>100.0</td>\n",
              "      <td>110.0</td>\n",
              "    </tr>\n",
              "  </tbody>\n",
              "</table>\n",
              "</div>\n",
              "    <div class=\"colab-df-buttons\">\n",
              "\n",
              "  <div class=\"colab-df-container\">\n",
              "    <button class=\"colab-df-convert\" onclick=\"convertToInteractive('df-44270f8c-be88-477e-ab27-3d9642f78fb0')\"\n",
              "            title=\"Convert this dataframe to an interactive table.\"\n",
              "            style=\"display:none;\">\n",
              "\n",
              "  <svg xmlns=\"http://www.w3.org/2000/svg\" height=\"24px\" viewBox=\"0 -960 960 960\">\n",
              "    <path d=\"M120-120v-720h720v720H120Zm60-500h600v-160H180v160Zm220 220h160v-160H400v160Zm0 220h160v-160H400v160ZM180-400h160v-160H180v160Zm440 0h160v-160H620v160ZM180-180h160v-160H180v160Zm440 0h160v-160H620v160Z\"/>\n",
              "  </svg>\n",
              "    </button>\n",
              "\n",
              "  <style>\n",
              "    .colab-df-container {\n",
              "      display:flex;\n",
              "      gap: 12px;\n",
              "    }\n",
              "\n",
              "    .colab-df-convert {\n",
              "      background-color: #E8F0FE;\n",
              "      border: none;\n",
              "      border-radius: 50%;\n",
              "      cursor: pointer;\n",
              "      display: none;\n",
              "      fill: #1967D2;\n",
              "      height: 32px;\n",
              "      padding: 0 0 0 0;\n",
              "      width: 32px;\n",
              "    }\n",
              "\n",
              "    .colab-df-convert:hover {\n",
              "      background-color: #E2EBFA;\n",
              "      box-shadow: 0px 1px 2px rgba(60, 64, 67, 0.3), 0px 1px 3px 1px rgba(60, 64, 67, 0.15);\n",
              "      fill: #174EA6;\n",
              "    }\n",
              "\n",
              "    .colab-df-buttons div {\n",
              "      margin-bottom: 4px;\n",
              "    }\n",
              "\n",
              "    [theme=dark] .colab-df-convert {\n",
              "      background-color: #3B4455;\n",
              "      fill: #D2E3FC;\n",
              "    }\n",
              "\n",
              "    [theme=dark] .colab-df-convert:hover {\n",
              "      background-color: #434B5C;\n",
              "      box-shadow: 0px 1px 3px 1px rgba(0, 0, 0, 0.15);\n",
              "      filter: drop-shadow(0px 1px 2px rgba(0, 0, 0, 0.3));\n",
              "      fill: #FFFFFF;\n",
              "    }\n",
              "  </style>\n",
              "\n",
              "    <script>\n",
              "      const buttonEl =\n",
              "        document.querySelector('#df-44270f8c-be88-477e-ab27-3d9642f78fb0 button.colab-df-convert');\n",
              "      buttonEl.style.display =\n",
              "        google.colab.kernel.accessAllowed ? 'block' : 'none';\n",
              "\n",
              "      async function convertToInteractive(key) {\n",
              "        const element = document.querySelector('#df-44270f8c-be88-477e-ab27-3d9642f78fb0');\n",
              "        const dataTable =\n",
              "          await google.colab.kernel.invokeFunction('convertToInteractive',\n",
              "                                                    [key], {});\n",
              "        if (!dataTable) return;\n",
              "\n",
              "        const docLinkHtml = 'Like what you see? Visit the ' +\n",
              "          '<a target=\"_blank\" href=https://colab.research.google.com/notebooks/data_table.ipynb>data table notebook</a>'\n",
              "          + ' to learn more about interactive tables.';\n",
              "        element.innerHTML = '';\n",
              "        dataTable['output_type'] = 'display_data';\n",
              "        await google.colab.output.renderOutput(dataTable, element);\n",
              "        const docLink = document.createElement('div');\n",
              "        docLink.innerHTML = docLinkHtml;\n",
              "        element.appendChild(docLink);\n",
              "      }\n",
              "    </script>\n",
              "  </div>\n",
              "\n",
              "\n",
              "<div id=\"df-3fca3a3c-db90-429b-a6df-aa2b258fb38e\">\n",
              "  <button class=\"colab-df-quickchart\" onclick=\"quickchart('df-3fca3a3c-db90-429b-a6df-aa2b258fb38e')\"\n",
              "            title=\"Suggest charts\"\n",
              "            style=\"display:none;\">\n",
              "\n",
              "<svg xmlns=\"http://www.w3.org/2000/svg\" height=\"24px\"viewBox=\"0 0 24 24\"\n",
              "     width=\"24px\">\n",
              "    <g>\n",
              "        <path d=\"M19 3H5c-1.1 0-2 .9-2 2v14c0 1.1.9 2 2 2h14c1.1 0 2-.9 2-2V5c0-1.1-.9-2-2-2zM9 17H7v-7h2v7zm4 0h-2V7h2v10zm4 0h-2v-4h2v4z\"/>\n",
              "    </g>\n",
              "</svg>\n",
              "  </button>\n",
              "\n",
              "<style>\n",
              "  .colab-df-quickchart {\n",
              "      --bg-color: #E8F0FE;\n",
              "      --fill-color: #1967D2;\n",
              "      --hover-bg-color: #E2EBFA;\n",
              "      --hover-fill-color: #174EA6;\n",
              "      --disabled-fill-color: #AAA;\n",
              "      --disabled-bg-color: #DDD;\n",
              "  }\n",
              "\n",
              "  [theme=dark] .colab-df-quickchart {\n",
              "      --bg-color: #3B4455;\n",
              "      --fill-color: #D2E3FC;\n",
              "      --hover-bg-color: #434B5C;\n",
              "      --hover-fill-color: #FFFFFF;\n",
              "      --disabled-bg-color: #3B4455;\n",
              "      --disabled-fill-color: #666;\n",
              "  }\n",
              "\n",
              "  .colab-df-quickchart {\n",
              "    background-color: var(--bg-color);\n",
              "    border: none;\n",
              "    border-radius: 50%;\n",
              "    cursor: pointer;\n",
              "    display: none;\n",
              "    fill: var(--fill-color);\n",
              "    height: 32px;\n",
              "    padding: 0;\n",
              "    width: 32px;\n",
              "  }\n",
              "\n",
              "  .colab-df-quickchart:hover {\n",
              "    background-color: var(--hover-bg-color);\n",
              "    box-shadow: 0 1px 2px rgba(60, 64, 67, 0.3), 0 1px 3px 1px rgba(60, 64, 67, 0.15);\n",
              "    fill: var(--button-hover-fill-color);\n",
              "  }\n",
              "\n",
              "  .colab-df-quickchart-complete:disabled,\n",
              "  .colab-df-quickchart-complete:disabled:hover {\n",
              "    background-color: var(--disabled-bg-color);\n",
              "    fill: var(--disabled-fill-color);\n",
              "    box-shadow: none;\n",
              "  }\n",
              "\n",
              "  .colab-df-spinner {\n",
              "    border: 2px solid var(--fill-color);\n",
              "    border-color: transparent;\n",
              "    border-bottom-color: var(--fill-color);\n",
              "    animation:\n",
              "      spin 1s steps(1) infinite;\n",
              "  }\n",
              "\n",
              "  @keyframes spin {\n",
              "    0% {\n",
              "      border-color: transparent;\n",
              "      border-bottom-color: var(--fill-color);\n",
              "      border-left-color: var(--fill-color);\n",
              "    }\n",
              "    20% {\n",
              "      border-color: transparent;\n",
              "      border-left-color: var(--fill-color);\n",
              "      border-top-color: var(--fill-color);\n",
              "    }\n",
              "    30% {\n",
              "      border-color: transparent;\n",
              "      border-left-color: var(--fill-color);\n",
              "      border-top-color: var(--fill-color);\n",
              "      border-right-color: var(--fill-color);\n",
              "    }\n",
              "    40% {\n",
              "      border-color: transparent;\n",
              "      border-right-color: var(--fill-color);\n",
              "      border-top-color: var(--fill-color);\n",
              "    }\n",
              "    60% {\n",
              "      border-color: transparent;\n",
              "      border-right-color: var(--fill-color);\n",
              "    }\n",
              "    80% {\n",
              "      border-color: transparent;\n",
              "      border-right-color: var(--fill-color);\n",
              "      border-bottom-color: var(--fill-color);\n",
              "    }\n",
              "    90% {\n",
              "      border-color: transparent;\n",
              "      border-bottom-color: var(--fill-color);\n",
              "    }\n",
              "  }\n",
              "</style>\n",
              "\n",
              "  <script>\n",
              "    async function quickchart(key) {\n",
              "      const quickchartButtonEl =\n",
              "        document.querySelector('#' + key + ' button');\n",
              "      quickchartButtonEl.disabled = true;  // To prevent multiple clicks.\n",
              "      quickchartButtonEl.classList.add('colab-df-spinner');\n",
              "      try {\n",
              "        const charts = await google.colab.kernel.invokeFunction(\n",
              "            'suggestCharts', [key], {});\n",
              "      } catch (error) {\n",
              "        console.error('Error during call to suggestCharts:', error);\n",
              "      }\n",
              "      quickchartButtonEl.classList.remove('colab-df-spinner');\n",
              "      quickchartButtonEl.classList.add('colab-df-quickchart-complete');\n",
              "    }\n",
              "    (() => {\n",
              "      let quickchartButtonEl =\n",
              "        document.querySelector('#df-3fca3a3c-db90-429b-a6df-aa2b258fb38e button');\n",
              "      quickchartButtonEl.style.display =\n",
              "        google.colab.kernel.accessAllowed ? 'block' : 'none';\n",
              "    })();\n",
              "  </script>\n",
              "</div>\n",
              "\n",
              "    </div>\n",
              "  </div>\n"
            ],
            "application/vnd.google.colaboratory.intrinsic+json": {
              "type": "dataframe",
              "summary": "{\n  \"name\": \"euro_data\",\n  \"rows\": 5,\n  \"fields\": [\n    {\n      \"column\": \"Euro_call_price\",\n      \"properties\": {\n        \"dtype\": \"number\",\n        \"std\": 4.227295825938847,\n        \"min\": 1.19,\n        \"max\": 11.67,\n        \"num_unique_values\": 5,\n        \"samples\": [\n          7.72,\n          1.19,\n          4.61\n        ],\n        \"semantic_type\": \"\",\n        \"description\": \"\"\n      }\n    },\n    {\n      \"column\": \"Euro_put_price\",\n      \"properties\": {\n        \"dtype\": \"number\",\n        \"std\": 3.7636458388110854,\n        \"min\": 0.55,\n        \"max\": 9.83,\n        \"num_unique_values\": 5,\n        \"samples\": [\n          1.54,\n          9.83,\n          3.37\n        ],\n        \"semantic_type\": \"\",\n        \"description\": \"\"\n      }\n    },\n    {\n      \"column\": \"Stock_price\",\n      \"properties\": {\n        \"dtype\": \"number\",\n        \"std\": 0.0,\n        \"min\": 100.0,\n        \"max\": 100.0,\n        \"num_unique_values\": 1,\n        \"samples\": [\n          100.0\n        ],\n        \"semantic_type\": \"\",\n        \"description\": \"\"\n      }\n    },\n    {\n      \"column\": \"Strike_price\",\n      \"properties\": {\n        \"dtype\": \"number\",\n        \"std\": 7.905694150420948,\n        \"min\": 90.0,\n        \"max\": 110.0,\n        \"num_unique_values\": 5,\n        \"samples\": [\n          95.0\n        ],\n        \"semantic_type\": \"\",\n        \"description\": \"\"\n      }\n    }\n  ]\n}"
            }
          },
          "metadata": {},
          "execution_count": 38
        }
      ]
    },
    {
      "cell_type": "code",
      "source": [
        "# Plot graphs\n",
        "fig = plt.figure(figsize = (5,5))\n",
        "ax = plt.axes(projection='3d')\n",
        "ax.grid()\n",
        "\n",
        "x = euro_data.Euro_call_price\n",
        "y = euro_data.Euro_put_price\n",
        "z = euro_data.Stock_price\n",
        "\n",
        "# plotting\n",
        "ax.plot3D(x, y, z, 'green')\n",
        "ax.set_title('European Calls and Puts vs Stock Price')\n",
        "plt.show()"
      ],
      "metadata": {
        "colab": {
          "base_uri": "https://localhost:8080/",
          "height": 454
        },
        "id": "EBYLEPD4HW_m",
        "outputId": "b514cbfd-4376-499a-9774-5f16bbc886a4"
      },
      "execution_count": 39,
      "outputs": [
        {
          "output_type": "display_data",
          "data": {
            "text/plain": [
              "<Figure size 500x500 with 1 Axes>"
            ],
            "image/png": "[encoded data removed]"
          },
          "metadata": {}
        }
      ]
    },
    {
      "cell_type": "markdown",
      "source": [
        "**20. American Trinomial for Calls, Puts & Stock Prices**"
      ],
      "metadata": {
        "id": "kgvocqiiIf_v"
      }
    },
    {
      "cell_type": "code",
      "source": [
        "american_raw_data = pd.DataFrame([american_call_array, american_put_array, stock_prices, strike_prices])\n",
        "american_data = american_raw_data.transpose()"
      ],
      "metadata": {
        "id": "G_dpYj4rIzk-"
      },
      "execution_count": 40,
      "outputs": []
    },
    {
      "cell_type": "code",
      "source": [
        "american_data.columns = [\"American_call_price\", \"American_put_price\", \"Stock_price\", \"Strike_price\"]\n",
        "american_data.round(2)"
      ],
      "metadata": {
        "colab": {
          "base_uri": "https://localhost:8080/",
          "height": 206
        },
        "id": "IRGm9LexJCr-",
        "outputId": "befe5557-84ec-4eeb-96c8-b9a7bd3cdd5e"
      },
      "execution_count": 41,
      "outputs": [
        {
          "output_type": "execute_result",
          "data": {
            "text/plain": [
              "   American_call_price  American_put_price  Stock_price  Strike_price\n",
              "0                92.83               65.69        100.0          90.0\n",
              "1                91.36               70.69        100.0          95.0\n",
              "2                89.88               75.69        100.0         100.0\n",
              "3                88.40               80.69        100.0         105.0\n",
              "4                86.92               85.69        100.0         110.0"
            ],
            "text/html": [
              "\n",
              "  <div id=\"df-57a31c4f-a340-4f95-b330-8f95ce72d91a\" class=\"colab-df-container\">\n",
              "    <div>\n",
              "<style scoped>\n",
              "    .dataframe tbody tr th:only-of-type {\n",
              "        vertical-align: middle;\n",
              "    }\n",
              "\n",
              "    .dataframe tbody tr th {\n",
              "        vertical-align: top;\n",
              "    }\n",
              "\n",
              "    .dataframe thead th {\n",
              "        text-align: right;\n",
              "    }\n",
              "</style>\n",
              "<table border=\"1\" class=\"dataframe\">\n",
              "  <thead>\n",
              "    <tr style=\"text-align: right;\">\n",
              "      <th></th>\n",
              "      <th>American_call_price</th>\n",
              "      <th>American_put_price</th>\n",
              "      <th>Stock_price</th>\n",
              "      <th>Strike_price</th>\n",
              "    </tr>\n",
              "  </thead>\n",
              "  <tbody>\n",
              "    <tr>\n",
              "      <th>0</th>\n",
              "      <td>92.83</td>\n",
              "      <td>65.69</td>\n",
              "      <td>100.0</td>\n",
              "      <td>90.0</td>\n",
              "    </tr>\n",
              "    <tr>\n",
              "      <th>1</th>\n",
              "      <td>91.36</td>\n",
              "      <td>70.69</td>\n",
              "      <td>100.0</td>\n",
              "      <td>95.0</td>\n",
              "    </tr>\n",
              "    <tr>\n",
              "      <th>2</th>\n",
              "      <td>89.88</td>\n",
              "      <td>75.69</td>\n",
              "      <td>100.0</td>\n",
              "      <td>100.0</td>\n",
              "    </tr>\n",
              "    <tr>\n",
              "      <th>3</th>\n",
              "      <td>88.40</td>\n",
              "      <td>80.69</td>\n",
              "      <td>100.0</td>\n",
              "      <td>105.0</td>\n",
              "    </tr>\n",
              "    <tr>\n",
              "      <th>4</th>\n",
              "      <td>86.92</td>\n",
              "      <td>85.69</td>\n",
              "      <td>100.0</td>\n",
              "      <td>110.0</td>\n",
              "    </tr>\n",
              "  </tbody>\n",
              "</table>\n",
              "</div>\n",
              "    <div class=\"colab-df-buttons\">\n",
              "\n",
              "  <div class=\"colab-df-container\">\n",
              "    <button class=\"colab-df-convert\" onclick=\"convertToInteractive('df-57a31c4f-a340-4f95-b330-8f95ce72d91a')\"\n",
              "            title=\"Convert this dataframe to an interactive table.\"\n",
              "            style=\"display:none;\">\n",
              "\n",
              "  <svg xmlns=\"http://www.w3.org/2000/svg\" height=\"24px\" viewBox=\"0 -960 960 960\">\n",
              "    <path d=\"M120-120v-720h720v720H120Zm60-500h600v-160H180v160Zm220 220h160v-160H400v160Zm0 220h160v-160H400v160ZM180-400h160v-160H180v160Zm440 0h160v-160H620v160ZM180-180h160v-160H180v160Zm440 0h160v-160H620v160Z\"/>\n",
              "  </svg>\n",
              "    </button>\n",
              "\n",
              "  <style>\n",
              "    .colab-df-container {\n",
              "      display:flex;\n",
              "      gap: 12px;\n",
              "    }\n",
              "\n",
              "    .colab-df-convert {\n",
              "      background-color: #E8F0FE;\n",
              "      border: none;\n",
              "      border-radius: 50%;\n",
              "      cursor: pointer;\n",
              "      display: none;\n",
              "      fill: #1967D2;\n",
              "      height: 32px;\n",
              "      padding: 0 0 0 0;\n",
              "      width: 32px;\n",
              "    }\n",
              "\n",
              "    .colab-df-convert:hover {\n",
              "      background-color: #E2EBFA;\n",
              "      box-shadow: 0px 1px 2px rgba(60, 64, 67, 0.3), 0px 1px 3px 1px rgba(60, 64, 67, 0.15);\n",
              "      fill: #174EA6;\n",
              "    }\n",
              "\n",
              "    .colab-df-buttons div {\n",
              "      margin-bottom: 4px;\n",
              "    }\n",
              "\n",
              "    [theme=dark] .colab-df-convert {\n",
              "      background-color: #3B4455;\n",
              "      fill: #D2E3FC;\n",
              "    }\n",
              "\n",
              "    [theme=dark] .colab-df-convert:hover {\n",
              "      background-color: #434B5C;\n",
              "      box-shadow: 0px 1px 3px 1px rgba(0, 0, 0, 0.15);\n",
              "      filter: drop-shadow(0px 1px 2px rgba(0, 0, 0, 0.3));\n",
              "      fill: #FFFFFF;\n",
              "    }\n",
              "  </style>\n",
              "\n",
              "    <script>\n",
              "      const buttonEl =\n",
              "        document.querySelector('#df-57a31c4f-a340-4f95-b330-8f95ce72d91a button.colab-df-convert');\n",
              "      buttonEl.style.display =\n",
              "        google.colab.kernel.accessAllowed ? 'block' : 'none';\n",
              "\n",
              "      async function convertToInteractive(key) {\n",
              "        const element = document.querySelector('#df-57a31c4f-a340-4f95-b330-8f95ce72d91a');\n",
              "        const dataTable =\n",
              "          await google.colab.kernel.invokeFunction('convertToInteractive',\n",
              "                                                    [key], {});\n",
              "        if (!dataTable) return;\n",
              "\n",
              "        const docLinkHtml = 'Like what you see? Visit the ' +\n",
              "          '<a target=\"_blank\" href=https://colab.research.google.com/notebooks/data_table.ipynb>data table notebook</a>'\n",
              "          + ' to learn more about interactive tables.';\n",
              "        element.innerHTML = '';\n",
              "        dataTable['output_type'] = 'display_data';\n",
              "        await google.colab.output.renderOutput(dataTable, element);\n",
              "        const docLink = document.createElement('div');\n",
              "        docLink.innerHTML = docLinkHtml;\n",
              "        element.appendChild(docLink);\n",
              "      }\n",
              "    </script>\n",
              "  </div>\n",
              "\n",
              "\n",
              "<div id=\"df-ad445430-25f5-4032-81ed-46756d1f74bd\">\n",
              "  <button class=\"colab-df-quickchart\" onclick=\"quickchart('df-ad445430-25f5-4032-81ed-46756d1f74bd')\"\n",
              "            title=\"Suggest charts\"\n",
              "            style=\"display:none;\">\n",
              "\n",
              "<svg xmlns=\"http://www.w3.org/2000/svg\" height=\"24px\"viewBox=\"0 0 24 24\"\n",
              "     width=\"24px\">\n",
              "    <g>\n",
              "        <path d=\"M19 3H5c-1.1 0-2 .9-2 2v14c0 1.1.9 2 2 2h14c1.1 0 2-.9 2-2V5c0-1.1-.9-2-2-2zM9 17H7v-7h2v7zm4 0h-2V7h2v10zm4 0h-2v-4h2v4z\"/>\n",
              "    </g>\n",
              "</svg>\n",
              "  </button>\n",
              "\n",
              "<style>\n",
              "  .colab-df-quickchart {\n",
              "      --bg-color: #E8F0FE;\n",
              "      --fill-color: #1967D2;\n",
              "      --hover-bg-color: #E2EBFA;\n",
              "      --hover-fill-color: #174EA6;\n",
              "      --disabled-fill-color: #AAA;\n",
              "      --disabled-bg-color: #DDD;\n",
              "  }\n",
              "\n",
              "  [theme=dark] .colab-df-quickchart {\n",
              "      --bg-color: #3B4455;\n",
              "      --fill-color: #D2E3FC;\n",
              "      --hover-bg-color: #434B5C;\n",
              "      --hover-fill-color: #FFFFFF;\n",
              "      --disabled-bg-color: #3B4455;\n",
              "      --disabled-fill-color: #666;\n",
              "  }\n",
              "\n",
              "  .colab-df-quickchart {\n",
              "    background-color: var(--bg-color);\n",
              "    border: none;\n",
              "    border-radius: 50%;\n",
              "    cursor: pointer;\n",
              "    display: none;\n",
              "    fill: var(--fill-color);\n",
              "    height: 32px;\n",
              "    padding: 0;\n",
              "    width: 32px;\n",
              "  }\n",
              "\n",
              "  .colab-df-quickchart:hover {\n",
              "    background-color: var(--hover-bg-color);\n",
              "    box-shadow: 0 1px 2px rgba(60, 64, 67, 0.3), 0 1px 3px 1px rgba(60, 64, 67, 0.15);\n",
              "    fill: var(--button-hover-fill-color);\n",
              "  }\n",
              "\n",
              "  .colab-df-quickchart-complete:disabled,\n",
              "  .colab-df-quickchart-complete:disabled:hover {\n",
              "    background-color: var(--disabled-bg-color);\n",
              "    fill: var(--disabled-fill-color);\n",
              "    box-shadow: none;\n",
              "  }\n",
              "\n",
              "  .colab-df-spinner {\n",
              "    border: 2px solid var(--fill-color);\n",
              "    border-color: transparent;\n",
              "    border-bottom-color: var(--fill-color);\n",
              "    animation:\n",
              "      spin 1s steps(1) infinite;\n",
              "  }\n",
              "\n",
              "  @keyframes spin {\n",
              "    0% {\n",
              "      border-color: transparent;\n",
              "      border-bottom-color: var(--fill-color);\n",
              "      border-left-color: var(--fill-color);\n",
              "    }\n",
              "    20% {\n",
              "      border-color: transparent;\n",
              "      border-left-color: var(--fill-color);\n",
              "      border-top-color: var(--fill-color);\n",
              "    }\n",
              "    30% {\n",
              "      border-color: transparent;\n",
              "      border-left-color: var(--fill-color);\n",
              "      border-top-color: var(--fill-color);\n",
              "      border-right-color: var(--fill-color);\n",
              "    }\n",
              "    40% {\n",
              "      border-color: transparent;\n",
              "      border-right-color: var(--fill-color);\n",
              "      border-top-color: var(--fill-color);\n",
              "    }\n",
              "    60% {\n",
              "      border-color: transparent;\n",
              "      border-right-color: var(--fill-color);\n",
              "    }\n",
              "    80% {\n",
              "      border-color: transparent;\n",
              "      border-right-color: var(--fill-color);\n",
              "      border-bottom-color: var(--fill-color);\n",
              "    }\n",
              "    90% {\n",
              "      border-color: transparent;\n",
              "      border-bottom-color: var(--fill-color);\n",
              "    }\n",
              "  }\n",
              "</style>\n",
              "\n",
              "  <script>\n",
              "    async function quickchart(key) {\n",
              "      const quickchartButtonEl =\n",
              "        document.querySelector('#' + key + ' button');\n",
              "      quickchartButtonEl.disabled = true;  // To prevent multiple clicks.\n",
              "      quickchartButtonEl.classList.add('colab-df-spinner');\n",
              "      try {\n",
              "        const charts = await google.colab.kernel.invokeFunction(\n",
              "            'suggestCharts', [key], {});\n",
              "      } catch (error) {\n",
              "        console.error('Error during call to suggestCharts:', error);\n",
              "      }\n",
              "      quickchartButtonEl.classList.remove('colab-df-spinner');\n",
              "      quickchartButtonEl.classList.add('colab-df-quickchart-complete');\n",
              "    }\n",
              "    (() => {\n",
              "      let quickchartButtonEl =\n",
              "        document.querySelector('#df-ad445430-25f5-4032-81ed-46756d1f74bd button');\n",
              "      quickchartButtonEl.style.display =\n",
              "        google.colab.kernel.accessAllowed ? 'block' : 'none';\n",
              "    })();\n",
              "  </script>\n",
              "</div>\n",
              "\n",
              "    </div>\n",
              "  </div>\n"
            ],
            "application/vnd.google.colaboratory.intrinsic+json": {
              "type": "dataframe",
              "summary": "{\n  \"name\": \"american_data\",\n  \"rows\": 5,\n  \"fields\": [\n    {\n      \"column\": \"American_call_price\",\n      \"properties\": {\n        \"dtype\": \"number\",\n        \"std\": 2.3369253304288504,\n        \"min\": 86.92,\n        \"max\": 92.83,\n        \"num_unique_values\": 5,\n        \"samples\": [\n          91.36,\n          86.92,\n          89.88\n        ],\n        \"semantic_type\": \"\",\n        \"description\": \"\"\n      }\n    },\n    {\n      \"column\": \"American_put_price\",\n      \"properties\": {\n        \"dtype\": \"number\",\n        \"std\": 7.905694150420948,\n        \"min\": 65.69,\n        \"max\": 85.69,\n        \"num_unique_values\": 5,\n        \"samples\": [\n          70.69,\n          85.69,\n          75.69\n        ],\n        \"semantic_type\": \"\",\n        \"description\": \"\"\n      }\n    },\n    {\n      \"column\": \"Stock_price\",\n      \"properties\": {\n        \"dtype\": \"number\",\n        \"std\": 0.0,\n        \"min\": 100.0,\n        \"max\": 100.0,\n        \"num_unique_values\": 1,\n        \"samples\": [\n          100.0\n        ],\n        \"semantic_type\": \"\",\n        \"description\": \"\"\n      }\n    },\n    {\n      \"column\": \"Strike_price\",\n      \"properties\": {\n        \"dtype\": \"number\",\n        \"std\": 7.905694150420948,\n        \"min\": 90.0,\n        \"max\": 110.0,\n        \"num_unique_values\": 5,\n        \"samples\": [\n          95.0\n        ],\n        \"semantic_type\": \"\",\n        \"description\": \"\"\n      }\n    }\n  ]\n}"
            }
          },
          "metadata": {},
          "execution_count": 41
        }
      ]
    },
    {
      "cell_type": "code",
      "source": [
        "# plot graph\n",
        "fig = plt.figure(figsize = (5,5))\n",
        "ax = plt.axes(projection='3d')\n",
        "ax.grid()\n",
        "\n",
        "x = american_data.American_call_price\n",
        "y = american_data.American_put_price\n",
        "z = american_data.Stock_price\n",
        "\n",
        "# plotting\n",
        "ax.plot3D(x, y, z, 'green')\n",
        "ax.set_title('American Calls and Puts vs Stock Price')\n",
        "plt.show()"
      ],
      "metadata": {
        "colab": {
          "base_uri": "https://localhost:8080/",
          "height": 454
        },
        "id": "Ck7dH-HlJMSj",
        "outputId": "eac86ca5-ce83-49dc-e3fc-157c10179615"
      },
      "execution_count": 42,
      "outputs": [
        {
          "output_type": "display_data",
          "data": {
            "text/plain": [
              "<Figure size 500x500 with 1 Axes>"
            ],
            "image/png": "[encoded data removed]"
          },
          "metadata": {}
        }
      ]
    },
    {
      "cell_type": "markdown",
      "source": [
        "**21. European Trinomial for Calls, Puts & Strike Prices**"
      ],
      "metadata": {
        "id": "9EQLac69ItyP"
      }
    },
    {
      "cell_type": "code",
      "source": [
        "# plot of European Call, Put & Strike prices\n",
        "fig = plt.figure(figsize = (5,5))\n",
        "ax = plt.axes(projection='3d')\n",
        "ax.grid()\n",
        "\n",
        "x = euro_data.Euro_call_price\n",
        "y = euro_data.Euro_put_price\n",
        "z = euro_data.Strike_price\n",
        "\n",
        "\n",
        "# plotting\n",
        "ax.plot3D(x, y, z, 'green')\n",
        "ax.set_title('European Calls and Puts vs Strike Price')"
      ],
      "metadata": {
        "colab": {
          "base_uri": "https://localhost:8080/",
          "height": 471
        },
        "id": "XZLYXBhoHzWe",
        "outputId": "f92ee36d-d27d-4bf2-dc21-472c713e03a0"
      },
      "execution_count": 43,
      "outputs": [
        {
          "output_type": "execute_result",
          "data": {
            "text/plain": [
              "Text(0.5, 0.92, 'European Calls and Puts vs Strike Price')"
            ]
          },
          "metadata": {},
          "execution_count": 43
        },
        {
          "output_type": "display_data",
          "data": {
            "text/plain": [
              "<Figure size 500x500 with 1 Axes>"
            ],
            "image/png": "[encoded data removed]"
          },
          "metadata": {}
        }
      ]
    },
    {
      "cell_type": "markdown",
      "source": [
        "**22. American Trinomial for Calls, Puts & Strike Prices**"
      ],
      "metadata": {
        "id": "-Mow2pcyJciF"
      }
    },
    {
      "cell_type": "code",
      "source": [
        "# Plot graph\n",
        "fig = plt.figure(figsize = (5,5))\n",
        "ax = plt.axes(projection='3d')\n",
        "ax.grid()\n",
        "\n",
        "x = american_data.American_call_price\n",
        "y = american_data.American_put_price\n",
        "z = american_data.Strike_price\n",
        "\n",
        "# plotting\n",
        "ax.plot3D(x, y, z, 'green')\n",
        "ax.set_title('American Calls and Puts vs Strike Price')\n",
        "plt.show()"
      ],
      "metadata": {
        "colab": {
          "base_uri": "https://localhost:8080/",
          "height": 454
        },
        "id": "TkL9gefsJsrg",
        "outputId": "39e779ba-8434-423f-8497-911a2a5b24db"
      },
      "execution_count": 44,
      "outputs": [
        {
          "output_type": "display_data",
          "data": {
            "text/plain": [
              "<Figure size 500x500 with 1 Axes>"
            ],
            "image/png": "[encoded data removed]"
          },
          "metadata": {}
        }
      ]
    },
    {
      "cell_type": "markdown",
      "source": [
        "**23. Put-Call Parity Test for European Options**\n",
        "\n"
      ],
      "metadata": {
        "id": "NDPc4-n5Kd4Q"
      }
    },
    {
      "cell_type": "markdown",
      "source": [
        "***For Put-Call Parity to hold: C + Kexp(-rdt) = S_ini + P***"
      ],
      "metadata": {
        "id": "HC_dFUNGKvs1"
      }
    },
    {
      "cell_type": "code",
      "source": [
        "S_ini_ = 100\n",
        "discount = 0.9998 # (Kexp(-rT))\n",
        "def assert_euro_put_call_parity(euro_call_price, euro_put_price,K, S_ini_, discount, tolerance=1e-5):\n",
        "\n",
        "\n",
        "\n",
        "    lhs = euro_call_price +  K * discount\n",
        "    rhs = euro_put_price + S_ini_\n",
        "\n",
        "    return abs(lhs - rhs) <= tolerance\n",
        "\n",
        "\n",
        "    for K in [90,95,100,105,110]:\n",
        "        for euro_call_price in euro_call_array:\n",
        "            for euro_put_price in euro_put_array:\n",
        "                if assert_euro_put_call_parity(euro_call_price, euro_put_price,K, S_ini_, discount):\n",
        "                    print(f\"Put-call parity holds for strike price {K} and call price {euro_call_price}, and put price {euro_put_price}.\")\n",
        "                else:\n",
        "                    print(f\"Put-call parity does NOT hold for strike price {K} and call price {euro_call_price}, and put price {euro_put_price}..\")\n",
        "\n",
        "\n"
      ],
      "metadata": {
        "id": "cfZrOEeRLEj8"
      },
      "execution_count": 45,
      "outputs": []
    },
    {
      "cell_type": "code",
      "source": [
        "assert_euro_put_call_parity(euro_call_price, euro_put_price,K, S_ini_, discount)"
      ],
      "metadata": {
        "colab": {
          "base_uri": "https://localhost:8080/",
          "height": 0
        },
        "id": "PLR6h9fjMCCQ",
        "outputId": "af950b64-c516-4bd0-f463-62f3481f1795"
      },
      "execution_count": 46,
      "outputs": [
        {
          "output_type": "execute_result",
          "data": {
            "text/plain": [
              "False"
            ]
          },
          "metadata": {},
          "execution_count": 46
        }
      ]
    },
    {
      "cell_type": "code",
      "source": [
        "# Plot European Put-Call Parity Verification\n",
        "plt.figure(figsize=(10, 5))\n",
        "plt.bar([\"Call - Put\"], [euro_call_price - euro_put_price], label=\"C - P\")\n",
        "plt.bar([\"S_ini_ - PV(K)\"], [S_ini_ - (K * discount)], label=\"S_ini_ - Ke^(-rT)\")\n",
        "plt.title(\"Put-Call Parity for European Trinomial Options\")\n",
        "plt.legend()\n",
        "plt.show()"
      ],
      "metadata": {
        "colab": {
          "base_uri": "https://localhost:8080/",
          "height": 468
        },
        "id": "dGGJnRoTMqWq",
        "outputId": "27707377-2ed0-4a63-fd90-0129b2f188e1"
      },
      "execution_count": 47,
      "outputs": [
        {
          "output_type": "display_data",
          "data": {
            "text/plain": [
              "<Figure size 1000x500 with 1 Axes>"
            ],
            "image/png": "[encoded data removed]"
          },
          "metadata": {}
        }
      ]
    },
    {
      "cell_type": "markdown",
      "source": [
        "Put-Call Parity does not hold true for European Options using a trinomial tree. Here's why:\n",
        "\n",
        "- Small deviations across several time step accumulate into significant small arbitrage values - which eventually result in disequilibrium between Put-Call Pariity Equation.\n",
        "\n",
        "- Discount interest rate modelling over time tend to affect parity balance as the accumulation rounded decimal values create some form of arbritrage.\n",
        "\n",
        "- Dividend adjustments over each time step (for dividend paying stocks) will significantly alter stock market price and as such cause in imbalance in the parity equation."
      ],
      "metadata": {
        "id": "c34sTeJJMGeB"
      }
    },
    {
      "cell_type": "markdown",
      "source": [
        "**24. Put-Call Parity Test for American Options**"
      ],
      "metadata": {
        "id": "zkTyL4e1Oao7"
      }
    },
    {
      "cell_type": "code",
      "source": [
        "S_ini_ = 100\n",
        "discount = 0.9998 # (Kexp(-rT))\n",
        "def assert_american_put_call_parity(american_call_price, american_put_price,K, S_ini_, discount, tolerance=1e-5):\n",
        "\n",
        "    lhs = american_call_price +  K * discount\n",
        "    rhs = american_put_price + S_ini_\n",
        "\n",
        "    return abs(lhs - rhs) <= tolerance\n",
        "\n",
        "\n",
        "    for K in [90,95,100,105,110]:\n",
        "        for american_call_price in american_call_array:\n",
        "            for american_put_price in american_put_array:\n",
        "                if assert_american_put_call_parity(american_call_price, american_put_price,K, S_ini_, discount):\n",
        "                    print(f\"Put-call parity holds for strike price {K} and call price {american_call_price}, and put price {american_put_price}.\")\n",
        "                else:\n",
        "                    print(f\"Put-call parity does NOT hold for strike price {K} and call price {american_call_price}, and put price {american_put_price}..\")\n",
        "\n"
      ],
      "metadata": {
        "id": "9xLIyf5COwF5"
      },
      "execution_count": 48,
      "outputs": []
    },
    {
      "cell_type": "code",
      "source": [
        " assert_american_put_call_parity(american_call_price, american_put_price,K, S_ini_, discount)"
      ],
      "metadata": {
        "colab": {
          "base_uri": "https://localhost:8080/",
          "height": 0
        },
        "id": "gYEsYn9FPP9n",
        "outputId": "84bb04b3-a97d-4aa6-b33f-dfa6b143115e"
      },
      "execution_count": 49,
      "outputs": [
        {
          "output_type": "execute_result",
          "data": {
            "text/plain": [
              "False"
            ]
          },
          "metadata": {},
          "execution_count": 49
        }
      ]
    },
    {
      "cell_type": "code",
      "source": [
        "# Plot American Put-Call Parity Verification\n",
        "plt.figure(figsize=(10, 5))\n",
        "plt.bar([\"Call - Put\"], [euro_call_price - euro_put_price], label=\"C - P\")\n",
        "plt.bar([\"S_ini_ - PV(K)\"], [S_ini_ - (K * discount)], label=\"S_ini_ - Ke^(-rT)\")\n",
        "plt.title(\"Put-Call Parity for American Trinomial Options\")\n",
        "plt.legend()\n",
        "plt.show()"
      ],
      "metadata": {
        "colab": {
          "base_uri": "https://localhost:8080/",
          "height": 468
        },
        "id": "UGGJYv9KP6PM",
        "outputId": "97c7fbbb-c240-4cc9-f4a6-a455d1fb18b7"
      },
      "execution_count": 50,
      "outputs": [
        {
          "output_type": "display_data",
          "data": {
            "text/plain": [
              "<Figure size 1000x500 with 1 Axes>"
            ],
            "image/png": "[encoded data removed]"
          },
          "metadata": {}
        }
      ]
    },
    {
      "cell_type": "markdown",
      "source": [
        "Put-Call Parity does not hold true for American Options using a trinomial tree. Here's why:\n",
        "\n",
        "- Friction market/transaction costs such as bid-ask spreads, stock maintenance fees can alter the equilibrium of the portfolio that normally would hold put-call equivalence\n",
        "\n",
        "- Flexibility of Early Exercise: Volatilty of Stock price may result in the early exercise of an American option, hence, the payoff equivalence is not fixed at any time before expiration, The sudden price changes affect put call parity as a deep ITM put payoff might not reflect in the overall portfolio that matches this payoff.\n",
        "\n",
        "- Dividend adjustments over each time step (for dividend paying stocks) will significantly alter stock market price and as such cause in imbalance in the parity equation.\n",
        "\n",
        "- Payoff depends on the path and discrete time step.The potential outcomes for each step alters the outcome for subsequent step whcih on turn result in payoff asymmetry and parity imbalance."
      ],
      "metadata": {
        "id": "qr2bze98QQUk"
      }
    },
    {
      "cell_type": "markdown",
      "source": [
        "# **Step 3: Dynamic Delta Hedging**"
      ],
      "metadata": {
        "id": "X4REwq3FPTHb"
      }
    },
    {
      "cell_type": "markdown",
      "source": [
        "**25. European Put Option - Using Binomial Tree**"
      ],
      "metadata": {
        "id": "sUCO9v31Rs4u"
      }
    },
    {
      "cell_type": "markdown",
      "source": [
        "\n",
        "**Parameters**\n",
        "\n",
        "- S0 =180,\n",
        "- r = 2%\n",
        "- sigma = 25%\n",
        "- T = 6months\n",
        "- K = 182\n",
        "- N = 3"
      ],
      "metadata": {
        "id": "Ax4qyhReQ7lz"
      }
    },
    {
      "cell_type": "code",
      "source": [
        "import math\n",
        "\n",
        "# Parameters\n",
        "S0 = 180  # Initial stock price\n",
        "K = 182   # Strike price\n",
        "r = 0.02  # Risk-free interest rate\n",
        "sigma = 0.25  # Volatility\n",
        "T = 0.5  # Time to maturity in years\n",
        "N = 3    # Steps in binomial tree\n",
        "\n",
        "def binomial_put_price(S, K, r, sigma, T, N):\n",
        "    if N <= 0:\n",
        "        return max(K - S, 0)  # Return the payoff at expiration\n",
        "    dt = T / N\n",
        "    u = math.exp(sigma * math.sqrt(dt))\n",
        "    d = 1 / u\n",
        "    p = (math.exp(r * dt) - d) / (u - d)\n",
        "    prices = [S * (u ** (N - i)) * (d ** i) for i in range(N + 1)]\n",
        "    values = [max(K - S, 0) for S in prices]\n",
        "\n",
        "    for i in range(N - 1, -1, -1):\n",
        "        for j in range(i + 1):\n",
        "            values[j] = (p * values[j] + (1 - p) * values[j + 1]) * math.exp(-r * dt)\n",
        "    return values[0]\n",
        "\n",
        "def calculate_delta(S, K, r, sigma, T, N):\n",
        "    if N <= 0:\n",
        "        return -1 if S < K else 0  # Return -1 if in-the-money, 0 otherwise\n",
        "    dt = T / N\n",
        "    u = math.exp(sigma * math.sqrt(dt))\n",
        "    d = 1 / u\n",
        "    delta = (binomial_put_price(S * u, K, r, sigma, T - dt, N - 1) -\n",
        "             binomial_put_price(S * d, K, r, sigma, T - dt, N - 1)) / (S * u - S * d)\n",
        "    return delta\n",
        "\n",
        "def delta_hedging_process(S0, K, r, sigma, T, N):\n",
        "    option_price = binomial_put_price(S0, K, r, sigma, T, N)\n",
        "    print(f\"European Put Option Price: ${option_price:.2f}\")\n",
        "    print(\"\\nDelta Hedging Process:\")\n",
        "    print(\"Step | Stock Price | Delta (shares) | Cash Account\")\n",
        "    print(\"-\" * 55)\n",
        "\n",
        "    S = S0\n",
        "    cash_account = 0.0\n",
        "    prev_delta = 0.0\n",
        "\n",
        "    for i in range(N + 1):\n",
        "        delta = calculate_delta(S, K, r, sigma, max(T - i * T / N, 0), max(N - i, 0))\n",
        "        shares_to_sell = delta - prev_delta\n",
        "        cash_account -= shares_to_sell * S\n",
        "        print(f\"{i:4d} | ${S:11.2f} | {delta:14.2f} | ${cash_account:12.2f}\")\n",
        "        S *= math.exp(sigma * math.sqrt(T / N))  # Assume upward move\n",
        "        prev_delta = delta\n",
        "\n",
        "# Run the delta hedging process\n",
        "delta_hedging_process(S0, K, r, sigma, T, N)"
      ],
      "metadata": {
        "id": "pWMFNoRe4OSH",
        "outputId": "dd669dd7-0198-49db-eda1-09d53ea77296",
        "colab": {
          "base_uri": "https://localhost:8080/",
          "height": 0
        }
      },
      "execution_count": 51,
      "outputs": [
        {
          "output_type": "stream",
          "name": "stdout",
          "text": [
            "European Put Option Price: $13.82\n",
            "\n",
            "Delta Hedging Process:\n",
            "Step | Stock Price | Delta (shares) | Cash Account\n",
            "-------------------------------------------------------\n",
            "   0 | $     180.00 |          -0.47 | $       85.06\n",
            "   1 | $     199.34 |          -0.24 | $       39.17\n",
            "   2 | $     220.76 |           0.00 | $      -14.33\n",
            "   3 | $     244.48 |           0.00 | $      -14.33\n"
          ]
        }
      ]
    },
    {
      "cell_type": "markdown",
      "source": [
        "**26 American Put Option - Using Binomial Tree**"
      ],
      "metadata": {
        "id": "wIErULkTTU8V"
      }
    },
    {
      "cell_type": "code",
      "source": [
        "# Parameters\n",
        "S0 = 180       # Initial stock price\n",
        "K = 182        # Strike price\n",
        "T = 0.5        # Maturity in years (6 months)\n",
        "r = 0.02       # Risk-free rate (2%)\n",
        "sigma = 0.25   # Volatility (25%)\n",
        "n_steps = 25   # Number of steps in the binomial tree\n"
      ],
      "metadata": {
        "id": "bXChaW7Wh5JS"
      },
      "execution_count": 52,
      "outputs": []
    },
    {
      "cell_type": "code",
      "source": [
        "# Binomial Tree Setup\n",
        "dt = T / n_steps                            # Time increment\n",
        "u = np.exp(sigma * np.sqrt(dt))             # Up factor\n",
        "d = 1 / u                                   # Down factor\n",
        "p = (np.exp(r * dt) - d) / (u - d)          # Risk-neutral probability\n",
        "\n",
        "# Initialize asset price tree\n",
        "asset_tree = np.zeros((n_steps + 1, n_steps + 1))\n",
        "asset_tree[0, 0] = S0\n",
        "\n",
        "for i in range(1, n_steps + 1):\n",
        "    for j in range(i + 1):\n",
        "        asset_tree[j, i] = S0 * (u ** (i - j)) * (d ** j)\n",
        "\n",
        "# Initialize option value tree for an American put\n",
        "option_tree = np.zeros((n_steps + 1, n_steps + 1))\n",
        "for j in range(n_steps + 1):\n",
        "    option_tree[j, n_steps] = max(K - asset_tree[j, n_steps], 0)\n",
        "\n",
        "# Backward induction for option price and delta calculation\n",
        "delta_tree = np.zeros((n_steps, n_steps))\n",
        "for i in range(n_steps - 1, -1, -1):\n",
        "    for j in range(i + 1):\n",
        "        # Option value at this node (American)\n",
        "        hold_value = np.exp(-r * dt) * (p * option_tree[j, i + 1] + (1 - p) * option_tree[j + 1, i + 1])\n",
        "        exercise_value = max(K - asset_tree[j, i], 0)\n",
        "        option_tree[j, i] = max(hold_value, exercise_value)\n",
        "\n",
        "        # Delta (hedge ratio)\n",
        "        delta_tree[j, i] = (option_tree[j, i + 1] - option_tree[j + 1, i + 1]) / (asset_tree[j, i] * (u - d))\n",
        "\n",
        "# Select a path (e.g., always \"up\" path for simplicity)\n",
        "cash_account = [0]\n",
        "deltas = [delta_tree[0, 0]]\n",
        "path_asset_price = [S0]\n",
        "path_option_value = [option_tree[0, 0]]\n",
        "\n",
        "for i in range(n_steps):\n",
        "    # Simulate asset price movement\n",
        "    price_up = path_asset_price[-1] * u\n",
        "    price_down = path_asset_price[-1] * d\n",
        "\n",
        "    # Assume the path goes \"up\" at every step for simplicity\n",
        "    next_price = price_up\n",
        "    next_option_value = option_tree[0, i + 1] if i + 1 < n_steps else 0\n",
        "    next_delta = delta_tree[0, i + 1] if i + 1 < n_steps else 0\n",
        "\n",
        "    # Update cash account (amount needed to rebalance)\n",
        "    cash_account.append(cash_account[-1] * np.exp(r * dt) + deltas[-1] * (path_asset_price[-1] - next_price))\n",
        "\n",
        "    # Update path values for each step\n",
        "    path_asset_price.append(next_price)\n",
        "    path_option_value.append(next_option_value)\n",
        "    deltas.append(next_delta)\n"
      ],
      "metadata": {
        "id": "AJa5vR0Eimhh"
      },
      "execution_count": 53,
      "outputs": []
    },
    {
      "cell_type": "code",
      "source": [
        "# Output the values along the path\n",
        "for i in range(n_steps):\n",
        "    print(f\"Step {i + 1}:\")\n",
        "    print(f\"  Asset Price: {path_asset_price[i]:.2f}\")\n",
        "    print(f\"  Option Value: {path_option_value[i]:.2f}\")\n",
        "    print(f\"  Delta Hedge: {deltas[i]:.4f}\")\n",
        "    print(f\"  Cash Account: {cash_account[i]:.2f}\\n\")\n",
        "\n",
        "# Comments on Delta Hedging for American vs European Options\n",
        "print(\"Delta hedging for an American option is more complex than for a European option, as we must account for the early exercise feature.\")\n",
        "print(\"This means that the delta may change abruptly if it becomes optimal to exercise the option early, which affects the stability and predictability of the hedging strategy.\")\n"
      ],
      "metadata": {
        "colab": {
          "base_uri": "https://localhost:8080/",
          "height": 0
        },
        "id": "sW7y1_wmiqGt",
        "outputId": "45b70500-5fd3-4f71-a7b7-bfde191b5e4c"
      },
      "execution_count": 54,
      "outputs": [
        {
          "output_type": "stream",
          "name": "stdout",
          "text": [
            "Step 1:\n",
            "  Asset Price: 180.00\n",
            "  Option Value: 13.04\n",
            "  Delta Hedge: -0.4756\n",
            "  Cash Account: 0.00\n",
            "\n",
            "Step 2:\n",
            "  Asset Price: 186.48\n",
            "  Option Value: 9.99\n",
            "  Delta Hedge: -0.3951\n",
            "  Cash Account: 3.08\n",
            "\n",
            "Step 3:\n",
            "  Asset Price: 193.19\n",
            "  Option Value: 7.38\n",
            "  Delta Hedge: -0.3163\n",
            "  Cash Account: 5.73\n",
            "\n",
            "Step 4:\n",
            "  Asset Price: 200.14\n",
            "  Option Value: 5.20\n",
            "  Delta Hedge: -0.2423\n",
            "  Cash Account: 7.93\n",
            "\n",
            "Step 5:\n",
            "  Asset Price: 207.34\n",
            "  Option Value: 3.48\n",
            "  Delta Hedge: -0.1760\n",
            "  Cash Account: 9.68\n",
            "\n",
            "Step 6:\n",
            "  Asset Price: 214.81\n",
            "  Option Value: 2.18\n",
            "  Delta Hedge: -0.1200\n",
            "  Cash Account: 11.00\n",
            "\n",
            "Step 7:\n",
            "  Asset Price: 222.54\n",
            "  Option Value: 1.27\n",
            "  Delta Hedge: -0.0758\n",
            "  Cash Account: 11.93\n",
            "\n",
            "Step 8:\n",
            "  Asset Price: 230.54\n",
            "  Option Value: 0.67\n",
            "  Delta Hedge: -0.0435\n",
            "  Cash Account: 12.54\n",
            "\n",
            "Step 9:\n",
            "  Asset Price: 238.84\n",
            "  Option Value: 0.31\n",
            "  Delta Hedge: -0.0221\n",
            "  Cash Account: 12.91\n",
            "\n",
            "Step 10:\n",
            "  Asset Price: 247.44\n",
            "  Option Value: 0.12\n",
            "  Delta Hedge: -0.0096\n",
            "  Cash Account: 13.10\n",
            "\n",
            "Step 11:\n",
            "  Asset Price: 256.34\n",
            "  Option Value: 0.04\n",
            "  Delta Hedge: -0.0033\n",
            "  Cash Account: 13.20\n",
            "\n",
            "Step 12:\n",
            "  Asset Price: 265.57\n",
            "  Option Value: 0.01\n",
            "  Delta Hedge: -0.0008\n",
            "  Cash Account: 13.23\n",
            "\n",
            "Step 13:\n",
            "  Asset Price: 275.12\n",
            "  Option Value: 0.00\n",
            "  Delta Hedge: -0.0001\n",
            "  Cash Account: 13.24\n",
            "\n",
            "Step 14:\n",
            "  Asset Price: 285.02\n",
            "  Option Value: 0.00\n",
            "  Delta Hedge: 0.0000\n",
            "  Cash Account: 13.25\n",
            "\n",
            "Step 15:\n",
            "  Asset Price: 295.28\n",
            "  Option Value: 0.00\n",
            "  Delta Hedge: 0.0000\n",
            "  Cash Account: 13.26\n",
            "\n",
            "Step 16:\n",
            "  Asset Price: 305.91\n",
            "  Option Value: 0.00\n",
            "  Delta Hedge: 0.0000\n",
            "  Cash Account: 13.26\n",
            "\n",
            "Step 17:\n",
            "  Asset Price: 316.92\n",
            "  Option Value: 0.00\n",
            "  Delta Hedge: 0.0000\n",
            "  Cash Account: 13.27\n",
            "\n",
            "Step 18:\n",
            "  Asset Price: 328.32\n",
            "  Option Value: 0.00\n",
            "  Delta Hedge: 0.0000\n",
            "  Cash Account: 13.27\n",
            "\n",
            "Step 19:\n",
            "  Asset Price: 340.14\n",
            "  Option Value: 0.00\n",
            "  Delta Hedge: 0.0000\n",
            "  Cash Account: 13.28\n",
            "\n",
            "Step 20:\n",
            "  Asset Price: 352.38\n",
            "  Option Value: 0.00\n",
            "  Delta Hedge: 0.0000\n",
            "  Cash Account: 13.28\n",
            "\n",
            "Step 21:\n",
            "  Asset Price: 365.06\n",
            "  Option Value: 0.00\n",
            "  Delta Hedge: 0.0000\n",
            "  Cash Account: 13.29\n",
            "\n",
            "Step 22:\n",
            "  Asset Price: 378.20\n",
            "  Option Value: 0.00\n",
            "  Delta Hedge: 0.0000\n",
            "  Cash Account: 13.29\n",
            "\n",
            "Step 23:\n",
            "  Asset Price: 391.81\n",
            "  Option Value: 0.00\n",
            "  Delta Hedge: 0.0000\n",
            "  Cash Account: 13.30\n",
            "\n",
            "Step 24:\n",
            "  Asset Price: 405.91\n",
            "  Option Value: 0.00\n",
            "  Delta Hedge: 0.0000\n",
            "  Cash Account: 13.30\n",
            "\n",
            "Step 25:\n",
            "  Asset Price: 420.52\n",
            "  Option Value: 0.00\n",
            "  Delta Hedge: 0.0000\n",
            "  Cash Account: 13.31\n",
            "\n",
            "Delta hedging for an American option is more complex than for a European option, as we must account for the early exercise feature.\n",
            "This means that the delta may change abruptly if it becomes optimal to exercise the option early, which affects the stability and predictability of the hedging strategy.\n"
          ]
        }
      ]
    },
    {
      "cell_type": "markdown",
      "source": [
        "**27. Asian ATM Put Option - Using Binomial Tree**"
      ],
      "metadata": {
        "id": "JY-yIOrMVoJE"
      }
    },
    {
      "cell_type": "markdown",
      "source": [
        "**Parameters**\n",
        "\n",
        "- S0 = 182 (Initial stock price for ATM Put Option)\n",
        "- r = 0.02       (Risk-free rate)\n",
        "- sigma = 0.25  (Volatility)\n",
        "- T = 6 / 12     (Time to expiration in years (6 months))\n",
        "- K = 182       (Strike price (ATM option))"
      ],
      "metadata": {
        "id": "xiYR7SIoV8fm"
      }
    },
    {
      "cell_type": "code",
      "source": [
        "def binomial_asian_put_delta_hedging(S0, K, r, T, sigma, N):\n",
        "    \"\"\"\n",
        "    Perform delta hedging of an Asian put option using a binomial tree approach.\n",
        "\n",
        "    Parameters:\n",
        "    - S0: Initial stock price\n",
        "    - K: Strike price\n",
        "    - r: Risk-free interest rate\n",
        "    - T: Time to maturity (in years)\n",
        "    - sigma: Volatility of the underlying asset\n",
        "    - N: Number of steps in the binomial tree\n",
        "\n",
        "    Returns:\n",
        "    - option_price: Price of the Asian put option from the perspective of the seller\n",
        "    - cash_flows: List of cash flows at each step due to re-hedging\n",
        "    \"\"\"\n",
        "    dt = T / N  # Time increment\n",
        "    u = np.exp(sigma * np.sqrt(dt))  # Up movement factor\n",
        "    d = 1 / u  # Down movement factor\n",
        "    p = (np.exp(r * dt) - d) / (u - d)  # Risk-neutral probability\n",
        "\n",
        "    # Initialize stock price tree\n",
        "    stock_tree = np.zeros((N + 1, N + 1))\n",
        "    stock_tree[0, 0] = S0\n",
        "\n",
        "    # Fill the stock price tree\n",
        "    for i in range(1, N + 1):\n",
        "        stock_tree[i, 0] = stock_tree[i - 1, 0] * u\n",
        "        for j in range(1, i + 1):\n",
        "            stock_tree[i, j] = stock_tree[i - 1, j - 1] * d\n",
        "\n",
        "    # Initialize option value and delta trees\n",
        "    option_tree = np.zeros((N + 1, N + 1))\n",
        "    delta_tree = np.zeros((N, N))\n",
        "\n",
        "    # Calculate average stock prices at maturity\n",
        "    avg_price = np.zeros(N + 1)\n",
        "    for i in range(N + 1):\n",
        "        avg_price[i] = np.mean(stock_tree[i, :i+1])\n",
        "\n",
        "    # Set option values at maturity\n",
        "    for j in range(N + 1):\n",
        "        option_tree[N, j] = max(K - avg_price[j], 0)\n",
        "\n",
        "    # Backward induction through the tree\n",
        "    for i in range(N - 1, -1, -1):\n",
        "        for j in range(i + 1):\n",
        "            avg_price[j] = (stock_tree[i, j] + j * avg_price[j]) / (j + 1)\n",
        "            option_value_up = option_tree[i + 1, j]\n",
        "            option_value_down = option_tree[i + 1, j + 1]\n",
        "            option_tree[i, j] = np.exp(-r * dt) * (p * option_value_up + (1 - p) * option_value_down)\n",
        "\n",
        "            # Delta calculation\n",
        "            delta_tree[i, j] = (option_value_up - option_value_down) / (stock_tree[i, j] * (u - d))\n",
        "\n",
        "    # Delta hedging and cash flow tracking\n",
        "    cash_flows = []\n",
        "    stock_position = 0  # Initial stock position for hedging\n",
        "\n",
        "    for i in range(N):\n",
        "        delta_needed = delta_tree[i, 0]  # Delta at this step\n",
        "        stock_price = stock_tree[i, 0]\n",
        "\n",
        "        # Cash flow due to adjusting delta (buy/sell stock)\n",
        "        cash_flow = (delta_needed - stock_position) * stock_price\n",
        "        cash_flows.append(cash_flow)\n",
        "\n",
        "        # Update stock position\n",
        "        stock_position = delta_needed\n",
        "\n",
        "    # Discount cash flows to get total cost of hedging\n",
        "    discounted_cash_flows = sum([cf * np.exp(-r * i * dt) for i, cf in enumerate(cash_flows)])\n",
        "\n",
        "    # Option price for seller (total hedging cost)\n",
        "    option_price = option_tree[0, 0]\n",
        "    hedged_price = option_price - discounted_cash_flows\n",
        "\n",
        "    return delta_tree, cash_flows, option_price,  hedged_price\n",
        "\n",
        "# Example parameters\n",
        "S0 = 182      # Initial stock price\n",
        "K = 182        # Strike price\n",
        "r = 0.02       # Risk-free rate\n",
        "T = 6/12          # Time to maturity (1 year)\n",
        "sigma = 0.25    # Volatility\n",
        "N = 25         # Number of time steps in binomial tree\n",
        "\n",
        "delta_tree, cash_flows, option_price,  hedged_price = binomial_asian_put_delta_hedging(S0, K, r, T, sigma, N)\n",
        "\n",
        "print(\"Delta:\", delta_tree)\n",
        "print(\"Cash flows due to delta hedging at each step:\", cash_flows)\n",
        "print(\"Option Price:\", option_price)\n",
        "print(\"The hedged price of the Asian put option for the seller is:\", hedged_price)\n"
      ],
      "metadata": {
        "colab": {
          "base_uri": "https://localhost:8080/",
          "height": 0
        },
        "id": "t98ollKQV1Zn",
        "outputId": "d09a00f7-27bb-4c69-d88c-c3b7e8d92c99"
      },
      "execution_count": 55,
      "outputs": [
        {
          "output_type": "stream",
          "name": "stdout",
          "text": [
            "Delta: [[0. 0. 0. 0. 0. 0. 0. 0. 0. 0. 0. 0. 0. 0. 0. 0. 0. 0. 0. 0. 0. 0. 0. 0.\n",
            "  0.]\n",
            " [0. 0. 0. 0. 0. 0. 0. 0. 0. 0. 0. 0. 0. 0. 0. 0. 0. 0. 0. 0. 0. 0. 0. 0.\n",
            "  0.]\n",
            " [0. 0. 0. 0. 0. 0. 0. 0. 0. 0. 0. 0. 0. 0. 0. 0. 0. 0. 0. 0. 0. 0. 0. 0.\n",
            "  0.]\n",
            " [0. 0. 0. 0. 0. 0. 0. 0. 0. 0. 0. 0. 0. 0. 0. 0. 0. 0. 0. 0. 0. 0. 0. 0.\n",
            "  0.]\n",
            " [0. 0. 0. 0. 0. 0. 0. 0. 0. 0. 0. 0. 0. 0. 0. 0. 0. 0. 0. 0. 0. 0. 0. 0.\n",
            "  0.]\n",
            " [0. 0. 0. 0. 0. 0. 0. 0. 0. 0. 0. 0. 0. 0. 0. 0. 0. 0. 0. 0. 0. 0. 0. 0.\n",
            "  0.]\n",
            " [0. 0. 0. 0. 0. 0. 0. 0. 0. 0. 0. 0. 0. 0. 0. 0. 0. 0. 0. 0. 0. 0. 0. 0.\n",
            "  0.]\n",
            " [0. 0. 0. 0. 0. 0. 0. 0. 0. 0. 0. 0. 0. 0. 0. 0. 0. 0. 0. 0. 0. 0. 0. 0.\n",
            "  0.]\n",
            " [0. 0. 0. 0. 0. 0. 0. 0. 0. 0. 0. 0. 0. 0. 0. 0. 0. 0. 0. 0. 0. 0. 0. 0.\n",
            "  0.]\n",
            " [0. 0. 0. 0. 0. 0. 0. 0. 0. 0. 0. 0. 0. 0. 0. 0. 0. 0. 0. 0. 0. 0. 0. 0.\n",
            "  0.]\n",
            " [0. 0. 0. 0. 0. 0. 0. 0. 0. 0. 0. 0. 0. 0. 0. 0. 0. 0. 0. 0. 0. 0. 0. 0.\n",
            "  0.]\n",
            " [0. 0. 0. 0. 0. 0. 0. 0. 0. 0. 0. 0. 0. 0. 0. 0. 0. 0. 0. 0. 0. 0. 0. 0.\n",
            "  0.]\n",
            " [0. 0. 0. 0. 0. 0. 0. 0. 0. 0. 0. 0. 0. 0. 0. 0. 0. 0. 0. 0. 0. 0. 0. 0.\n",
            "  0.]\n",
            " [0. 0. 0. 0. 0. 0. 0. 0. 0. 0. 0. 0. 0. 0. 0. 0. 0. 0. 0. 0. 0. 0. 0. 0.\n",
            "  0.]\n",
            " [0. 0. 0. 0. 0. 0. 0. 0. 0. 0. 0. 0. 0. 0. 0. 0. 0. 0. 0. 0. 0. 0. 0. 0.\n",
            "  0.]\n",
            " [0. 0. 0. 0. 0. 0. 0. 0. 0. 0. 0. 0. 0. 0. 0. 0. 0. 0. 0. 0. 0. 0. 0. 0.\n",
            "  0.]\n",
            " [0. 0. 0. 0. 0. 0. 0. 0. 0. 0. 0. 0. 0. 0. 0. 0. 0. 0. 0. 0. 0. 0. 0. 0.\n",
            "  0.]\n",
            " [0. 0. 0. 0. 0. 0. 0. 0. 0. 0. 0. 0. 0. 0. 0. 0. 0. 0. 0. 0. 0. 0. 0. 0.\n",
            "  0.]\n",
            " [0. 0. 0. 0. 0. 0. 0. 0. 0. 0. 0. 0. 0. 0. 0. 0. 0. 0. 0. 0. 0. 0. 0. 0.\n",
            "  0.]\n",
            " [0. 0. 0. 0. 0. 0. 0. 0. 0. 0. 0. 0. 0. 0. 0. 0. 0. 0. 0. 0. 0. 0. 0. 0.\n",
            "  0.]\n",
            " [0. 0. 0. 0. 0. 0. 0. 0. 0. 0. 0. 0. 0. 0. 0. 0. 0. 0. 0. 0. 0. 0. 0. 0.\n",
            "  0.]\n",
            " [0. 0. 0. 0. 0. 0. 0. 0. 0. 0. 0. 0. 0. 0. 0. 0. 0. 0. 0. 0. 0. 0. 0. 0.\n",
            "  0.]\n",
            " [0. 0. 0. 0. 0. 0. 0. 0. 0. 0. 0. 0. 0. 0. 0. 0. 0. 0. 0. 0. 0. 0. 0. 0.\n",
            "  0.]\n",
            " [0. 0. 0. 0. 0. 0. 0. 0. 0. 0. 0. 0. 0. 0. 0. 0. 0. 0. 0. 0. 0. 0. 0. 0.\n",
            "  0.]\n",
            " [0. 0. 0. 0. 0. 0. 0. 0. 0. 0. 0. 0. 0. 0. 0. 0. 0. 0. 0. 0. 0. 0. 0. 0.\n",
            "  0.]]\n",
            "Cash flows due to delta hedging at each step: [0.0, 0.0, 0.0, 0.0, 0.0, 0.0, 0.0, 0.0, 0.0, 0.0, 0.0, 0.0, 0.0, 0.0, 0.0, 0.0, 0.0, 0.0, 0.0, 0.0, 0.0, 0.0, 0.0, 0.0, 0.0]\n",
            "Option Price: 0.0\n",
            "The hedged price of the Asian put option for the seller is: 0.0\n"
          ]
        }
      ]
    },
    {
      "cell_type": "markdown",
      "source": [
        "**Difference between Asian ATM option and European Option**\n",
        "The Asian ATM does results for delta for all steps because at *stock averaging* across steps results in delta very close to zero. The option payoff is path dependent, hence a small variation in the stock price along a path will result in a corresponding change in the payoff an intrinsic value of the option and consequently bringing the delta back to zero. Therefore, the seller does not require hedging for a delta of 0.\n",
        "\n",
        "The hedging process for European put option is almost ATM - as the strike price and iinitial stock price are very close. Unlike the Asian put option, the European option allows for option price hedging. This because delta is negative and close to -0.5. Interestingly, the seller would have to adjust option position as the underlying stock prices changes and delta becomes less negative (approaches 0). Naturally, the seller of the put option hopes that the stock exceeds the strike price at expiration (ITM) but if the reverse happens, the seller would have to go long on the option to mitigate potential losses at maturity. In essence, there is a dynamism in hedging and re-hedging process before option expiration."
      ],
      "metadata": {
        "id": "TnkDwm4_WiP6"
      }
    },
    {
      "cell_type": "markdown",
      "source": [
        "**Difference between Asian ATM option and American Option**.\n",
        "\n",
        "Unlike the Asian option, there is hedge price for the seller of an American option (which is even more valuable than that of the European option becuase of the flexibility of early exercise. The American put opton that is almost ATM is riskier to the seller than the European option, hence there is need for hedging and re-hedging of position."
      ],
      "metadata": {
        "id": "LAuPBfA5V1EI"
      }
    }
  ]
}