{
  "nbformat": 4,
  "nbformat_minor": 0,
  "metadata": {
    "colab": {
      "provenance": []
    },
    "kernelspec": {
      "name": "python3",
      "display_name": "Python 3"
    },
    "language_info": {
      "name": "python"
    }
  },
  "cells": [
    {
      "cell_type": "code",
      "source": [
        "import numpy as np\n",
        "from scipy.stats import norm\n",
        "import pandas as pd"
      ],
      "metadata": {
        "id": "R-TvUd-r2EfE"
      },
      "execution_count": 1,
      "outputs": []
    },
    {
      "cell_type": "markdown",
      "source": [
        "# **Step 1**"
      ],
      "metadata": {
        "id": "dqJbVrBcTANT"
      }
    },
    {
      "cell_type": "markdown",
      "source": [
        "### **Stochastic Volatility Modelling**\n",
        "\n",
        "\n",
        "\n",
        "\n"
      ],
      "metadata": {
        "id": "i59LTQJ5TG5Z"
      }
    },
    {
      "cell_type": "markdown",
      "source": [
        "**Heston Model Implementation**"
      ],
      "metadata": {
        "id": "h34YUkJfTlUL"
      }
    },
    {
      "cell_type": "markdown",
      "source": [
        "General Parameters"
      ],
      "metadata": {
        "id": "PwZmFewvg-Zk"
      }
    },
    {
      "cell_type": "code",
      "execution_count": 2,
      "metadata": {
        "id": "7g5qKfmago4Z"
      },
      "outputs": [],
      "source": [
        "#Initialize parameters\n",
        "import numpy as np\n",
        "from scipy.stats import norm\n",
        "\n",
        "S0 = 80  # Initial stock price\n",
        "r = 0.055  # Risk-free rate\n",
        "sigma = 0.35  # Initial volatility\n",
        "T = 3/12  # Time to maturity (3 months)\n",
        "\n",
        "# Heston model parameters\n",
        "v0 = 0.032  # Initial variance\n",
        "kappa = 1.85  # Mean reversion speed of variance\n",
        "theta = 0.045  # Long-term variance\n",
        "xi = 0.1  # Volatility of variance (typically between 0.1 and 0.5)\n",
        "\n",
        "# Simulation parameters\n",
        "num_simulations = 100000\n",
        "num_steps = 90  # 30 steps per month\n",
        "dt = T / num_steps"
      ]
    },
    {
      "cell_type": "code",
      "source": [
        "def heston_model_mc(S0, v0, r, T, kappa, theta, xi, rho, num_simulations, num_steps):\n",
        "    dt = T / num_steps\n",
        "\n",
        "    # Initialize arrays\n",
        "    S = np.zeros((num_simulations, num_steps + 1))\n",
        "    v = np.zeros((num_simulations, num_steps + 1))\n",
        "\n",
        "    # Set initial values\n",
        "    S[:, 0] = S0\n",
        "    v[:, 0] = v0\n",
        "\n",
        "    # Generate correlated random numbers\n",
        "    z1 = np.random.normal(0, 1, (num_simulations, num_steps))\n",
        "    z2 = rho * z1 + np.sqrt(1 - rho**2) * np.random.normal(0, 1, (num_simulations, num_steps))\n",
        "\n",
        "    for i in range(1, num_steps + 1):\n",
        "        S[:, i] = S[:, i-1] * np.exp((r - 0.5 * v[:, i-1]) * dt + np.sqrt(v[:, i-1] * dt) * z1[:, i-1])\n",
        "        v[:, i] = np.maximum(v[:, i-1] + kappa * (theta - v[:, i-1]) * dt + xi * np.sqrt(v[:, i-1] * dt) * z2[:, i-1], 0)\n",
        "\n",
        "    return S[:, -1]\n",
        "\n",
        "def price_option(S, K, r, T, option_type):\n",
        "    if option_type == 'call':\n",
        "        payoff = np.maximum(S - K, 0)\n",
        "    else:\n",
        "        payoff = np.maximum(K - S, 0)\n",
        "    return np.exp(-r * T) * np.mean(payoff)"
      ],
      "metadata": {
        "id": "YfvUgE9XhOY0"
      },
      "execution_count": 3,
      "outputs": []
    },
    {
      "cell_type": "markdown",
      "source": [
        "**5. Price ATM European call and put ($\\rho$ = -0.30)**"
      ],
      "metadata": {
        "id": "Es3E5lNEhZKw"
      }
    },
    {
      "cell_type": "code",
      "source": [
        "rho = -0.30\n",
        "K = S0  # ATM option\n",
        "\n",
        "final_prices_30 = heston_model_mc(S0, v0, r, T, kappa, theta, xi, rho == -0.30, num_simulations, num_steps)\n",
        "\n",
        "hs_call_price_30 = price_option(final_prices_30, K, r, T, 'call')\n",
        "hs_put_price_30 = price_option(final_prices_30, K, r, T, 'put')\n",
        "\n",
        "print(f\"ATM Heston European Call Price (rho = -0.30): ${hs_call_price_30:.2f}\")\n",
        "print(f\"ATM Heston European Put Price (rho = -0.30): ${hs_put_price_30:.2f}\")"
      ],
      "metadata": {
        "colab": {
          "base_uri": "https://localhost:8080/"
        },
        "id": "nTVly-qBhhxZ",
        "outputId": "bab1c754-6e48-49aa-e43b-bd8b6eabc8d1"
      },
      "execution_count": 4,
      "outputs": [
        {
          "output_type": "stream",
          "name": "stdout",
          "text": [
            "ATM Heston European Call Price (rho = -0.30): $3.49\n",
            "ATM Heston European Put Price (rho = -0.30): $2.42\n"
          ]
        }
      ]
    },
    {
      "cell_type": "markdown",
      "source": [
        "**6. Price ATM European call and put ($\\rho$ = -0.70)**"
      ],
      "metadata": {
        "id": "qrI24A9ah5Ty"
      }
    },
    {
      "cell_type": "code",
      "source": [
        "rho = -0.70\n",
        "K = S0  # ATM option\n",
        "\n",
        "final_prices_70 = heston_model_mc(S0, v0, r, T, kappa, theta, xi, rho == -0.70, num_simulations, num_steps)\n",
        "\n",
        "hs_call_price_70 = price_option(final_prices_70, K, r, T, 'call')\n",
        "hs_put_price_70 = price_option(final_prices_70, K, r, T, 'put')\n",
        "\n",
        "print(f\"ATM Heston European Call Price (rho = -0.70): ${hs_call_price_70:.2f}\")\n",
        "print(f\"ATM Heston European Put Price (rho = -0.70): ${hs_put_price_70:.2f}\")"
      ],
      "metadata": {
        "colab": {
          "base_uri": "https://localhost:8080/"
        },
        "id": "15Ju3me1iGwe",
        "outputId": "86cd1b5f-aa4e-4e63-c15c-69be66ce0ce1"
      },
      "execution_count": 5,
      "outputs": [
        {
          "output_type": "stream",
          "name": "stdout",
          "text": [
            "ATM Heston European Call Price (rho = -0.70): $3.49\n",
            "ATM Heston European Put Price (rho = -0.70): $2.42\n"
          ]
        }
      ]
    },
    {
      "cell_type": "markdown",
      "source": [
        "**7. Heston's Delta and Gamma**"
      ],
      "metadata": {
        "id": "0GkC471RiPtV"
      }
    },
    {
      "cell_type": "code",
      "source": [
        "def calculate_greeks(S0, v0, r, T, kappa, theta, xi, rho, K, num_simulations, num_steps, option_type, h=0.01): # h = small pertubation in variable\n",
        "    # Base price\n",
        "    final_prices = heston_model_mc(S0, v0, r, T, kappa, theta, xi, rho, num_simulations, num_steps)\n",
        "    base_price = price_option(final_prices, K, r, T, option_type)\n",
        "\n",
        "    # Up price\n",
        "    final_prices_up = heston_model_mc(S0 + h, v0, r, T, kappa, theta, xi, rho, num_simulations, num_steps)\n",
        "    up_price = price_option(final_prices_up, K, r, T, option_type)\n",
        "\n",
        "    # Down price\n",
        "    final_prices_down = heston_model_mc(S0 - h, v0, r, T, kappa, theta, xi, rho, num_simulations, num_steps)\n",
        "    down_price = price_option(final_prices_down, K, r, T, option_type)\n",
        "\n",
        "    # Calculate delta\n",
        "    delta = (up_price - down_price) / (2 * h)\n",
        "\n",
        "    # Calculate gamma\n",
        "    gamma = (up_price - 2 * base_price + down_price) / (h ** 2)\n",
        "\n",
        "    return delta, gamma\n",
        "\n",
        "# Calculate greeks for rho = -0.30\n",
        "rho = -0.30\n",
        "hs_call_delta, hs_call_gamma = calculate_greeks(S0, v0, r, T, kappa, theta, xi, rho, K, num_simulations, num_steps, 'call')\n",
        "hs_put_delta, hs_put_gamma = calculate_greeks(S0, v0, r, T, kappa, theta, xi, rho, K, num_simulations, num_steps, 'put')\n",
        "\n",
        "print(f\" Heston Call Delta (rho = -0.30): {hs_call_delta:.4f}\")\n",
        "print(f\" Heston Call Gamma (rho = -0.30): {hs_call_gamma:.4f}\")\n",
        "print(f\"Heston Put Delta (rho = -0.30): {hs_put_delta:.4f}\")\n",
        "print(f\"Heston Put Gamma (rho = -0.30): {hs_put_gamma:.4f}\")\n",
        "\n",
        "# Calculate greeks for rho = -0.70\n",
        "rho = -0.70\n",
        "hs_call_delta, hs_call_gamma = calculate_greeks(S0, v0, r, T, kappa, theta, xi, rho, K, num_simulations, num_steps, 'call')\n",
        "hs_put_delta, hs_put_gamma = calculate_greeks(S0, v0, r, T, kappa, theta, xi, rho, K, num_simulations, num_steps, 'put')\n",
        "\n",
        "print(f\"Heston Call Delta (rho = -0.70): {hs_call_delta:.4f}\")\n",
        "print(f\"Heston Call Gamma (rho = -0.70): {hs_call_gamma:.4f}\")\n",
        "print(f\"Heston Put Delta (rho = -0.70): {hs_put_delta:.4f}\")\n",
        "print(f\"Heston Put Gamma (rho = -0.70): {hs_put_gamma:.4f}\")"
      ],
      "metadata": {
        "colab": {
          "base_uri": "https://localhost:8080/"
        },
        "id": "Uvf0iaRhid14",
        "outputId": "4f65bd88-7097-4381-92ba-cacf5adf9893"
      },
      "execution_count": 6,
      "outputs": [
        {
          "output_type": "stream",
          "name": "stdout",
          "text": [
            " Heston Call Delta (rho = -0.30): 1.6282\n",
            " Heston Call Gamma (rho = -0.30): -519.4442\n",
            "Heston Put Delta (rho = -0.30): 0.0080\n",
            "Heston Put Gamma (rho = -0.30): -12.6955\n",
            "Heston Call Delta (rho = -0.70): 1.2880\n",
            "Heston Call Gamma (rho = -0.70): -500.0661\n",
            "Heston Put Delta (rho = -0.70): 0.3710\n",
            "Heston Put Gamma (rho = -0.70): -396.9052\n"
          ]
        }
      ]
    },
    {
      "cell_type": "markdown",
      "source": [
        "### **Jump Modelling**"
      ],
      "metadata": {
        "id": "UM9F7fhhWb_P"
      }
    },
    {
      "cell_type": "markdown",
      "source": [
        "**Merton Model**"
      ],
      "metadata": {
        "id": "D4NwhId_Wnvj"
      }
    },
    {
      "cell_type": "markdown",
      "source": [
        "**8. Price ATM European call and put ($\\lambda$ = 0.75)**"
      ],
      "metadata": {
        "id": "dbwMFYoDW2iJ"
      }
    },
    {
      "cell_type": "code",
      "source": [
        "## Initialize parameters\n",
        "\n",
        "mu = -0.5  # average jump size\n",
        "delta = 0.22  # Delta\n",
        "r = 0.055  # Risk-free rate\n",
        "sigma = 0.35  # Volatility\n",
        "T = 3/12  # Maturity/time period (in years)\n",
        "S0 = 80  # Current Stock Price\n",
        "K = S0 # ATM strike\n",
        "\n",
        "Ite = 100000  # Number of simulations (paths)\n",
        "M = 90  # Number of steps (in 3 months)\n",
        "dt = T / M  # Time-step\n",
        "t = 0"
      ],
      "metadata": {
        "id": "Bm9mWdA31qxZ"
      },
      "execution_count": 7,
      "outputs": []
    },
    {
      "cell_type": "code",
      "source": [
        "SM = np.zeros((M + 1, Ite))\n",
        "SM[0] = S0\n",
        "def merton_call_mc(SM, K, r, lamb, T, t,sigma, delta):\n",
        "    # rj\n",
        "    rj = lamb * (np.exp(mu + 0.5 * delta**2) - 1)\n",
        "\n",
        "    # Random numbers\n",
        "    z1 = np.random.standard_normal((M + 1, Ite))\n",
        "    z2 = np.random.standard_normal((M + 1, Ite))\n",
        "    y = np.random.poisson(lamb * dt, (M + 1, Ite))\n",
        "\n",
        "\n",
        "    for t in range(1, M + 1):\n",
        "        SM[t] = SM[t - 1,:] * (\n",
        "            np.exp((r - rj - 0.5 * sigma**2) * dt + sigma * np.sqrt(dt) * z1[t])\n",
        "            + (np.exp(mu + delta * z2[t]) - 1) * y[t]\n",
        "            )\n",
        "    return np.maximum(SM[t], 0.00001)  # To ensure that the price never goes below zero!\n",
        "\n",
        "def option_price (SM, K, option_type):\n",
        "    if option_type == 'call':\n",
        "        payoff = np.maximum(0, SM - K)\n",
        "    else:\n",
        "        payoff = np.maximum(0, K - SM )\n",
        "\n",
        "    average = np.mean(payoff)\n",
        "\n",
        "    return np.exp(-r * (T - t)) * average"
      ],
      "metadata": {
        "id": "uTePg8jKXv7g"
      },
      "execution_count": 8,
      "outputs": []
    },
    {
      "cell_type": "code",
      "source": [
        "final_stock_price_75 = merton_call_mc(SM, K, r, 0.75, T, 0, sigma, delta)\n",
        "\n",
        "mt_call_price_75 = option_price(final_stock_price_75, K, 'call')\n",
        "mt_put_price_75 = option_price(final_stock_price_75,  K, 'put')\n",
        "\n",
        "print(f\"European Call Price under Merton (lambda = 0.75) : {mt_call_price_75:.2f}\")\n",
        "print(f\"European Put Price under Merton  (lambda = 0.75) : {mt_put_price_75:.2f}\")"
      ],
      "metadata": {
        "colab": {
          "base_uri": "https://localhost:8080/"
        },
        "id": "BXkhsOv6YV84",
        "outputId": "95cc5a97-94ec-47d6-c13b-bbb19c42829c"
      },
      "execution_count": 9,
      "outputs": [
        {
          "output_type": "stream",
          "name": "stdout",
          "text": [
            "European Call Price under Merton (lambda = 0.75) : 8.34\n",
            "European Put Price under Merton  (lambda = 0.75) : 7.20\n"
          ]
        }
      ]
    },
    {
      "cell_type": "markdown",
      "source": [
        "**9. Price ATM European call and put ($\\lambda$ = 0.25)**"
      ],
      "metadata": {
        "id": "dkMJOBywYvU4"
      }
    },
    {
      "cell_type": "code",
      "source": [
        "final_stock_price_25 = merton_call_mc(SM, K, r, 0.25, T, 0, sigma, delta)\n",
        "\n",
        "mt_call_price_25 = option_price(final_stock_price_25, K, 'call')\n",
        "mt_put_price_25 = option_price(final_stock_price_25,  K, 'put')\n",
        "\n",
        "print(f\"European Call Price under Merton (lambda = 0.25) : {mt_call_price_25:.2f}\")\n",
        "print(f\"European Put Price under Merton  (lambda = 0.25) : {mt_put_price_25:.2f}\")"
      ],
      "metadata": {
        "colab": {
          "base_uri": "https://localhost:8080/"
        },
        "id": "DU_YNhY9Y5BY",
        "outputId": "f456c9b5-6b0a-4e9e-d2da-daeac4c82fc2"
      },
      "execution_count": 10,
      "outputs": [
        {
          "output_type": "stream",
          "name": "stdout",
          "text": [
            "European Call Price under Merton (lambda = 0.25) : 6.83\n",
            "European Put Price under Merton  (lambda = 0.25) : 5.74\n"
          ]
        }
      ]
    },
    {
      "cell_type": "markdown",
      "source": [
        "**10. Merton's Delta and Gamma**"
      ],
      "metadata": {
        "id": "9tuZZlsNZYQw"
      }
    },
    {
      "cell_type": "code",
      "source": [
        "# Initialize parameters\n",
        "\n",
        "mu = -0.5  # average jump size\n",
        "delta = 0.22  # Delta\n",
        "r = 0.055  # Risk-free rate\n",
        "sigma = 0.35  # Volatility\n",
        "T = 3/12  # Maturity/time period (in years)\n",
        "S0 = 80  # Current Stock Price\n",
        "K = S0 # ATM strike\n",
        "\n",
        "Ite = 100000  # Number of simulations (paths)\n",
        "M = 90  # Number of steps (in 3 months)\n",
        "dt = T / M  # Time-step\n",
        "t = 0 # Start time"
      ],
      "metadata": {
        "id": "aUVgA6OOZm11"
      },
      "execution_count": 11,
      "outputs": []
    },
    {
      "cell_type": "code",
      "source": [
        "def merton_greeks(SM, r, T, lamb, K, Ite, M, option_type, h=0.01): # h = small pertubation in variable\n",
        "    final_stock_price = merton_call_mc(SM, K, r, lamb, T, 0, sigma, delta)\n",
        "    # Base price\n",
        "    price = option_price(final_stock_price, K, option_type)\n",
        "\n",
        "    # Up price\n",
        "    price_up = option_price(final_stock_price + h, K, option_type)\n",
        "\n",
        "    # Down price\n",
        "    price_down = option_price(final_stock_price - h, K, option_type)\n",
        "\n",
        "    # Calculate delta\n",
        "    mt_delta = (price_up - price_down) / (2 * h)\n",
        "\n",
        "    # Calculate gamma\n",
        "    mt_gamma = (price_up - 2 * price + price_down) / (h ** 2)\n",
        "\n",
        "    return mt_delta, mt_gamma\n",
        "\n",
        "# Calculate greeks for lambda = 0.75\n",
        "mt_call_delta, mt_call_gamma =  merton_greeks(SM, r, T, 0.75, K, Ite, M, 'call' , h=0.01)\n",
        "mt_put_delta, mt_put_gamma =  merton_greeks(SM, r, T, 0.75, K, Ite, M, 'put' , h=0.01)\n",
        "\n",
        "print(f\" Merton Call Delta (lambda = 0.75): {mt_call_delta:.4f}\")\n",
        "print(f\" Merton Call Gamma (lambda = 0.75): {mt_call_gamma:.4f}\")\n",
        "print(f\"Merton Put Delta (lambda = 0.75): {mt_put_delta:.4f}\")\n",
        "print(f\"Merton Put Gamma (lambda = 0.75): {mt_put_gamma:.4f}\")\n",
        "\n",
        "# Calculate greeks for lamba = 0.25\n",
        "mt_call_delta, mt_call_gamma =  merton_greeks(SM, r, T, 0.25, K, Ite, M, 'call' , h=0.01)\n",
        "mt_put_delta, mt_put_gamma =  merton_greeks(SM, r, T,0.25, K, Ite, M, 'put' , h=0.01)\n",
        "\n",
        "print(f\" Merton Call Delta (lambda = 0.25): {mt_call_delta:.4f}\")\n",
        "print(f\" Merton Call Gamma (lambda = 0.25): {mt_call_gamma:.4f}\")\n",
        "print(f\"Merton Put Delta (lambda = 0.25): {mt_put_delta:.4f}\")\n",
        "print(f\"Merton Put Gamma (lambda = 0.25): {mt_put_gamma:.4f}\")"
      ],
      "metadata": {
        "colab": {
          "base_uri": "https://localhost:8080/"
        },
        "id": "Oiod0IG7Z42A",
        "outputId": "70e32ca7-6065-47c1-a6b6-7be764ec48d1"
      },
      "execution_count": 12,
      "outputs": [
        {
          "output_type": "stream",
          "name": "stdout",
          "text": [
            " Merton Call Delta (lambda = 0.75): 0.5433\n",
            " Merton Call Gamma (lambda = 0.75): 0.0195\n",
            "Merton Put Delta (lambda = 0.75): -0.4421\n",
            "Merton Put Gamma (lambda = 0.75): 0.0222\n",
            " Merton Call Delta (lambda = 0.25): 0.5142\n",
            " Merton Call Gamma (lambda = 0.25): 0.0300\n",
            "Merton Put Delta (lambda = 0.25): -0.4754\n",
            "Merton Put Gamma (lambda = 0.25): 0.0261\n"
          ]
        }
      ]
    },
    {
      "cell_type": "markdown",
      "source": [
        "### **Model Validation**"
      ],
      "metadata": {
        "id": "BXLbKVz-aoe2"
      }
    },
    {
      "cell_type": "markdown",
      "source": [
        "**11. Put-Call Parity (Heston-Merton Comparison)**"
      ],
      "metadata": {
        "id": "nDhlwK_ja8GC"
      }
    },
    {
      "cell_type": "code",
      "source": [
        "# Put-Call Parity Difference for Heston Model (when rho = -0.30)\n",
        "hs_parity_difference_30 = hs_call_price_30 - hs_put_price_30 - (S0 - K * np.exp(-r * T))\n",
        "print(f\"Heston Put-Call Parity Difference (rho = -0.30): {hs_parity_difference_30:.4f}\")"
      ],
      "metadata": {
        "colab": {
          "base_uri": "https://localhost:8080/"
        },
        "id": "65fG5OpDadfR",
        "outputId": "a17c1a02-5d74-489b-acbc-49aa804db45a"
      },
      "execution_count": 13,
      "outputs": [
        {
          "output_type": "stream",
          "name": "stdout",
          "text": [
            "Heston Put-Call Parity Difference (rho = -0.30): -0.0239\n"
          ]
        }
      ]
    },
    {
      "cell_type": "code",
      "source": [
        "# Put-Call Parity Difference for Heston Model (when rho = -0.70)\n",
        "hs_parity_difference_70 = hs_call_price_70 - hs_put_price_70 - (S0 - K * np.exp(-r * T))\n",
        "print(f\"Heston Put-Call Parity Difference (rho = -0.70): {hs_parity_difference_70:.4f}\")"
      ],
      "metadata": {
        "colab": {
          "base_uri": "https://localhost:8080/"
        },
        "id": "sSDPKu0MbNed",
        "outputId": "469500ef-ab55-42ce-d623-164689823368"
      },
      "execution_count": 14,
      "outputs": [
        {
          "output_type": "stream",
          "name": "stdout",
          "text": [
            "Heston Put-Call Parity Difference (rho = -0.70): -0.0253\n"
          ]
        }
      ]
    },
    {
      "cell_type": "code",
      "source": [
        "# Put-Call Parity Difference for Merton Model (when lamda = 0.75)\n",
        "mt_parity_difference_75 = mt_call_price_75 - mt_put_price_75 - (S0 - K * np.exp(-r * T))\n",
        "print(f\"Merton Put-Call Parity Difference (lamda = 0.75): {mt_parity_difference_75:.4f}\")"
      ],
      "metadata": {
        "colab": {
          "base_uri": "https://localhost:8080/"
        },
        "id": "224UWTNIbTQV",
        "outputId": "1e7e43a5-d110-400e-88ee-2407b754482a"
      },
      "execution_count": 15,
      "outputs": [
        {
          "output_type": "stream",
          "name": "stdout",
          "text": [
            "Merton Put-Call Parity Difference (lamda = 0.75): 0.0542\n"
          ]
        }
      ]
    },
    {
      "cell_type": "code",
      "source": [
        "# Put-Call Parity Difference for Merton Model (when lamda = 0.25)\n",
        "mt_parity_difference_25 = mt_call_price_25 - mt_put_price_25 - (S0 - K * np.exp(-r * T))\n",
        "print(f\"Merton Put-Call Parity Difference (lamda = 0.25): {mt_parity_difference_25:.4f}\")"
      ],
      "metadata": {
        "colab": {
          "base_uri": "https://localhost:8080/"
        },
        "id": "f8QWgGNWbjkC",
        "outputId": "c8d67613-1976-4585-b562-7d57799af2f9"
      },
      "execution_count": 16,
      "outputs": [
        {
          "output_type": "stream",
          "name": "stdout",
          "text": [
            "Merton Put-Call Parity Difference (lamda = 0.25): 0.0004\n"
          ]
        }
      ]
    },
    {
      "cell_type": "markdown",
      "source": [
        "Put-Call Parity is satisfied under both the Heston and Merton models. While the parity difference for both models are within a tolerance range very close to zero, it suffice to say that The averaging of option prices across a large number of simulations tend give varying values but significantly low deviation from 0."
      ],
      "metadata": {
        "id": "FKpAbfZub0zs"
      }
    },
    {
      "cell_type": "markdown",
      "source": [
        "**12. Heston & Merton Option Prices with Different Strikes**"
      ],
      "metadata": {
        "id": "1FCLxLvxcHZo"
      }
    },
    {
      "cell_type": "markdown",
      "source": [
        "**S0 = 80**\n",
        "\n",
        "\n",
        " **For Call Option:**\n",
        "- For Deep ITM:\n",
        "- i. we will consider moneyness (K/S0_) of **85%**. (i.e **K = 68**)\n",
        "- ii. we will consider moneyness (K/S0_) of **90%**. (i.e **K = 72**)\n",
        "\n",
        "- For ITM :\n",
        "- we will consider moneyness (K/S0) of **95%** (i.e **K = 76**)\n",
        "\n",
        "- ATM: K = S0 = **80** (moneyness (K/S0) of **100%**)\n",
        "\n",
        "- For OTM:\n",
        "- - we will consider moneyness (K/S0) of **105%**. (i.e **K = 84**)\n",
        "\n",
        "- For Deep OTM:\n",
        "- i. we will consider moneyness (K/S0) of **110%** (i.e **K = 88**)\n",
        "- ii. we will consider moneyness (K/S0) of **115%** (i.e **K = 92**)\n",
        "\n",
        "**For Put Option:**\n",
        "- For Deep OTM:\n",
        "- i. we will consider moneyness (K/S0_) of **85%**. (i.e **K = 68**)\n",
        "- ii. we will consider moneyness (K/S0_) of **90%**. (i.e **K = 72**)\n",
        "\n",
        "- For OTM :\n",
        "- - we will consider moneyness (K/S0) of **95%** (i.e **K = 76**)\n",
        "\n",
        "- ATM: K = S0 = **80** (moneyness (K/S0) of **100%**)\n",
        "\n",
        "- For ITM:\n",
        "- - we will consider moneyness (K/S0) of **105%**. (i.e **K = 84**)\n",
        "\n",
        "- For Deep ITM:\n",
        "- i. we will consider moneyness (K/S0) of **110%** (i.e **K = 88**)\n",
        "- ii. we will consider moneyness (K/S0) of **115%** (i.e **K = 92**)\n"
      ],
      "metadata": {
        "id": "5oEJNBydcLaN"
      }
    },
    {
      "cell_type": "markdown",
      "source": [
        "**Heston European Calls & Puts**"
      ],
      "metadata": {
        "id": "TpWxMAQBdBmJ"
      }
    },
    {
      "cell_type": "code",
      "source": [
        "# Heston European Calls for different Strike Prices (rho = -0.30)\n",
        "hs_european_call_30_array = []\n",
        "for K in [68, 72, 76, 80, 84, 88, 92]:\n",
        "    hs_european_call_price_30 = price_option(final_prices_30, K, r, T, 'call')\n",
        "    hs_european_call_30_array.append(hs_european_call_price_30)\n",
        "    print(\"With K = {:3d}, Heston Call price (rho = -0.30) is {:.2f}\".format(K, hs_european_call_price_30))"
      ],
      "metadata": {
        "colab": {
          "base_uri": "https://localhost:8080/"
        },
        "id": "vcfs4Mcmc8Jq",
        "outputId": "72fcd97f-193a-4de5-fb06-636d3f66dd46"
      },
      "execution_count": 17,
      "outputs": [
        {
          "output_type": "stream",
          "name": "stdout",
          "text": [
            "With K =  68, Heston Call price (rho = -0.30) is 12.94\n",
            "With K =  72, Heston Call price (rho = -0.30) is 9.20\n",
            "With K =  76, Heston Call price (rho = -0.30) is 5.96\n",
            "With K =  80, Heston Call price (rho = -0.30) is 3.49\n",
            "With K =  84, Heston Call price (rho = -0.30) is 1.86\n",
            "With K =  88, Heston Call price (rho = -0.30) is 0.92\n",
            "With K =  92, Heston Call price (rho = -0.30) is 0.42\n"
          ]
        }
      ]
    },
    {
      "cell_type": "code",
      "source": [
        "# Heston European Calls for different Strike Prices (rho = -0.70)\n",
        "hs_european_call_70_array = []\n",
        "for K in [68, 72, 76, 80, 84, 88, 92]:\n",
        "    hs_european_call_price_70 = price_option(final_prices_70, K, r, T, 'call')\n",
        "    hs_european_call_70_array.append(hs_european_call_price_70)\n",
        "    print(\"With K = {:3d}, Heston Call price (rho = -0.70) is {:.2f}\".format(K, hs_european_call_price_70))"
      ],
      "metadata": {
        "colab": {
          "base_uri": "https://localhost:8080/"
        },
        "id": "FI6x8R_KdKsf",
        "outputId": "2f226b36-5bc6-4439-b11e-2764989d564d"
      },
      "execution_count": 18,
      "outputs": [
        {
          "output_type": "stream",
          "name": "stdout",
          "text": [
            "With K =  68, Heston Call price (rho = -0.70) is 12.94\n",
            "With K =  72, Heston Call price (rho = -0.70) is 9.20\n",
            "With K =  76, Heston Call price (rho = -0.70) is 5.96\n",
            "With K =  80, Heston Call price (rho = -0.70) is 3.49\n",
            "With K =  84, Heston Call price (rho = -0.70) is 1.86\n",
            "With K =  88, Heston Call price (rho = -0.70) is 0.91\n",
            "With K =  92, Heston Call price (rho = -0.70) is 0.42\n"
          ]
        }
      ]
    },
    {
      "cell_type": "code",
      "source": [
        "# Heston European Puts for different Strike Prices (rho = -0.30)\n",
        "hs_european_put_30_array = []\n",
        "for K in [68, 72, 76, 80, 84, 88, 92]:\n",
        "    hs_european_put_price_30 = price_option(final_prices_30, K, r, T, 'put')\n",
        "    hs_european_put_30_array.append(hs_european_put_price_30)\n",
        "    print(\"With K = {:3d}, Heston Put price (rho = -0.30) is {:.2f}\".format(K, hs_european_put_price_30))"
      ],
      "metadata": {
        "colab": {
          "base_uri": "https://localhost:8080/"
        },
        "id": "TjuKLAZ0dZJj",
        "outputId": "f0f4dbc7-d9c7-43dd-fc8f-44548385e51a"
      },
      "execution_count": 19,
      "outputs": [
        {
          "output_type": "stream",
          "name": "stdout",
          "text": [
            "With K =  68, Heston Put price (rho = -0.30) is 0.03\n",
            "With K =  72, Heston Put price (rho = -0.30) is 0.25\n",
            "With K =  76, Heston Put price (rho = -0.30) is 0.94\n",
            "With K =  80, Heston Put price (rho = -0.30) is 2.42\n",
            "With K =  84, Heston Put price (rho = -0.30) is 4.74\n",
            "With K =  88, Heston Put price (rho = -0.30) is 7.74\n",
            "With K =  92, Heston Put price (rho = -0.30) is 11.19\n"
          ]
        }
      ]
    },
    {
      "cell_type": "code",
      "source": [
        "# Heston European Puts for different Strike Prices (rho = -0.70)\n",
        "hs_european_put_70_array = []\n",
        "for K in [68, 72, 76, 80, 84, 88, 92]:\n",
        "    hs_european_put_price_70 = price_option(final_prices_70, K, r, T, 'put')\n",
        "    hs_european_put_70_array.append(hs_european_put_price_70)\n",
        "    print(\"With K = {:3d}, Heston Put price (rho = -0.70) is {:.2f}\".format(K, hs_european_put_price_70))"
      ],
      "metadata": {
        "colab": {
          "base_uri": "https://localhost:8080/"
        },
        "id": "TBMw7osedeiN",
        "outputId": "1e076813-33af-41cc-cc3c-0d8fada4467b"
      },
      "execution_count": 20,
      "outputs": [
        {
          "output_type": "stream",
          "name": "stdout",
          "text": [
            "With K =  68, Heston Put price (rho = -0.70) is 0.03\n",
            "With K =  72, Heston Put price (rho = -0.70) is 0.24\n",
            "With K =  76, Heston Put price (rho = -0.70) is 0.95\n",
            "With K =  80, Heston Put price (rho = -0.70) is 2.42\n",
            "With K =  84, Heston Put price (rho = -0.70) is 4.74\n",
            "With K =  88, Heston Put price (rho = -0.70) is 7.73\n",
            "With K =  92, Heston Put price (rho = -0.70) is 11.18\n"
          ]
        }
      ]
    },
    {
      "cell_type": "code",
      "source": [
        "# compile list of arrays\n",
        "strike_prices = np.array([68, 72, 76, 80, 84, 88, 92]) # for 3 ITMs, ATM, & 3 OTMs\n",
        "heston_euro_raw_data = pd.DataFrame([strike_prices, hs_european_call_30_array, hs_european_put_30_array, hs_european_call_70_array, hs_european_put_70_array ])\n",
        "heston_euro_data = heston_euro_raw_data.transpose()\n",
        "heston_euro_data.columns = [\"Strike_prices\", \"Heston_Call_30\", \"Heston_Put_30\",\"Heston_Call_70\", \"Heston_Put_70\" ]\n",
        "heston_euro_data.round(2)"
      ],
      "metadata": {
        "colab": {
          "base_uri": "https://localhost:8080/",
          "height": 269
        },
        "id": "HZN5TPFddkoX",
        "outputId": "193de932-63ff-41c3-f3a4-fc73f07c05bc"
      },
      "execution_count": 21,
      "outputs": [
        {
          "output_type": "execute_result",
          "data": {
            "text/plain": [
              "   Strike_prices  Heston_Call_30  Heston_Put_30  Heston_Call_70  Heston_Put_70\n",
              "0           68.0           12.94           0.03           12.94           0.03\n",
              "1           72.0            9.20           0.25            9.20           0.24\n",
              "2           76.0            5.96           0.94            5.96           0.95\n",
              "3           80.0            3.49           2.42            3.49           2.42\n",
              "4           84.0            1.86           4.74            1.86           4.74\n",
              "5           88.0            0.92           7.74            0.91           7.73\n",
              "6           92.0            0.42          11.19            0.42          11.18"
            ],
            "text/html": [
              "\n",
              "  <div id=\"df-fd5ef488-cf23-4c38-b9d6-3f251ed0c26e\" class=\"colab-df-container\">\n",
              "    <div>\n",
              "<style scoped>\n",
              "    .dataframe tbody tr th:only-of-type {\n",
              "        vertical-align: middle;\n",
              "    }\n",
              "\n",
              "    .dataframe tbody tr th {\n",
              "        vertical-align: top;\n",
              "    }\n",
              "\n",
              "    .dataframe thead th {\n",
              "        text-align: right;\n",
              "    }\n",
              "</style>\n",
              "<table border=\"1\" class=\"dataframe\">\n",
              "  <thead>\n",
              "    <tr style=\"text-align: right;\">\n",
              "      <th></th>\n",
              "      <th>Strike_prices</th>\n",
              "      <th>Heston_Call_30</th>\n",
              "      <th>Heston_Put_30</th>\n",
              "      <th>Heston_Call_70</th>\n",
              "      <th>Heston_Put_70</th>\n",
              "    </tr>\n",
              "  </thead>\n",
              "  <tbody>\n",
              "    <tr>\n",
              "      <th>0</th>\n",
              "      <td>68.0</td>\n",
              "      <td>12.94</td>\n",
              "      <td>0.03</td>\n",
              "      <td>12.94</td>\n",
              "      <td>0.03</td>\n",
              "    </tr>\n",
              "    <tr>\n",
              "      <th>1</th>\n",
              "      <td>72.0</td>\n",
              "      <td>9.20</td>\n",
              "      <td>0.25</td>\n",
              "      <td>9.20</td>\n",
              "      <td>0.24</td>\n",
              "    </tr>\n",
              "    <tr>\n",
              "      <th>2</th>\n",
              "      <td>76.0</td>\n",
              "      <td>5.96</td>\n",
              "      <td>0.94</td>\n",
              "      <td>5.96</td>\n",
              "      <td>0.95</td>\n",
              "    </tr>\n",
              "    <tr>\n",
              "      <th>3</th>\n",
              "      <td>80.0</td>\n",
              "      <td>3.49</td>\n",
              "      <td>2.42</td>\n",
              "      <td>3.49</td>\n",
              "      <td>2.42</td>\n",
              "    </tr>\n",
              "    <tr>\n",
              "      <th>4</th>\n",
              "      <td>84.0</td>\n",
              "      <td>1.86</td>\n",
              "      <td>4.74</td>\n",
              "      <td>1.86</td>\n",
              "      <td>4.74</td>\n",
              "    </tr>\n",
              "    <tr>\n",
              "      <th>5</th>\n",
              "      <td>88.0</td>\n",
              "      <td>0.92</td>\n",
              "      <td>7.74</td>\n",
              "      <td>0.91</td>\n",
              "      <td>7.73</td>\n",
              "    </tr>\n",
              "    <tr>\n",
              "      <th>6</th>\n",
              "      <td>92.0</td>\n",
              "      <td>0.42</td>\n",
              "      <td>11.19</td>\n",
              "      <td>0.42</td>\n",
              "      <td>11.18</td>\n",
              "    </tr>\n",
              "  </tbody>\n",
              "</table>\n",
              "</div>\n",
              "    <div class=\"colab-df-buttons\">\n",
              "\n",
              "  <div class=\"colab-df-container\">\n",
              "    <button class=\"colab-df-convert\" onclick=\"convertToInteractive('df-fd5ef488-cf23-4c38-b9d6-3f251ed0c26e')\"\n",
              "            title=\"Convert this dataframe to an interactive table.\"\n",
              "            style=\"display:none;\">\n",
              "\n",
              "  <svg xmlns=\"http://www.w3.org/2000/svg\" height=\"24px\" viewBox=\"0 -960 960 960\">\n",
              "    <path d=\"M120-120v-720h720v720H120Zm60-500h600v-160H180v160Zm220 220h160v-160H400v160Zm0 220h160v-160H400v160ZM180-400h160v-160H180v160Zm440 0h160v-160H620v160ZM180-180h160v-160H180v160Zm440 0h160v-160H620v160Z\"/>\n",
              "  </svg>\n",
              "    </button>\n",
              "\n",
              "  <style>\n",
              "    .colab-df-container {\n",
              "      display:flex;\n",
              "      gap: 12px;\n",
              "    }\n",
              "\n",
              "    .colab-df-convert {\n",
              "      background-color: #E8F0FE;\n",
              "      border: none;\n",
              "      border-radius: 50%;\n",
              "      cursor: pointer;\n",
              "      display: none;\n",
              "      fill: #1967D2;\n",
              "      height: 32px;\n",
              "      padding: 0 0 0 0;\n",
              "      width: 32px;\n",
              "    }\n",
              "\n",
              "    .colab-df-convert:hover {\n",
              "      background-color: #E2EBFA;\n",
              "      box-shadow: 0px 1px 2px rgba(60, 64, 67, 0.3), 0px 1px 3px 1px rgba(60, 64, 67, 0.15);\n",
              "      fill: #174EA6;\n",
              "    }\n",
              "\n",
              "    .colab-df-buttons div {\n",
              "      margin-bottom: 4px;\n",
              "    }\n",
              "\n",
              "    [theme=dark] .colab-df-convert {\n",
              "      background-color: #3B4455;\n",
              "      fill: #D2E3FC;\n",
              "    }\n",
              "\n",
              "    [theme=dark] .colab-df-convert:hover {\n",
              "      background-color: #434B5C;\n",
              "      box-shadow: 0px 1px 3px 1px rgba(0, 0, 0, 0.15);\n",
              "      filter: drop-shadow(0px 1px 2px rgba(0, 0, 0, 0.3));\n",
              "      fill: #FFFFFF;\n",
              "    }\n",
              "  </style>\n",
              "\n",
              "    <script>\n",
              "      const buttonEl =\n",
              "        document.querySelector('#df-fd5ef488-cf23-4c38-b9d6-3f251ed0c26e button.colab-df-convert');\n",
              "      buttonEl.style.display =\n",
              "        google.colab.kernel.accessAllowed ? 'block' : 'none';\n",
              "\n",
              "      async function convertToInteractive(key) {\n",
              "        const element = document.querySelector('#df-fd5ef488-cf23-4c38-b9d6-3f251ed0c26e');\n",
              "        const dataTable =\n",
              "          await google.colab.kernel.invokeFunction('convertToInteractive',\n",
              "                                                    [key], {});\n",
              "        if (!dataTable) return;\n",
              "\n",
              "        const docLinkHtml = 'Like what you see? Visit the ' +\n",
              "          '<a target=\"_blank\" href=https://colab.research.google.com/notebooks/data_table.ipynb>data table notebook</a>'\n",
              "          + ' to learn more about interactive tables.';\n",
              "        element.innerHTML = '';\n",
              "        dataTable['output_type'] = 'display_data';\n",
              "        await google.colab.output.renderOutput(dataTable, element);\n",
              "        const docLink = document.createElement('div');\n",
              "        docLink.innerHTML = docLinkHtml;\n",
              "        element.appendChild(docLink);\n",
              "      }\n",
              "    </script>\n",
              "  </div>\n",
              "\n",
              "\n",
              "<div id=\"df-665871c1-845d-491a-8dc4-eba19ad1e4e4\">\n",
              "  <button class=\"colab-df-quickchart\" onclick=\"quickchart('df-665871c1-845d-491a-8dc4-eba19ad1e4e4')\"\n",
              "            title=\"Suggest charts\"\n",
              "            style=\"display:none;\">\n",
              "\n",
              "<svg xmlns=\"http://www.w3.org/2000/svg\" height=\"24px\"viewBox=\"0 0 24 24\"\n",
              "     width=\"24px\">\n",
              "    <g>\n",
              "        <path d=\"M19 3H5c-1.1 0-2 .9-2 2v14c0 1.1.9 2 2 2h14c1.1 0 2-.9 2-2V5c0-1.1-.9-2-2-2zM9 17H7v-7h2v7zm4 0h-2V7h2v10zm4 0h-2v-4h2v4z\"/>\n",
              "    </g>\n",
              "</svg>\n",
              "  </button>\n",
              "\n",
              "<style>\n",
              "  .colab-df-quickchart {\n",
              "      --bg-color: #E8F0FE;\n",
              "      --fill-color: #1967D2;\n",
              "      --hover-bg-color: #E2EBFA;\n",
              "      --hover-fill-color: #174EA6;\n",
              "      --disabled-fill-color: #AAA;\n",
              "      --disabled-bg-color: #DDD;\n",
              "  }\n",
              "\n",
              "  [theme=dark] .colab-df-quickchart {\n",
              "      --bg-color: #3B4455;\n",
              "      --fill-color: #D2E3FC;\n",
              "      --hover-bg-color: #434B5C;\n",
              "      --hover-fill-color: #FFFFFF;\n",
              "      --disabled-bg-color: #3B4455;\n",
              "      --disabled-fill-color: #666;\n",
              "  }\n",
              "\n",
              "  .colab-df-quickchart {\n",
              "    background-color: var(--bg-color);\n",
              "    border: none;\n",
              "    border-radius: 50%;\n",
              "    cursor: pointer;\n",
              "    display: none;\n",
              "    fill: var(--fill-color);\n",
              "    height: 32px;\n",
              "    padding: 0;\n",
              "    width: 32px;\n",
              "  }\n",
              "\n",
              "  .colab-df-quickchart:hover {\n",
              "    background-color: var(--hover-bg-color);\n",
              "    box-shadow: 0 1px 2px rgba(60, 64, 67, 0.3), 0 1px 3px 1px rgba(60, 64, 67, 0.15);\n",
              "    fill: var(--button-hover-fill-color);\n",
              "  }\n",
              "\n",
              "  .colab-df-quickchart-complete:disabled,\n",
              "  .colab-df-quickchart-complete:disabled:hover {\n",
              "    background-color: var(--disabled-bg-color);\n",
              "    fill: var(--disabled-fill-color);\n",
              "    box-shadow: none;\n",
              "  }\n",
              "\n",
              "  .colab-df-spinner {\n",
              "    border: 2px solid var(--fill-color);\n",
              "    border-color: transparent;\n",
              "    border-bottom-color: var(--fill-color);\n",
              "    animation:\n",
              "      spin 1s steps(1) infinite;\n",
              "  }\n",
              "\n",
              "  @keyframes spin {\n",
              "    0% {\n",
              "      border-color: transparent;\n",
              "      border-bottom-color: var(--fill-color);\n",
              "      border-left-color: var(--fill-color);\n",
              "    }\n",
              "    20% {\n",
              "      border-color: transparent;\n",
              "      border-left-color: var(--fill-color);\n",
              "      border-top-color: var(--fill-color);\n",
              "    }\n",
              "    30% {\n",
              "      border-color: transparent;\n",
              "      border-left-color: var(--fill-color);\n",
              "      border-top-color: var(--fill-color);\n",
              "      border-right-color: var(--fill-color);\n",
              "    }\n",
              "    40% {\n",
              "      border-color: transparent;\n",
              "      border-right-color: var(--fill-color);\n",
              "      border-top-color: var(--fill-color);\n",
              "    }\n",
              "    60% {\n",
              "      border-color: transparent;\n",
              "      border-right-color: var(--fill-color);\n",
              "    }\n",
              "    80% {\n",
              "      border-color: transparent;\n",
              "      border-right-color: var(--fill-color);\n",
              "      border-bottom-color: var(--fill-color);\n",
              "    }\n",
              "    90% {\n",
              "      border-color: transparent;\n",
              "      border-bottom-color: var(--fill-color);\n",
              "    }\n",
              "  }\n",
              "</style>\n",
              "\n",
              "  <script>\n",
              "    async function quickchart(key) {\n",
              "      const quickchartButtonEl =\n",
              "        document.querySelector('#' + key + ' button');\n",
              "      quickchartButtonEl.disabled = true;  // To prevent multiple clicks.\n",
              "      quickchartButtonEl.classList.add('colab-df-spinner');\n",
              "      try {\n",
              "        const charts = await google.colab.kernel.invokeFunction(\n",
              "            'suggestCharts', [key], {});\n",
              "      } catch (error) {\n",
              "        console.error('Error during call to suggestCharts:', error);\n",
              "      }\n",
              "      quickchartButtonEl.classList.remove('colab-df-spinner');\n",
              "      quickchartButtonEl.classList.add('colab-df-quickchart-complete');\n",
              "    }\n",
              "    (() => {\n",
              "      let quickchartButtonEl =\n",
              "        document.querySelector('#df-665871c1-845d-491a-8dc4-eba19ad1e4e4 button');\n",
              "      quickchartButtonEl.style.display =\n",
              "        google.colab.kernel.accessAllowed ? 'block' : 'none';\n",
              "    })();\n",
              "  </script>\n",
              "</div>\n",
              "\n",
              "    </div>\n",
              "  </div>\n"
            ],
            "application/vnd.google.colaboratory.intrinsic+json": {
              "type": "dataframe",
              "summary": "{\n  \"name\": \"heston_euro_data\",\n  \"rows\": 7,\n  \"fields\": [\n    {\n      \"column\": \"Strike_prices\",\n      \"properties\": {\n        \"dtype\": \"number\",\n        \"std\": 8.640987597877148,\n        \"min\": 68.0,\n        \"max\": 92.0,\n        \"num_unique_values\": 7,\n        \"samples\": [\n          68.0,\n          72.0,\n          88.0\n        ],\n        \"semantic_type\": \"\",\n        \"description\": \"\"\n      }\n    },\n    {\n      \"column\": \"Heston_Call_30\",\n      \"properties\": {\n        \"dtype\": \"number\",\n        \"std\": 4.679056172634248,\n        \"min\": 0.42,\n        \"max\": 12.94,\n        \"num_unique_values\": 7,\n        \"samples\": [\n          12.94,\n          9.2,\n          0.92\n        ],\n        \"semantic_type\": \"\",\n        \"description\": \"\"\n      }\n    },\n    {\n      \"column\": \"Heston_Put_30\",\n      \"properties\": {\n        \"dtype\": \"number\",\n        \"std\": 4.239628240665403,\n        \"min\": 0.03,\n        \"max\": 11.19,\n        \"num_unique_values\": 7,\n        \"samples\": [\n          0.03,\n          0.25,\n          7.74\n        ],\n        \"semantic_type\": \"\",\n        \"description\": \"\"\n      }\n    },\n    {\n      \"column\": \"Heston_Call_70\",\n      \"properties\": {\n        \"dtype\": \"number\",\n        \"std\": 4.680500075032683,\n        \"min\": 0.42,\n        \"max\": 12.94,\n        \"num_unique_values\": 7,\n        \"samples\": [\n          12.94,\n          9.2,\n          0.91\n        ],\n        \"semantic_type\": \"\",\n        \"description\": \"\"\n      }\n    },\n    {\n      \"column\": \"Heston_Put_70\",\n      \"properties\": {\n        \"dtype\": \"number\",\n        \"std\": 4.235529988763424,\n        \"min\": 0.03,\n        \"max\": 11.18,\n        \"num_unique_values\": 7,\n        \"samples\": [\n          0.03,\n          0.24,\n          7.73\n        ],\n        \"semantic_type\": \"\",\n        \"description\": \"\"\n      }\n    }\n  ]\n}"
            }
          },
          "metadata": {},
          "execution_count": 21
        }
      ]
    },
    {
      "cell_type": "markdown",
      "source": [
        "**Merton European Calls & Puts**"
      ],
      "metadata": {
        "id": "mSZN5GBpeDDy"
      }
    },
    {
      "cell_type": "code",
      "source": [
        "# Merton European Calls for different Strike Prices (lambda = 0.75)\n",
        "mt_european_call_75_array = []\n",
        "for K in [68, 72, 76, 80, 84, 88, 92]:\n",
        "    mt_european_call_price_75 = option_price(final_stock_price_75, K, 'call')\n",
        "    mt_european_call_75_array.append(mt_european_call_price_75)\n",
        "    print(\"With K = {:3d}, Merton Call price (lambda = 0.75) is {:.2f}\".format(K, mt_european_call_price_75))"
      ],
      "metadata": {
        "colab": {
          "base_uri": "https://localhost:8080/"
        },
        "id": "2IKZb16MeHtp",
        "outputId": "90418aba-8623-4238-8f23-97caaf5bf7ad"
      },
      "execution_count": 22,
      "outputs": [
        {
          "output_type": "stream",
          "name": "stdout",
          "text": [
            "With K =  68, Merton Call price (lambda = 0.75) is 16.35\n",
            "With K =  72, Merton Call price (lambda = 0.75) is 13.39\n",
            "With K =  76, Merton Call price (lambda = 0.75) is 10.71\n",
            "With K =  80, Merton Call price (lambda = 0.75) is 8.34\n",
            "With K =  84, Merton Call price (lambda = 0.75) is 6.34\n",
            "With K =  88, Merton Call price (lambda = 0.75) is 4.70\n",
            "With K =  92, Merton Call price (lambda = 0.75) is 3.40\n"
          ]
        }
      ]
    },
    {
      "cell_type": "code",
      "source": [
        "# Merton European Calls for different Strike Prices (lambda = 0.25)\n",
        "mt_european_call_25_array = []\n",
        "for K in [68, 72, 76, 80, 84, 88, 92]:\n",
        "    mt_european_call_price_25 = option_price(final_stock_price_25, K, 'call')\n",
        "    mt_european_call_25_array.append(mt_european_call_price_25)\n",
        "    print(\"With K = {:3d}, Merton Call price (lambda = 0.25) is {:.2f}\".format(K, mt_european_call_price_25))"
      ],
      "metadata": {
        "colab": {
          "base_uri": "https://localhost:8080/"
        },
        "id": "2w2ztvywelp-",
        "outputId": "f8f9ab28-df5c-4781-a503-63a0382c6061"
      },
      "execution_count": 23,
      "outputs": [
        {
          "output_type": "stream",
          "name": "stdout",
          "text": [
            "With K =  68, Merton Call price (lambda = 0.25) is 14.81\n",
            "With K =  72, Merton Call price (lambda = 0.25) is 11.77\n",
            "With K =  76, Merton Call price (lambda = 0.25) is 9.09\n",
            "With K =  80, Merton Call price (lambda = 0.25) is 6.83\n",
            "With K =  84, Merton Call price (lambda = 0.25) is 4.99\n",
            "With K =  88, Merton Call price (lambda = 0.25) is 3.54\n",
            "With K =  92, Merton Call price (lambda = 0.25) is 2.46\n"
          ]
        }
      ]
    },
    {
      "cell_type": "code",
      "source": [
        "# Merton European Puts for different Strike Prices (lambda = 0.75)\n",
        "mt_european_put_75_array = []\n",
        "for K in [68, 72, 76, 80, 84, 88, 92]:\n",
        "    mt_european_put_price_75 = option_price(final_stock_price_75, K, 'put')\n",
        "    mt_european_put_75_array.append(mt_european_put_price_75)\n",
        "    print(\"With K = {:3d}, Merton Put price (lambda = 0.75) is {:.2f}\".format(K, mt_european_put_price_75))"
      ],
      "metadata": {
        "colab": {
          "base_uri": "https://localhost:8080/"
        },
        "id": "a1FKDM9ffDc6",
        "outputId": "e8473806-7392-44dd-bce9-bce7b6662c01"
      },
      "execution_count": 24,
      "outputs": [
        {
          "output_type": "stream",
          "name": "stdout",
          "text": [
            "With K =  68, Merton Put price (lambda = 0.75) is 3.37\n",
            "With K =  72, Merton Put price (lambda = 0.75) is 4.35\n",
            "With K =  76, Merton Put price (lambda = 0.75) is 5.61\n",
            "With K =  80, Merton Put price (lambda = 0.75) is 7.20\n",
            "With K =  84, Merton Put price (lambda = 0.75) is 9.14\n",
            "With K =  88, Merton Put price (lambda = 0.75) is 11.44\n",
            "With K =  92, Merton Put price (lambda = 0.75) is 14.09\n"
          ]
        }
      ]
    },
    {
      "cell_type": "code",
      "source": [
        "# Merton European Puts for different Strike Prices (lambda = 0.25)\n",
        "mt_european_put_25_array = []\n",
        "for K in [68, 72, 76, 80, 84, 88, 92]:\n",
        "    mt_european_put_price_25 = option_price(final_stock_price_25, K, 'put')\n",
        "    mt_european_put_25_array.append(mt_european_put_price_25)\n",
        "    print(\"With K = {:3d}, Merton Put price (lambda = 0.25) is {:.2f}\".format(K, mt_european_put_price_25))"
      ],
      "metadata": {
        "colab": {
          "base_uri": "https://localhost:8080/"
        },
        "id": "0uBNYe6zfOhy",
        "outputId": "f459afcc-cfb8-4f97-eb1f-6f9586826aab"
      },
      "execution_count": 25,
      "outputs": [
        {
          "output_type": "stream",
          "name": "stdout",
          "text": [
            "With K =  68, Merton Put price (lambda = 0.25) is 1.88\n",
            "With K =  72, Merton Put price (lambda = 0.25) is 2.78\n",
            "With K =  76, Merton Put price (lambda = 0.25) is 4.06\n",
            "With K =  80, Merton Put price (lambda = 0.25) is 5.74\n",
            "With K =  84, Merton Put price (lambda = 0.25) is 7.84\n",
            "With K =  88, Merton Put price (lambda = 0.25) is 10.34\n",
            "With K =  92, Merton Put price (lambda = 0.25) is 13.20\n"
          ]
        }
      ]
    },
    {
      "cell_type": "code",
      "source": [
        "# compile list of arrays\n",
        "strike_prices = np.array([68, 72, 76, 80, 84, 88, 92]) # for 3 ITMs, ATM, & 3 OTMs\n",
        "merton_euro_raw_data = pd.DataFrame([strike_prices, mt_european_call_75_array, mt_european_put_75_array, mt_european_call_25_array, mt_european_put_25_array ])\n",
        "merton_euro_data = merton_euro_raw_data.transpose()\n",
        "merton_euro_data.columns = [\"Strike_prices\", \"Merton_Call_75\", \"Merton_Put_75\",\"Merton_Call_25\", \"Merton_Put_25\" ]\n",
        "merton_euro_data.round(2)"
      ],
      "metadata": {
        "colab": {
          "base_uri": "https://localhost:8080/",
          "height": 269
        },
        "id": "2TMzOW29fZLT",
        "outputId": "7e7920b3-4f73-45f7-e70e-d898dce9ccb5"
      },
      "execution_count": 26,
      "outputs": [
        {
          "output_type": "execute_result",
          "data": {
            "text/plain": [
              "   Strike_prices  Merton_Call_75  Merton_Put_75  Merton_Call_25  Merton_Put_25\n",
              "0           68.0           16.35           3.37           14.81           1.88\n",
              "1           72.0           13.39           4.35           11.77           2.78\n",
              "2           76.0           10.71           5.61            9.09           4.06\n",
              "3           80.0            8.34           7.20            6.83           5.74\n",
              "4           84.0            6.34           9.14            4.99           7.84\n",
              "5           88.0            4.70          11.44            3.54          10.34\n",
              "6           92.0            3.40          14.09            2.46          13.20"
            ],
            "text/html": [
              "\n",
              "  <div id=\"df-5678cee9-b6ec-4cce-b8a6-602ba8664fed\" class=\"colab-df-container\">\n",
              "    <div>\n",
              "<style scoped>\n",
              "    .dataframe tbody tr th:only-of-type {\n",
              "        vertical-align: middle;\n",
              "    }\n",
              "\n",
              "    .dataframe tbody tr th {\n",
              "        vertical-align: top;\n",
              "    }\n",
              "\n",
              "    .dataframe thead th {\n",
              "        text-align: right;\n",
              "    }\n",
              "</style>\n",
              "<table border=\"1\" class=\"dataframe\">\n",
              "  <thead>\n",
              "    <tr style=\"text-align: right;\">\n",
              "      <th></th>\n",
              "      <th>Strike_prices</th>\n",
              "      <th>Merton_Call_75</th>\n",
              "      <th>Merton_Put_75</th>\n",
              "      <th>Merton_Call_25</th>\n",
              "      <th>Merton_Put_25</th>\n",
              "    </tr>\n",
              "  </thead>\n",
              "  <tbody>\n",
              "    <tr>\n",
              "      <th>0</th>\n",
              "      <td>68.0</td>\n",
              "      <td>16.35</td>\n",
              "      <td>3.37</td>\n",
              "      <td>14.81</td>\n",
              "      <td>1.88</td>\n",
              "    </tr>\n",
              "    <tr>\n",
              "      <th>1</th>\n",
              "      <td>72.0</td>\n",
              "      <td>13.39</td>\n",
              "      <td>4.35</td>\n",
              "      <td>11.77</td>\n",
              "      <td>2.78</td>\n",
              "    </tr>\n",
              "    <tr>\n",
              "      <th>2</th>\n",
              "      <td>76.0</td>\n",
              "      <td>10.71</td>\n",
              "      <td>5.61</td>\n",
              "      <td>9.09</td>\n",
              "      <td>4.06</td>\n",
              "    </tr>\n",
              "    <tr>\n",
              "      <th>3</th>\n",
              "      <td>80.0</td>\n",
              "      <td>8.34</td>\n",
              "      <td>7.20</td>\n",
              "      <td>6.83</td>\n",
              "      <td>5.74</td>\n",
              "    </tr>\n",
              "    <tr>\n",
              "      <th>4</th>\n",
              "      <td>84.0</td>\n",
              "      <td>6.34</td>\n",
              "      <td>9.14</td>\n",
              "      <td>4.99</td>\n",
              "      <td>7.84</td>\n",
              "    </tr>\n",
              "    <tr>\n",
              "      <th>5</th>\n",
              "      <td>88.0</td>\n",
              "      <td>4.70</td>\n",
              "      <td>11.44</td>\n",
              "      <td>3.54</td>\n",
              "      <td>10.34</td>\n",
              "    </tr>\n",
              "    <tr>\n",
              "      <th>6</th>\n",
              "      <td>92.0</td>\n",
              "      <td>3.40</td>\n",
              "      <td>14.09</td>\n",
              "      <td>2.46</td>\n",
              "      <td>13.20</td>\n",
              "    </tr>\n",
              "  </tbody>\n",
              "</table>\n",
              "</div>\n",
              "    <div class=\"colab-df-buttons\">\n",
              "\n",
              "  <div class=\"colab-df-container\">\n",
              "    <button class=\"colab-df-convert\" onclick=\"convertToInteractive('df-5678cee9-b6ec-4cce-b8a6-602ba8664fed')\"\n",
              "            title=\"Convert this dataframe to an interactive table.\"\n",
              "            style=\"display:none;\">\n",
              "\n",
              "  <svg xmlns=\"http://www.w3.org/2000/svg\" height=\"24px\" viewBox=\"0 -960 960 960\">\n",
              "    <path d=\"M120-120v-720h720v720H120Zm60-500h600v-160H180v160Zm220 220h160v-160H400v160Zm0 220h160v-160H400v160ZM180-400h160v-160H180v160Zm440 0h160v-160H620v160ZM180-180h160v-160H180v160Zm440 0h160v-160H620v160Z\"/>\n",
              "  </svg>\n",
              "    </button>\n",
              "\n",
              "  <style>\n",
              "    .colab-df-container {\n",
              "      display:flex;\n",
              "      gap: 12px;\n",
              "    }\n",
              "\n",
              "    .colab-df-convert {\n",
              "      background-color: #E8F0FE;\n",
              "      border: none;\n",
              "      border-radius: 50%;\n",
              "      cursor: pointer;\n",
              "      display: none;\n",
              "      fill: #1967D2;\n",
              "      height: 32px;\n",
              "      padding: 0 0 0 0;\n",
              "      width: 32px;\n",
              "    }\n",
              "\n",
              "    .colab-df-convert:hover {\n",
              "      background-color: #E2EBFA;\n",
              "      box-shadow: 0px 1px 2px rgba(60, 64, 67, 0.3), 0px 1px 3px 1px rgba(60, 64, 67, 0.15);\n",
              "      fill: #174EA6;\n",
              "    }\n",
              "\n",
              "    .colab-df-buttons div {\n",
              "      margin-bottom: 4px;\n",
              "    }\n",
              "\n",
              "    [theme=dark] .colab-df-convert {\n",
              "      background-color: #3B4455;\n",
              "      fill: #D2E3FC;\n",
              "    }\n",
              "\n",
              "    [theme=dark] .colab-df-convert:hover {\n",
              "      background-color: #434B5C;\n",
              "      box-shadow: 0px 1px 3px 1px rgba(0, 0, 0, 0.15);\n",
              "      filter: drop-shadow(0px 1px 2px rgba(0, 0, 0, 0.3));\n",
              "      fill: #FFFFFF;\n",
              "    }\n",
              "  </style>\n",
              "\n",
              "    <script>\n",
              "      const buttonEl =\n",
              "        document.querySelector('#df-5678cee9-b6ec-4cce-b8a6-602ba8664fed button.colab-df-convert');\n",
              "      buttonEl.style.display =\n",
              "        google.colab.kernel.accessAllowed ? 'block' : 'none';\n",
              "\n",
              "      async function convertToInteractive(key) {\n",
              "        const element = document.querySelector('#df-5678cee9-b6ec-4cce-b8a6-602ba8664fed');\n",
              "        const dataTable =\n",
              "          await google.colab.kernel.invokeFunction('convertToInteractive',\n",
              "                                                    [key], {});\n",
              "        if (!dataTable) return;\n",
              "\n",
              "        const docLinkHtml = 'Like what you see? Visit the ' +\n",
              "          '<a target=\"_blank\" href=https://colab.research.google.com/notebooks/data_table.ipynb>data table notebook</a>'\n",
              "          + ' to learn more about interactive tables.';\n",
              "        element.innerHTML = '';\n",
              "        dataTable['output_type'] = 'display_data';\n",
              "        await google.colab.output.renderOutput(dataTable, element);\n",
              "        const docLink = document.createElement('div');\n",
              "        docLink.innerHTML = docLinkHtml;\n",
              "        element.appendChild(docLink);\n",
              "      }\n",
              "    </script>\n",
              "  </div>\n",
              "\n",
              "\n",
              "<div id=\"df-ef3dabde-a32b-4bd2-90d8-3620e00e9672\">\n",
              "  <button class=\"colab-df-quickchart\" onclick=\"quickchart('df-ef3dabde-a32b-4bd2-90d8-3620e00e9672')\"\n",
              "            title=\"Suggest charts\"\n",
              "            style=\"display:none;\">\n",
              "\n",
              "<svg xmlns=\"http://www.w3.org/2000/svg\" height=\"24px\"viewBox=\"0 0 24 24\"\n",
              "     width=\"24px\">\n",
              "    <g>\n",
              "        <path d=\"M19 3H5c-1.1 0-2 .9-2 2v14c0 1.1.9 2 2 2h14c1.1 0 2-.9 2-2V5c0-1.1-.9-2-2-2zM9 17H7v-7h2v7zm4 0h-2V7h2v10zm4 0h-2v-4h2v4z\"/>\n",
              "    </g>\n",
              "</svg>\n",
              "  </button>\n",
              "\n",
              "<style>\n",
              "  .colab-df-quickchart {\n",
              "      --bg-color: #E8F0FE;\n",
              "      --fill-color: #1967D2;\n",
              "      --hover-bg-color: #E2EBFA;\n",
              "      --hover-fill-color: #174EA6;\n",
              "      --disabled-fill-color: #AAA;\n",
              "      --disabled-bg-color: #DDD;\n",
              "  }\n",
              "\n",
              "  [theme=dark] .colab-df-quickchart {\n",
              "      --bg-color: #3B4455;\n",
              "      --fill-color: #D2E3FC;\n",
              "      --hover-bg-color: #434B5C;\n",
              "      --hover-fill-color: #FFFFFF;\n",
              "      --disabled-bg-color: #3B4455;\n",
              "      --disabled-fill-color: #666;\n",
              "  }\n",
              "\n",
              "  .colab-df-quickchart {\n",
              "    background-color: var(--bg-color);\n",
              "    border: none;\n",
              "    border-radius: 50%;\n",
              "    cursor: pointer;\n",
              "    display: none;\n",
              "    fill: var(--fill-color);\n",
              "    height: 32px;\n",
              "    padding: 0;\n",
              "    width: 32px;\n",
              "  }\n",
              "\n",
              "  .colab-df-quickchart:hover {\n",
              "    background-color: var(--hover-bg-color);\n",
              "    box-shadow: 0 1px 2px rgba(60, 64, 67, 0.3), 0 1px 3px 1px rgba(60, 64, 67, 0.15);\n",
              "    fill: var(--button-hover-fill-color);\n",
              "  }\n",
              "\n",
              "  .colab-df-quickchart-complete:disabled,\n",
              "  .colab-df-quickchart-complete:disabled:hover {\n",
              "    background-color: var(--disabled-bg-color);\n",
              "    fill: var(--disabled-fill-color);\n",
              "    box-shadow: none;\n",
              "  }\n",
              "\n",
              "  .colab-df-spinner {\n",
              "    border: 2px solid var(--fill-color);\n",
              "    border-color: transparent;\n",
              "    border-bottom-color: var(--fill-color);\n",
              "    animation:\n",
              "      spin 1s steps(1) infinite;\n",
              "  }\n",
              "\n",
              "  @keyframes spin {\n",
              "    0% {\n",
              "      border-color: transparent;\n",
              "      border-bottom-color: var(--fill-color);\n",
              "      border-left-color: var(--fill-color);\n",
              "    }\n",
              "    20% {\n",
              "      border-color: transparent;\n",
              "      border-left-color: var(--fill-color);\n",
              "      border-top-color: var(--fill-color);\n",
              "    }\n",
              "    30% {\n",
              "      border-color: transparent;\n",
              "      border-left-color: var(--fill-color);\n",
              "      border-top-color: var(--fill-color);\n",
              "      border-right-color: var(--fill-color);\n",
              "    }\n",
              "    40% {\n",
              "      border-color: transparent;\n",
              "      border-right-color: var(--fill-color);\n",
              "      border-top-color: var(--fill-color);\n",
              "    }\n",
              "    60% {\n",
              "      border-color: transparent;\n",
              "      border-right-color: var(--fill-color);\n",
              "    }\n",
              "    80% {\n",
              "      border-color: transparent;\n",
              "      border-right-color: var(--fill-color);\n",
              "      border-bottom-color: var(--fill-color);\n",
              "    }\n",
              "    90% {\n",
              "      border-color: transparent;\n",
              "      border-bottom-color: var(--fill-color);\n",
              "    }\n",
              "  }\n",
              "</style>\n",
              "\n",
              "  <script>\n",
              "    async function quickchart(key) {\n",
              "      const quickchartButtonEl =\n",
              "        document.querySelector('#' + key + ' button');\n",
              "      quickchartButtonEl.disabled = true;  // To prevent multiple clicks.\n",
              "      quickchartButtonEl.classList.add('colab-df-spinner');\n",
              "      try {\n",
              "        const charts = await google.colab.kernel.invokeFunction(\n",
              "            'suggestCharts', [key], {});\n",
              "      } catch (error) {\n",
              "        console.error('Error during call to suggestCharts:', error);\n",
              "      }\n",
              "      quickchartButtonEl.classList.remove('colab-df-spinner');\n",
              "      quickchartButtonEl.classList.add('colab-df-quickchart-complete');\n",
              "    }\n",
              "    (() => {\n",
              "      let quickchartButtonEl =\n",
              "        document.querySelector('#df-ef3dabde-a32b-4bd2-90d8-3620e00e9672 button');\n",
              "      quickchartButtonEl.style.display =\n",
              "        google.colab.kernel.accessAllowed ? 'block' : 'none';\n",
              "    })();\n",
              "  </script>\n",
              "</div>\n",
              "\n",
              "    </div>\n",
              "  </div>\n"
            ],
            "application/vnd.google.colaboratory.intrinsic+json": {
              "type": "dataframe",
              "summary": "{\n  \"name\": \"merton_euro_data\",\n  \"rows\": 7,\n  \"fields\": [\n    {\n      \"column\": \"Strike_prices\",\n      \"properties\": {\n        \"dtype\": \"number\",\n        \"std\": 8.640987597877148,\n        \"min\": 68.0,\n        \"max\": 92.0,\n        \"num_unique_values\": 7,\n        \"samples\": [\n          68.0,\n          72.0,\n          88.0\n        ],\n        \"semantic_type\": \"\",\n        \"description\": \"\"\n      }\n    },\n    {\n      \"column\": \"Merton_Call_75\",\n      \"properties\": {\n        \"dtype\": \"number\",\n        \"std\": 4.718268447519402,\n        \"min\": 3.4,\n        \"max\": 16.35,\n        \"num_unique_values\": 7,\n        \"samples\": [\n          16.35,\n          13.39,\n          4.7\n        ],\n        \"semantic_type\": \"\",\n        \"description\": \"\"\n      }\n    },\n    {\n      \"column\": \"Merton_Put_75\",\n      \"properties\": {\n        \"dtype\": \"number\",\n        \"std\": 3.89960193328694,\n        \"min\": 3.37,\n        \"max\": 14.09,\n        \"num_unique_values\": 7,\n        \"samples\": [\n          3.37,\n          4.35,\n          11.44\n        ],\n        \"semantic_type\": \"\",\n        \"description\": \"\"\n      }\n    },\n    {\n      \"column\": \"Merton_Call_25\",\n      \"properties\": {\n        \"dtype\": \"number\",\n        \"std\": 4.507203229540571,\n        \"min\": 2.46,\n        \"max\": 14.81,\n        \"num_unique_values\": 7,\n        \"samples\": [\n          14.81,\n          11.77,\n          3.54\n        ],\n        \"semantic_type\": \"\",\n        \"description\": \"\"\n      }\n    },\n    {\n      \"column\": \"Merton_Put_25\",\n      \"properties\": {\n        \"dtype\": \"number\",\n        \"std\": 4.145855072926969,\n        \"min\": 1.88,\n        \"max\": 13.2,\n        \"num_unique_values\": 7,\n        \"samples\": [\n          1.88,\n          2.78,\n          10.34\n        ],\n        \"semantic_type\": \"\",\n        \"description\": \"\"\n      }\n    }\n  ]\n}"
            }
          },
          "metadata": {},
          "execution_count": 26
        }
      ]
    },
    {
      "cell_type": "markdown",
      "source": [
        "# **Step 2**"
      ],
      "metadata": {
        "id": "daEfpPXxfi8E"
      }
    },
    {
      "cell_type": "markdown",
      "source": [
        "**13. Pricing American Call options Using Heston & Merton models**"
      ],
      "metadata": {
        "id": "Ccq974dCfn-t"
      }
    },
    {
      "cell_type": "markdown",
      "source": [
        "**Heston American Call ($\\rho$ = -0.30)**"
      ],
      "metadata": {
        "id": "7VvJEUU3gHXM"
      }
    },
    {
      "cell_type": "code",
      "source": [
        "# Initialize paramters\n",
        "S0 = 80  # Initial stock price\n",
        "K = 80   # Strike price (ATM)\n",
        "T = 3/12 # Time to maturity (3 months)\n",
        "r = 0.055 # Risk-free rate\n",
        "sigma = 0.35 # Volatility\n",
        "num_sim = 100000\n",
        "num_steps = 90\n",
        "\n",
        "# Heston model parameters\n",
        "v0 = 0.032  # Initial variance\n",
        "kappa = 1.85  # Mean reversion speed of variance\n",
        "theta = 0.045  # Long-term variance\n",
        "xi = 0.1  # Volatility of variance (typically between 0.1 and 0.5)\n",
        "rho = -0.30"
      ],
      "metadata": {
        "id": "CisFXqtWgtaS"
      },
      "execution_count": 27,
      "outputs": []
    },
    {
      "cell_type": "code",
      "source": [
        "# Heston Model\n",
        "def american_option_heston(S0, K, T, r, v0, kappa, theta, sigma, rho, num_sim, num_steps):\n",
        "    dt = T / num_steps\n",
        "    S = np.zeros((num_sim, num_steps + 1))\n",
        "    V = np.zeros((num_sim, num_steps + 1))\n",
        "    S[:, 0] = S0\n",
        "    V[:, 0] = v0\n",
        "\n",
        "    for t in range(1, num_steps + 1):\n",
        "        z1 = np.random.normal(size=num_sim)\n",
        "        z2 = np.random.normal(size=num_sim)\n",
        "        W1 = z1\n",
        "        W2 = rho * z1 + np.sqrt(1 - rho**2) * z2\n",
        "\n",
        "        V[:, t] = np.maximum(\n",
        "            V[:, t - 1] +\n",
        "            kappa * (theta - V[:, t - 1]) * dt +\n",
        "            sigma * np.sqrt(V[:, t - 1] * dt) * W2, 0)\n",
        "\n",
        "        S[:, t] = S[:, t - 1] * np.exp((r - 0.5 * V[:, t - 1]) * dt + np.sqrt(V[:, t - 1] * dt) * W1)\n",
        "\n",
        "    return S, V"
      ],
      "metadata": {
        "id": "--BYtPDVg5WT"
      },
      "execution_count": 28,
      "outputs": []
    },
    {
      "cell_type": "code",
      "source": [
        "# Monte-carlo simualation for American Call\n",
        "def ls_american_call_mc(S, K, r, dt):\n",
        "    n_sim, n_steps = S.shape\n",
        "    n_steps -= 1  # Adjust for initial condition\n",
        "    payoff = np.maximum(S[:, -1] - K, 0)\n",
        "    cashflows = payoff.copy()\n",
        "\n",
        "    for t in range(n_steps - 1, 0, -1):\n",
        "\n",
        "        itm_indices = S[:, t] > K  # In-the-money condition\n",
        "        if not np.any(itm_indices):\n",
        "                continue\n",
        "\n",
        "        X = S[itm_indices, t]\n",
        "        Y = cashflows[itm_indices] * np.exp(-r * dt)\n",
        "\n",
        "        # Regression to estimate continuation value\n",
        "        regression = np.polyfit(X, Y, deg=2)\n",
        "        continuation_value = np.polyval(regression, X)\n",
        "\n",
        "        exercise_value = X - K\n",
        "        exercise = exercise_value > continuation_value\n",
        "\n",
        "        cashflows[itm_indices] = np.where(exercise, exercise_value, cashflows[itm_indices] * np.exp(-r * dt))\n",
        "\n",
        "\n",
        "    price = np.mean(cashflows * np.exp(-r * dt))\n",
        "    return price\n",
        "\n",
        "S, V = american_option_heston(S0, K, r, T, v0, kappa, theta, sigma, rho, num_sim, num_steps)\n",
        "american_call_heston = ls_american_call_mc(S, K, r, dt)\n",
        "\n",
        "print(f\"American Call Option Price (Heston Model): {american_call_heston:.2f}\")"
      ],
      "metadata": {
        "colab": {
          "base_uri": "https://localhost:8080/"
        },
        "id": "KfU1LziDhL18",
        "outputId": "ce639a98-a97e-4771-f739-d882086b284e"
      },
      "execution_count": 29,
      "outputs": [
        {
          "output_type": "stream",
          "name": "stdout",
          "text": [
            "American Call Option Price (Heston Model): 1.96\n"
          ]
        }
      ]
    },
    {
      "cell_type": "markdown",
      "source": [
        "**Merton American Call ($\\lambda$ = 0.75)**"
      ],
      "metadata": {
        "id": "GZk5QqvBh3f4"
      }
    },
    {
      "cell_type": "code",
      "source": [
        "# Merton model parameters\n",
        "lambda_ = 0.75 # Jump intensity\n",
        "mu_j = -0.5 # Jump size mean\n",
        "sigma_j = 0.22 # Jump size standard deviation"
      ],
      "metadata": {
        "id": "X0LynJt6iiRp"
      },
      "execution_count": 30,
      "outputs": []
    },
    {
      "cell_type": "code",
      "source": [
        "def price_american_call_merton(S0, K, T, r, sigma, lambda_, mu_j, sigma_j, num_simulations, num_steps, option_type):\n",
        "    dt = T / num_steps\n",
        "\n",
        "    # Generate stock price paths using Merton model\n",
        "    S = np.zeros((num_simulations, num_steps + 1))\n",
        "    S[:, 0] = S0\n",
        "\n",
        "    for t in range(1, num_steps + 1):\n",
        "        Z = np.random.normal(0, 1, num_simulations)\n",
        "        N = np.random.poisson(lambda_ * dt, num_simulations)\n",
        "        J = np.random.normal(mu_j, sigma_j, num_simulations)\n",
        "\n",
        "        S[:, t] = S[:, t-1] * np.exp((r - lambda_ * (np.exp(mu_j + 0.5 * sigma_j**2) - 1) - 0.5 * sigma**2) * dt\n",
        "                                     + sigma * np.sqrt(dt) * Z\n",
        "                                     + N * J)\n",
        "\n",
        "    # Initialize option values at maturity\n",
        "    option_values = np.maximum(S[:, -1] - K, 0)\n",
        "\n",
        "    # Backward induction for early exercise\n",
        "    for t in range(num_steps - 1, 0, -1):\n",
        "        in_the_money = S[:, t] > K\n",
        "        X = S[in_the_money, t]\n",
        "        Y = option_values[in_the_money] * np.exp(-r * dt)\n",
        "\n",
        "        # Fit a polynomial regression\n",
        "        A = np.vstack([X**0, X**1, X**2]).T\n",
        "        beta = np.linalg.lstsq(A, Y, rcond=None)[0]\n",
        "\n",
        "        # Calculate continuation values\n",
        "        continuation_values = np.dot(A, beta)\n",
        "\n",
        "        # Update option values\n",
        "        immediate_exercise = S[in_the_money, t] - K\n",
        "        option_values[in_the_money] = np.maximum(immediate_exercise, continuation_values)\n",
        "        option_values[~in_the_money] *= np.exp(-r * dt)\n",
        "\n",
        "    # Estimate option price\n",
        "    american_call_price = np.mean(option_values) * np.exp(-r * dt)\n",
        "\n",
        "    return american_call_price"
      ],
      "metadata": {
        "id": "ehah25rOiscF"
      },
      "execution_count": 31,
      "outputs": []
    },
    {
      "cell_type": "code",
      "source": [
        "american_call_price_merton = price_american_call_merton(S0, K, T, r, sigma, lambda_, mu_j, sigma_j, num_simulations, num_steps, 'call')\n",
        "print(f\"American Call Option Price (Merton model): ${american_call_price_merton:.2f}\")"
      ],
      "metadata": {
        "colab": {
          "base_uri": "https://localhost:8080/"
        },
        "id": "rwpwnTu1iw85",
        "outputId": "bbc2e34d-d779-498c-eab7-239a2ede187c"
      },
      "execution_count": 32,
      "outputs": [
        {
          "output_type": "stream",
          "name": "stdout",
          "text": [
            "American Call Option Price (Merton model): $8.32\n"
          ]
        }
      ]
    },
    {
      "cell_type": "markdown",
      "source": [
        "**Differences between Heston American Call Option Price and  Merton American Call Price**\n",
        "\n",
        "The results show that a  merton american call price is significantly larger than that of the Heston American Call Option price. This is as a result of the following:\n",
        "- the Merton's call is a reflection of jumps in the volatility unlike volatility of the Heston's model which is stochastic and mean reverting. Hence, call option price for the former tends to higher for an early exercise american option\n",
        "- option premiums for heston call is sensitive low-value paramters like kappa, theta and sigma whereas the option premium fpr merton's call is sensitve to extreme jump intensity value (lamnda). The affects the call option price results\n",
        "- Merton's Call Option price is skew-driven while heston's call prices is a reflection of volatility smile."
      ],
      "metadata": {
        "id": "4Svlt2RojIF6"
      }
    },
    {
      "cell_type": "markdown",
      "source": [
        "**14. Pricing a European Up-and-In Call option using the Heston model**"
      ],
      "metadata": {
        "id": "DGm7gQ7KjWLX"
      }
    },
    {
      "cell_type": "code",
      "source": [
        "# UAI parameters:\n",
        "H = 95 # Barrier price\n",
        "K = 95\n",
        "rho = -0.70"
      ],
      "metadata": {
        "id": "rw8zxdAKjp5-"
      },
      "execution_count": 33,
      "outputs": []
    },
    {
      "cell_type": "code",
      "source": [
        "def heston_model_mc(S0, v0, r, T, kappa, theta, sigma, rho, num_sim, num_steps):\n",
        "    dt = T / num_steps\n",
        "    S = np.zeros((num_sim, num_steps + 1))\n",
        "    v = np.zeros((num_sim, num_steps + 1))\n",
        "    S[:, 0] = S0\n",
        "    v[:, 0] = v0\n",
        "\n",
        "    for i in range(1, num_steps + 1):\n",
        "        z1 = np.random.normal(0, 1, num_sim)\n",
        "        z2 = rho * z1 + np.sqrt(1 - rho**2) * np.random.normal(0, 1, num_simulations)\n",
        "        S[:, i] = S[:, i-1] * np.exp((r - 0.5 * v[:, i-1]) * dt + np.sqrt(v[:, i-1] * dt) * z1)\n",
        "        v[:, i] = np.maximum(v[:, i-1] + kappa * (theta - v[:, i-1]) * dt + sigma * np.sqrt(v[:, i-1] * dt) * z2, 0)\n",
        "\n",
        "    return S\n",
        "def price_uai_call_heston(S0, K, H, T, r, v0, kappa, theta, sigma, rho, num_sim, num_steps):\n",
        "    S = heston_model_mc(S0, v0, r, T, kappa, theta, sigma, rho, num_sim, num_steps)\n",
        "\n",
        "    barrier_hit = np.any(S >= H, axis=1)\n",
        "    payoffs = np.where(barrier_hit, np.maximum(S[:, -1] - K, 0), 0)\n",
        "\n",
        "    option_price = np.exp(-r * T) * np.mean(payoffs)\n",
        "    return option_price\n",
        "\n",
        "# Price UAI Call Option\n",
        "uai_call_price = price_uai_call_heston(S0, K, H, T, r, v0, kappa, theta, sigma, rho, num_sim, num_steps)\n",
        "\n",
        "# Price simple European Call Option (for comparison)\n",
        "simple_call_price = hs_call_price_70  # from prior python code\n",
        "\n",
        "print(f\"UAI Call Price: ${uai_call_price:.2f}\")\n",
        "print(f\"Simple European Call Price: ${simple_call_price:.2f}\")"
      ],
      "metadata": {
        "colab": {
          "base_uri": "https://localhost:8080/"
        },
        "id": "dws_Z5bMl-4U",
        "outputId": "73942c24-4851-43e8-d687-37147baae250"
      },
      "execution_count": 34,
      "outputs": [
        {
          "output_type": "stream",
          "name": "stdout",
          "text": [
            "UAI Call Price: $0.03\n",
            "Simple European Call Price: $3.49\n"
          ]
        }
      ]
    },
    {
      "cell_type": "markdown",
      "source": [
        "**Comparison between UAI Heston Call Option Price and Simple Heston European Call Price**\n",
        "\n",
        "The results show that a simple european heston call is significantly larger than the up-and-in- barrier call option. This is as a result of the following:\n",
        "- the call option is only active when the stock exceeds the barrier price, resulting in lower (cheaper) call option price at expiration\n",
        "- the probability of exercise is higher for simple european call since there is no activation barrier\n",
        "- a simple european call is easier to hedge  because of non-existence of barrier price.\n",
        "- simple european call has vanilla payoff whereas the UAI option only pay off only when stock price hit barrier price"
      ],
      "metadata": {
        "id": "Qrr1a4uOmJd4"
      }
    },
    {
      "cell_type": "markdown",
      "source": [
        "**15. Pricing a European Down-and-In Put option using the Merton model**"
      ],
      "metadata": {
        "id": "jJB5FxYbmaAv"
      }
    },
    {
      "cell_type": "code",
      "source": [
        "#DAI parameters:\n",
        "H = 65 # Barrier price\n",
        "K = 65 # Strike\n",
        "lam = 0.75 #jump intensity"
      ],
      "metadata": {
        "id": "NHCOZMOpmNPz"
      },
      "execution_count": 35,
      "outputs": []
    },
    {
      "cell_type": "code",
      "source": [
        "def merton_jump_path(S0, r, sigma, T, lam, mu_j, sigma_j, steps, num_paths):\n",
        "    dt = T / steps\n",
        "    t = np.linspace(0, T, steps+1)\n",
        "    S = np.zeros((num_paths, steps+1))\n",
        "    S[:, 0] = S0\n",
        "\n",
        "    for i in range(1, steps+1):\n",
        "        poisson = np.random.poisson(lam*dt, num_paths)\n",
        "        jump = np.random.normal(mu_j, sigma_j, num_paths) * poisson\n",
        "        drift = (r - lam*(np.exp(mu_j + 0.5*sigma_j**2) - 1) - 0.5*sigma**2) * dt\n",
        "        diffusion = sigma * np.sqrt(dt) * np.random.standard_normal(num_paths)\n",
        "        S[:, i] = S[:, i-1] * np.exp(drift + diffusion + jump)\n",
        "\n",
        "    return S\n",
        "\n",
        "def price_dai_put_merton(S0, K, H, T, r, sigma, lam, mu_j, sigma_j, num_simulations, num_steps):\n",
        "    S = merton_jump_path(S0, r, sigma, T, lam, mu_j, sigma_j, num_steps, num_simulations)\n",
        "\n",
        "    barrier_hit = np.any(S <= H, axis=1)\n",
        "    payoffs = np.where(barrier_hit, np.maximum(K - S[:, -1], 0), 0)\n",
        "\n",
        "    option_price = np.exp(-r * T) * np.mean(payoffs)\n",
        "    return option_price\n",
        "\n",
        "\n",
        "# Price DAI Put Option\n",
        "dai_put_price = price_dai_put_merton(S0, K, H, T, r, sigma, lam, mu_j, sigma_j, num_simulations, num_steps)\n",
        "\n",
        "# Price simple European Put Option (for comparison)\n",
        "simple_put_price = mt_put_price_75 # from prior merton python code\n",
        "\n",
        "print(f\"DAI Put Price: ${dai_put_price:.2f}\")\n",
        "print(f\"Simple European Put Price: ${simple_put_price:.2f}\")"
      ],
      "metadata": {
        "colab": {
          "base_uri": "https://localhost:8080/"
        },
        "id": "ZoOC8-r2nICy",
        "outputId": "2e6c9b08-221c-4f73-ddfd-e8836228297d"
      },
      "execution_count": 36,
      "outputs": [
        {
          "output_type": "stream",
          "name": "stdout",
          "text": [
            "DAI Put Price: $2.78\n",
            "Simple European Put Price: $7.20\n"
          ]
        }
      ]
    },
    {
      "cell_type": "markdown",
      "source": [
        "**Comparison between DAI Merton Put Option Price and Simple Merton European Put Price**\n",
        "\n",
        "The results show that a simple merton european put is significantly larger than the down-and-in- barrier put option. This is as a result of the following:\n",
        "- the put option is only active when it stock falls below the barrier price, resulting in lower (cheaper) put option price at expiration.\n",
        "- the probability of exercise is higher for simple european put since there is no activation barrier.\n",
        "- a simple european call is easier to hedge  because of non-existence of barrier price.\n",
        "- simple european call has vanilla payoff whereas the UAI option only pay off only when stock price falls below barrier price.\n",
        "- The DAI put option is mainly used for special hedging cases where costs is major concern."
      ],
      "metadata": {
        "id": "6G7RvopinbR-"
      }
    }
  ]
}