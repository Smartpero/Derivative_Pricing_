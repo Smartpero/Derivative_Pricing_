{
  "nbformat": 4,
  "nbformat_minor": 0,
  "metadata": {
    "colab": {
      "provenance": [],
      "toc_visible": true
    },
    "kernelspec": {
      "name": "python3",
      "display_name": "Python 3"
    },
    "language_info": {
      "name": "python"
    }
  },
  "cells": [
    {
      "cell_type": "markdown",
      "source": [
        "# Step 1"
      ],
      "metadata": {
        "id": "rZWHwnIrrNc4"
      }
    },
    {
      "cell_type": "markdown",
      "source": [
        "**1. Black Scholes Models for European Options**"
      ],
      "metadata": {
        "id": "wpHjoqrYrdaV"
      }
    },
    {
      "cell_type": "markdown",
      "source": [
        "For the next set of questions, assume the following values and parameters:\n",
        "\n",
        "S\n",
        "0 = 100; r = 5%; σ = 20%; T = 3 months"
      ],
      "metadata": {
        "id": "G7UG8qjtAW5p"
      }
    },
    {
      "cell_type": "code",
      "source": [
        "import numpy as np\n",
        "from scipy.stats import norm\n",
        "import pandas as pd\n",
        "import matplotlib.pyplot as plt"
      ],
      "metadata": {
        "id": "PJj-ReIi93SH"
      },
      "execution_count": null,
      "outputs": []
    },
    {
      "cell_type": "code",
      "execution_count": null,
      "metadata": {
        "colab": {
          "base_uri": "https://localhost:8080/"
        },
        "id": "qdwN_-09TDZm",
        "outputId": "139cf2bd-9266-4905-a908-470e802fc7d9"
      },
      "outputs": [
        {
          "output_type": "stream",
          "name": "stdout",
          "text": [
            "European Call Price: $4.61\n",
            "European Put Price: $3.37\n"
          ]
        }
      ],
      "source": [
        "# Initialize paramters\n",
        "S0 = 100 # initial stock price\n",
        "K = 100 # ATM strike price\n",
        "r = 0.05 # risk free rate\n",
        "sigma = 0.20 # volatility\n",
        "T = 3/12 # time to maturity: 3months\n",
        "\n",
        "d1 = (np.log(S0/K) + (r + sigma**2/2)*T) / (sigma*np.sqrt(T))\n",
        "d2 = d1 - sigma*np.sqrt(T)\n",
        "\n",
        "#alculate European Call and Put Option Price\n",
        "bs_call_price = S0*norm.cdf(d1) - K*np.exp(-r*T)*norm.cdf(d2)\n",
        "bs_put_price = K*np.exp(-r*T)*norm.cdf(-d2) - S0*norm.cdf(-d1)\n",
        "\n",
        "print(f\"European Call Price: ${bs_call_price:.2f}\")\n",
        "print(f\"European Put Price: ${bs_put_price:.2f}\")"
      ]
    },
    {
      "cell_type": "code",
      "source": [
        "#Calculate Call and Put Delta\n",
        "call_delta = norm.cdf(d1)\n",
        "put_delta = norm.cdf(d1) - 1\n",
        "\n",
        "print(f\"European Call Delta: {call_delta:.4f}\")\n",
        "print(f\"European Put Delta: {put_delta:.4f}\")"
      ],
      "metadata": {
        "colab": {
          "base_uri": "https://localhost:8080/"
        },
        "id": "BjlfYriUZhX0",
        "outputId": "601115ae-587a-4d60-c5a3-8a86d3513cc1"
      },
      "execution_count": null,
      "outputs": [
        {
          "output_type": "stream",
          "name": "stdout",
          "text": [
            "European Call Delta: 0.5695\n",
            "European Put Delta: -0.4305\n"
          ]
        }
      ]
    },
    {
      "cell_type": "code",
      "source": [
        "# Calculate Vega\n",
        "def bs_price(S, K, r, T, sigma, option_type='call'):\n",
        "    d1 = (np.log(S/K) + (r + sigma**2/2)*T) / (sigma*np.sqrt(T))\n",
        "    d2 = d1 - sigma*np.sqrt(T)\n",
        "    if option_type == 'call':\n",
        "        return S*norm.cdf(d1) - K*np.exp(-r*T)*norm.cdf(d2)\n",
        "    else:\n",
        "        return K*np.exp(-r*T)*norm.cdf(-d2) - S*norm.cdf(-d1)\n",
        "\n",
        "vega = S0 * np.sqrt(T) * norm.pdf(d1)\n",
        "\n",
        "print(f\"Vega: {vega:.4f}\")\n"
      ],
      "metadata": {
        "id": "mJQJsh7EeL9L",
        "outputId": "3dfbbfef-c907-45a7-81cf-21b65e0fcf44",
        "colab": {
          "base_uri": "https://localhost:8080/"
        }
      },
      "execution_count": null,
      "outputs": [
        {
          "output_type": "stream",
          "name": "stdout",
          "text": [
            "Vega: 19.6440\n"
          ]
        }
      ]
    },
    {
      "cell_type": "code",
      "source": [
        "# Call and Put Price chnge (under the BS model)\n",
        "# Prices with original volatility (20%)\n",
        "bs_call_price_20 = bs_price(S0, K, r, T, 0.20, 'call')\n",
        "bs_put_price_20 = bs_price(S0, K, r, T, 0.20, 'put')\n",
        "\n",
        "# Prices with increased volatility (25%)\n",
        "bs_call_price_25 = bs_price(S0, K, r, T, 0.25, 'call')\n",
        "bs_put_price_25 = bs_price(S0, K, r, T, 0.25, 'put')\n",
        "print(f\"Call price change: ${bs_call_price_25 - bs_call_price_20:.2f}\")\n",
        "print(f\"Put price change: ${bs_put_price_25 - bs_put_price_20:.2f}\")"
      ],
      "metadata": {
        "colab": {
          "base_uri": "https://localhost:8080/"
        },
        "id": "wQDfcDaPvDiP",
        "outputId": "13615049-4713-4e23-9b4d-0303df22db94"
      },
      "execution_count": null,
      "outputs": [
        {
          "output_type": "stream",
          "name": "stdout",
          "text": [
            "Call price change: $0.98\n",
            "Put price change: $0.98\n"
          ]
        }
      ]
    },
    {
      "cell_type": "markdown",
      "source": [
        "**2. Monte Carlo Model for European Options**"
      ],
      "metadata": {
        "id": "7hk1Lp8RuKlk"
      }
    },
    {
      "cell_type": "markdown",
      "source": [
        "We will employ a Monte Carlo simulation using a Geometric Brownian Motion (GBM) process to value an European Call option and determine its delta and vega. Although there are several methods for pricing European options, we have chosen the Least Squares Monte Carlo (LSM) method, as it is one of the most competent approaches for this task."
      ],
      "metadata": {
        "id": "pko24atapqJ8"
      }
    },
    {
      "cell_type": "code",
      "source": [
        "#Monte Carlo European Option Prices\n",
        "def bs_call_mc(S, K, r, sigma, T, t, Ite, option_type):\n",
        "    data = np.zeros((Ite, 2))\n",
        "    z = np.random.normal(0, 1, [1, Ite])\n",
        "    ST = S * np.exp((T - t) * (r - 0.5 * sigma**2) + sigma * np.sqrt(T - t) * z)\n",
        "    if option_type==\"call\":\n",
        "        data[:, 1] = ST - K\n",
        "    else:\n",
        "        data[:, 1] = K - ST\n",
        "\n",
        "    average = np.sum(np.amax(data, axis=1)) / float(Ite)\n",
        "\n",
        "    return np.exp(-r * (T - t)) * average"
      ],
      "metadata": {
        "id": "eqMhFRYdwcV7"
      },
      "execution_count": null,
      "outputs": []
    },
    {
      "cell_type": "code",
      "source": [
        "np.random.seed(42)"
      ],
      "metadata": {
        "id": "tTNUKdemwgIX"
      },
      "execution_count": null,
      "outputs": []
    },
    {
      "cell_type": "code",
      "source": [
        "# Finding best number of iterations\n",
        "price_array = []\n",
        "for Ite in [ 500, 600, 700, 800, 900, 1000, 1500,2000, 2500, 3000, 4000, 5000, 6000, 70000, 8000, 9000, 10000]:\n",
        "    mc_call_price =   bs_call_mc(100, 100, 0.05, 0.20, 3/12, 0, Ite, 'call')\n",
        "    price_array.append(mc_call_price)\n",
        "    print(\"With Ite = {:3d}, the price is {:.2f}\".format(Ite, mc_call_price))"
      ],
      "metadata": {
        "colab": {
          "base_uri": "https://localhost:8080/"
        },
        "id": "3egWw1HTwo8X",
        "outputId": "8e976420-e66a-4d8a-def6-0ee5266144e9"
      },
      "execution_count": null,
      "outputs": [
        {
          "output_type": "stream",
          "name": "stdout",
          "text": [
            "With Ite = 500, the price is 4.57\n",
            "With Ite = 600, the price is 4.80\n",
            "With Ite = 700, the price is 5.06\n",
            "With Ite = 800, the price is 4.54\n",
            "With Ite = 900, the price is 4.70\n",
            "With Ite = 1000, the price is 4.33\n",
            "With Ite = 1500, the price is 4.40\n",
            "With Ite = 2000, the price is 4.75\n",
            "With Ite = 2500, the price is 4.54\n",
            "With Ite = 3000, the price is 4.55\n",
            "With Ite = 4000, the price is 4.80\n",
            "With Ite = 5000, the price is 4.60\n",
            "With Ite = 6000, the price is 4.55\n",
            "With Ite = 70000, the price is 4.63\n",
            "With Ite = 8000, the price is 4.55\n",
            "With Ite = 9000, the price is 4.72\n",
            "With Ite = 10000, the price is 4.56\n"
          ]
        }
      ]
    },
    {
      "cell_type": "markdown",
      "source": [
        "Although, there is no fixed suitable number of simulations/iterations that will result in convergence of Call price, we will work with Ite/num_simulations) = 10000, for remainder of the python code in this notebook."
      ],
      "metadata": {
        "id": "4YxQrFw_xbSZ"
      }
    },
    {
      "cell_type": "code",
      "source": [
        "# Monte Carlo Call and Put Option Price\n",
        "print(f\"Monte Carlo European Call Price: {bs_call_mc(100, 100, 0.05, 0.20, 3/12, 0, 10000, 'call'):.2f}\")\n",
        "print(f\"Monte Carlo European Put Price: {bs_call_mc(100, 100, 0.05, 0.20, 3/12, 0, 10000, 'put'):.2f}\")"
      ],
      "metadata": {
        "colab": {
          "base_uri": "https://localhost:8080/"
        },
        "id": "BW64QZfExZuj",
        "outputId": "f92cf9a3-df54-41c7-c852-d3baf8ed4d2d"
      },
      "execution_count": null,
      "outputs": [
        {
          "output_type": "stream",
          "name": "stdout",
          "text": [
            "Monte Carlo European Call Price: 4.68\n",
            "Monte Carlo European Put Price: 3.43\n"
          ]
        }
      ]
    },
    {
      "cell_type": "code",
      "source": [
        "mc_call_price = bs_call_mc(100, 100, 0.05, 0.20, 3/12, 0, 10000, 'call').round(2)\n",
        "mc_put_price = bs_call_mc(100, 100, 0.05, 0.20, 3/12, 0, 10000, 'put').round(2)"
      ],
      "metadata": {
        "id": "jD5aDQy7-s2H"
      },
      "execution_count": null,
      "outputs": []
    },
    {
      "cell_type": "code",
      "source": [
        "# Initialize\n",
        "S0 = 100            # Initial stock price\n",
        "K = 100             # Strike price\n",
        "T = 3/12             # Time to maturity (1 year)\n",
        "r = 0.05            # Risk-free interest rate\n",
        "sigma = 0.2         # Volatility\n",
        "num_simulations = 10000  # Number of simulations\n",
        "num_steps = 63 # Number of time steps for 3 months\n",
        "\n",
        "\n",
        "# Small changes for finite differences\n",
        "delta_S = 0.01 * S0 # assume that intuition in GWP 1 tree, stock price move by factor 0.01\n",
        "delta_sigma = 0.05 # change in volatility\n",
        "\n",
        "# Time increment\n",
        "dt = T / num_steps"
      ],
      "metadata": {
        "id": "IIi6m7KTzVqY"
      },
      "execution_count": null,
      "outputs": []
    },
    {
      "cell_type": "code",
      "source": [
        "# Call Delta\n",
        "option_type ='call'\n",
        "def monte_carlo_option_delta(S0, K, T, r, sigma, num_simulations, num_steps, option_type):\n",
        "    \"\"\"Monte Carlo simulation for European call option price.\"\"\"\n",
        "    payoffs = []\n",
        "    for _ in range(num_simulations):\n",
        "        # Simulate the path\n",
        "        S = S0\n",
        "        for _ in range(num_steps):\n",
        "            Z = np.random.standard_normal()\n",
        "            S *= np.exp((r - 0.5 * sigma**2) * dt + sigma * np.sqrt(dt) * Z)\n",
        "        # Calculate payoff at maturity\n",
        "        if option_type == 'call':\n",
        "            payoff = max(S - K, 0)  # Call option payoff\n",
        "        else:\n",
        "            payoff = max(K - S, 0)\n",
        "        payoffs.append(payoff)\n",
        "    # Discounted average payoff\n",
        "    return np.exp(-r * T) * np.mean(payoffs)\n",
        "\n",
        "# Base option price\n",
        "option_price = monte_carlo_option_delta(S0, K, T, r, sigma, num_simulations, num_steps, option_type)\n",
        "\n",
        "# Calculate Delta\n",
        "option_price_up = monte_carlo_option_delta(S0 + delta_S, K, T, r, sigma, num_simulations, num_steps, option_type)\n",
        "delta = (option_price_up - option_price) / delta_S\n",
        "\n",
        "# Calculate Vega\n",
        "option_price_vol_up = monte_carlo_option_delta(S0, K, T, r, sigma + delta_sigma, num_simulations, num_steps, option_type)\n",
        "\n",
        "\n",
        "print(f\"European Call Delta: {delta:.4f}\")\n"
      ],
      "metadata": {
        "colab": {
          "base_uri": "https://localhost:8080/"
        },
        "id": "5JicdJFiya1l",
        "outputId": "c80c324d-cd6e-4a0e-f4c0-7b0cb006ff8a"
      },
      "execution_count": null,
      "outputs": [
        {
          "output_type": "stream",
          "name": "stdout",
          "text": [
            "European Call Delta: 0.4714\n"
          ]
        }
      ]
    },
    {
      "cell_type": "code",
      "source": [
        "# Put Delta\n",
        "option_type ='put'\n",
        "def monte_carlo_option_delta(S0, K, T, r, sigma, num_simulations, num_steps, option_type):\n",
        "    \"\"\"Monte Carlo simulation for European call option price.\"\"\"\n",
        "    payoffs = []\n",
        "    for _ in range(num_simulations):\n",
        "        # Simulate the path\n",
        "        S = S0\n",
        "        for _ in range(num_steps):\n",
        "            Z = np.random.standard_normal()\n",
        "            S *= np.exp((r - 0.5 * sigma**2) * dt + sigma * np.sqrt(dt) * Z)\n",
        "        # Calculate payoff at maturity\n",
        "        if option_type == 'call':\n",
        "            payoff = max(S - K, 0)  # Call option payoff\n",
        "        else:\n",
        "            payoff = max(K - S, 0)\n",
        "        payoffs.append(payoff)\n",
        "    # Discounted average payoff\n",
        "    return np.exp(-r * T) * np.mean(payoffs)\n",
        "\n",
        "# Base option price\n",
        "option_price = monte_carlo_option_delta(S0, K, T, r, sigma, num_simulations, num_steps, option_type)\n",
        "\n",
        "# Calculate Delta\n",
        "option_price_up = monte_carlo_option_delta(S0 + delta_S, K, T, r, sigma, num_simulations, num_steps, option_type)\n",
        "delta = (option_price_up - option_price) / delta_S\n",
        "\n",
        "# Calculate Vega\n",
        "option_price_vol_up = monte_carlo_option_delta(S0, K, T, r, sigma + delta_sigma, num_simulations, num_steps, option_type)\n",
        "vega = (option_price_vol_up - option_price) / delta_sigma\n",
        "\n",
        "print(f\"European Put Delta: {delta:.4f}\")"
      ],
      "metadata": {
        "colab": {
          "base_uri": "https://localhost:8080/"
        },
        "id": "swP4BivT0CC0",
        "outputId": "9aca42f1-9cea-4206-beff-3cbd3f3143ad"
      },
      "execution_count": null,
      "outputs": [
        {
          "output_type": "stream",
          "name": "stdout",
          "text": [
            "European Put Delta: -0.3682\n"
          ]
        }
      ]
    },
    {
      "cell_type": "code",
      "source": [
        "# Vega\n",
        "vega = (option_price_vol_up - option_price) / delta_sigma\n",
        "print(f\"Vega: {vega:.4f}\")"
      ],
      "metadata": {
        "colab": {
          "base_uri": "https://localhost:8080/"
        },
        "id": "Jiaq7WrIzG5p",
        "outputId": "4ed8facd-599e-4836-dd07-05b624191869"
      },
      "execution_count": null,
      "outputs": [
        {
          "output_type": "stream",
          "name": "stdout",
          "text": [
            "Vega: 18.7443\n"
          ]
        }
      ]
    },
    {
      "cell_type": "code",
      "source": [
        "# Call and Put Price chnge (under the MC model)\n",
        "# Prices with original volatility (20%)\n",
        "mc_call_price_20 = bs_call_mc(100, 100, 0.05, 0.20, 3/12, 0, 10000, 'call')\n",
        "mc_put_price_20 = bs_call_mc(100, 100, 0.05, 0.20, 3/12, 0, 10000, 'put')\n",
        "\n",
        "# Prices with increased volatility (25%)\n",
        "mc_call_price_25 = bs_call_mc(100, 100, 0.05, 0.25, 3/12, 0, 10000, 'call')\n",
        "mc_put_price_25 = bs_call_mc(100, 100, 0.05, 0.25, 3/12, 0, 10000, 'put')\n",
        "print(f\"Call price change: ${mc_call_price_25 - mc_call_price_20:.2f}\")\n",
        "print(f\"Put price change: ${mc_put_price_25 - mc_put_price_20:.2f}\")"
      ],
      "metadata": {
        "colab": {
          "base_uri": "https://localhost:8080/"
        },
        "id": "ymr8293C3-09",
        "outputId": "cf9ac4cc-3379-4f55-f1cd-dd17b25cc6d0"
      },
      "execution_count": null,
      "outputs": [
        {
          "output_type": "stream",
          "name": "stdout",
          "text": [
            "Call price change: $1.01\n",
            "Put price change: $1.14\n"
          ]
        }
      ]
    },
    {
      "cell_type": "markdown",
      "source": [
        "Vega affects the prices for call and put. However, in the case, the change in put price is slighty higher than the that of call price."
      ],
      "metadata": {
        "id": "0SzDqzq9zGL4"
      }
    },
    {
      "cell_type": "markdown",
      "source": [
        "**3. Put-Call Parity (BS-MC Comparison)**"
      ],
      "metadata": {
        "id": "cjACjaqm7UA0"
      }
    },
    {
      "cell_type": "code",
      "source": [
        "#Put-Call Parity Difference for Black-Scholes Method\n",
        "bs_parity_difference = bs_call_price - bs_put_price - (S0 - K * np.exp(-r * T))\n",
        "print(f\"Black-Scholes Put-Call Parity Difference: {bs_parity_difference:.4f}\")"
      ],
      "metadata": {
        "colab": {
          "base_uri": "https://localhost:8080/"
        },
        "id": "kNObW5Oj7n_p",
        "outputId": "2fcdb9e2-b856-4d73-8aa7-24777bcb327d"
      },
      "execution_count": null,
      "outputs": [
        {
          "output_type": "stream",
          "name": "stdout",
          "text": [
            "Black-Scholes Put-Call Parity Difference: -0.0000\n"
          ]
        }
      ]
    },
    {
      "cell_type": "code",
      "source": [
        "# Put_Parity for Monte Carlo Model\n",
        "mc_parity_difference = mc_call_price - mc_put_price - (S0 - K * np.exp(-r * T))\n",
        "print(f\"Monte Carlo Put-Call Parity Difference: {mc_parity_difference:.4f}\")"
      ],
      "metadata": {
        "colab": {
          "base_uri": "https://localhost:8080/"
        },
        "id": "7GIhmm2_9sMU",
        "outputId": "35411b97-65ce-4ff9-d6f7-4c6d94db3457"
      },
      "execution_count": null,
      "outputs": [
        {
          "output_type": "stream",
          "name": "stdout",
          "text": [
            "Monte Carlo Put-Call Parity Difference: 0.0178\n"
          ]
        }
      ]
    },
    {
      "cell_type": "markdown",
      "source": [
        "a. Put-Call Parity is satisfied under both the Black-Scholes Model and the Monte Carlo Simulation. The parity difference for the former is 0. while for the latter is significantly low (almost zero). The averaging of option prices across a large number of simulations tend give varying values but significantly low deviation for the value obtained in the Black-Scholes model.\n",
        "\n",
        "b. The prices obtained for Monte Carlo Method are pretty much close to that of the Black Scholes Model. However, both models do no converge for the following reasons:\n",
        "\n",
        "- the BS model assumes continuous trading and perfect hedging, leading to a precise analytical solution. In contrast, MC simulations often approximate this by modeling the stock price at discrete time intervals (e.g., daily steps), which introduces small errors since continuous paths are only approximated.\n",
        "- The large number of random paths used to estimated the option payoff obtained as result of large number of simulations produce approximate standard sampling errors in the Monte Carlo model which does not match the error in the analytical Black Scholes option pricing."
      ],
      "metadata": {
        "id": "OFEMHRaa_qdw"
      }
    },
    {
      "cell_type": "markdown",
      "source": [
        "# Step 2"
      ],
      "metadata": {
        "id": "w_48aiUB_9P3"
      }
    },
    {
      "cell_type": "markdown",
      "source": [
        "**Parameters**\n",
        "\n",
        "- $S0 = 100$       (stock price)\n",
        "\n",
        "\n",
        "\n",
        "\n",
        "\n",
        "\n",
        "\n",
        "- $r = 0.05$       (Risk-free rate)\n",
        "- $sigma = 0.20$   (Volatility)\n",
        "- $T = 3 / 12$      (Time to expiration in years (3 months))\n",
        "- $N = 63$  (Number of steps for time steps for 3 months)"
      ],
      "metadata": {
        "id": "wqKzE27iArBh"
      }
    },
    {
      "cell_type": "markdown",
      "source": [
        "**4. Monte Carlo Model for American Call Option**"
      ],
      "metadata": {
        "id": "-8oOScjaAKeC"
      }
    },
    {
      "cell_type": "code",
      "source": [
        "# Parameters\n",
        "S0 = 100         # initial stock price\n",
        "K = 100          # strike price\n",
        "T = 3/12           # time to maturity in years\n",
        "r = 0.05         # risk-free interest rate\n",
        "sigma = 0.2      # volatility of the underlying stock\n",
        "n_simulations = 100000  # number of Monte Carlo simulations\n",
        "n_steps = 63          # number of time steps for 3months\n",
        "bump_size = 0.01       # bump size for finite difference in stock prices (from GWP1: factor is 0.01)\n",
        "delta_sigma = 0.05 # 5% change in volatility\n"
      ],
      "metadata": {
        "id": "Z_20nibxBAdS"
      },
      "execution_count": null,
      "outputs": []
    },
    {
      "cell_type": "code",
      "source": [
        "\n",
        "def american_option_price(S0, sigma, option_type):\n",
        "    dt = T / n_steps\n",
        "    S = np.zeros((n_simulations, n_steps + 1))\n",
        "    S[:, 0] = S0\n",
        "    for t in range(1, n_steps + 1):\n",
        "        Z = np.random.standard_normal(n_simulations)\n",
        "        S[:, t] = S[:, t - 1] * np.exp((r - 0.5 * sigma ** 2) * dt + sigma * np.sqrt(dt) * Z)\n",
        "\n",
        "    # Set the payoff depending on option type\n",
        "    if option_type == \"call\":\n",
        "        payoff = lambda x: np.maximum(x - K, 0)\n",
        "    elif option_type == \"put\":\n",
        "        payoff = lambda x: np.maximum(K - x, 0)\n",
        "\n",
        "    cash_flows = payoff(S[:, -1])\n",
        "\n",
        "    # LSMC backward induction\n",
        "    for t in range(n_steps - 1, 0, -1):\n",
        "        in_the_money = payoff(S[:, t]) > 0\n",
        "        S_in_the_money = S[in_the_money, t]\n",
        "        cash_flows_in_the_money = cash_flows[in_the_money] * np.exp(-r * dt)\n",
        "\n",
        "        if len(S_in_the_money) > 0:\n",
        "            X = np.vstack([np.ones(S_in_the_money.shape), S_in_the_money, S_in_the_money ** 2]).T\n",
        "            coeff = np.linalg.lstsq(X, cash_flows_in_the_money, rcond=None)[0]\n",
        "            continuation_values = X @ coeff\n",
        "\n",
        "            exercise = payoff(S_in_the_money) > continuation_values\n",
        "            cash_flows[in_the_money] = np.where(exercise, payoff(S_in_the_money), cash_flows_in_the_money)\n",
        "\n",
        "    return np.mean(cash_flows) * np.exp(-r * dt)\n",
        "\n",
        "\n"
      ],
      "metadata": {
        "id": "8Qi4Jw4JCNwP"
      },
      "execution_count": null,
      "outputs": []
    },
    {
      "cell_type": "code",
      "source": [
        "# Calculate the original American Call option price\n",
        "price_original_call = american_option_price(S0, sigma, option_type=\"call\")\n",
        "\n",
        "price_bumped_call = american_option_price(S0 * (1 + bump_size), sigma, option_type=\"call\") #measure change in call option price which change ins stock volatiltilty change\n",
        "\n",
        "#Calculate Call Delta\n",
        "delta_call = (price_bumped_call - price_original_call) / (S0 * bump_size)\n",
        "\n",
        "#Calculate Vega\n",
        "price_bumped_vega_call = american_option_price(S0, sigma + delta_sigma, option_type=\"call\")\n",
        "vega_call = (price_bumped_vega_call - price_original_call) / delta_sigma\n",
        "\n",
        "# Print results\n",
        "print(f\"American Call Option Price: {price_original_call:.2f}\")\n",
        "print(f\"Delta of American Call Option: {delta_call:.4f}\")\n",
        "print(f\"Vega of American Call Option: {vega_call:.4f}\\n\")\n",
        "print(f\"Change in American Call Price: {price_bumped_vega_call - price_original_call:.4f}\\n\")"
      ],
      "metadata": {
        "colab": {
          "base_uri": "https://localhost:8080/"
        },
        "id": "OXi92oolGUYs",
        "outputId": "7d29d241-7076-4d11-f2fc-0f97af3f4da3"
      },
      "execution_count": null,
      "outputs": [
        {
          "output_type": "stream",
          "name": "stdout",
          "text": [
            "American Call Option Price: 4.55\n",
            "Delta of American Call Option: 0.6021\n",
            "Vega of American Call Option: 19.8000\n",
            "\n",
            "Change in American Call Price: 0.9900\n",
            "\n"
          ]
        }
      ]
    },
    {
      "cell_type": "markdown",
      "source": [
        "**5. Monte Carlo Model for American Put Option**"
      ],
      "metadata": {
        "id": "03nD0B41I2kM"
      }
    },
    {
      "cell_type": "code",
      "source": [
        "# Calculate the original American Put option price\n",
        "price_original_put = american_option_price(S0, sigma, option_type=\"put\")\n",
        "\n",
        "price_bumped_put = american_option_price(S0 * (1 + bump_size), sigma, option_type=\"put\") #measure change in put option price which change ins stock volatiltilty change\n",
        "\n",
        "#Calculate Put Delta\n",
        "delta_put = (price_bumped_put - price_original_put) / (S0 * bump_size)\n",
        "\n",
        "#Calculate Vega\n",
        "price_bumped_vega_put = american_option_price(S0, sigma + delta_sigma, option_type=\"put\")\n",
        "vega_put = (price_bumped_vega_put - price_original_put) / delta_sigma\n",
        "\n",
        "# Print results\n",
        "print(f\"American Put Option Price: {price_original_put:.2f}\")\n",
        "print(f\"Delta of American Put Option: {delta_put:.4f}\")\n",
        "print(f\"Vega of American Put Option: {vega_put:.4f}\\n\")\n",
        "print(f\"Change in American Put Price: {price_bumped_vega_put - price_original_put:.4f}\\n\")"
      ],
      "metadata": {
        "colab": {
          "base_uri": "https://localhost:8080/"
        },
        "id": "qxNbNRnoGmgc",
        "outputId": "10490e4a-584d-45ac-82f7-5d6792442805"
      },
      "execution_count": null,
      "outputs": [
        {
          "output_type": "stream",
          "name": "stdout",
          "text": [
            "American Put Option Price: 3.49\n",
            "Delta of American Put Option: -0.4322\n",
            "Vega of American Put Option: 19.6187\n",
            "\n",
            "Change in American Put Price: 0.9809\n",
            "\n"
          ]
        }
      ]
    },
    {
      "cell_type": "markdown",
      "source": [
        "The price change for the American Call Price and Put price with respect to change in volatiltiy is very similar (approximately) the same."
      ],
      "metadata": {
        "id": "OoitsrBTH-TT"
      }
    },
    {
      "cell_type": "markdown",
      "source": [
        "**6. Options Price-Moneyness Comparison**"
      ],
      "metadata": {
        "id": "-KCUgNy7I8TT"
      }
    },
    {
      "cell_type": "markdown",
      "source": [
        "For Call Option:\n",
        "- For Deep ITM: we will consider moneyness (K/S0_) of **90%**. (i.e **K = 90**)\n",
        "\n",
        "- For ITM : we will consider moneyness (K/S0) of **95%** (i.e **K = 95**)\n",
        "\n",
        "- ATM: K = S0 = **100**\n",
        "\n",
        "- For OTM: we will consider moneyness (K/S0) of **105%**. (i.e **K = 105**)\n",
        "\n",
        "- For Deep OTM: we will consider moneyness (K/S0) of **110%** (i.e **K = 110**)\n",
        "\n",
        "For Put Option:\n",
        "- For Deep OTM: we will consider moneyness (K/S0_) of **90%**. (i.e **K = 90**)\n",
        "\n",
        "- For OTM : we will consider moneyness (K/S0) of **95%** (i.e **K = 95**)\n",
        "\n",
        "- ATM: K = S0 = **100**\n",
        "\n",
        "- For ITM: we will consider moneyness (K/S0) of **105%**. (i.e **K = 105**)\n",
        "\n",
        "- For Deep ITM: we will consider moneyness (K/S0) of **110%** (i.e **K = 110**)\n"
      ],
      "metadata": {
        "id": "Z4zV_xDGc6Vt"
      }
    },
    {
      "cell_type": "code",
      "source": [
        "# American Call for difference Strike Prices\n",
        "american_call_array = []\n",
        "for K in [90, 95, 100, 105, 110]:\n",
        "    american_call_price = american_option_price(S0, sigma, option_type=\"call\")\n",
        "    american_call_array.append(american_call_price)\n",
        "    print(\"With K = {:3d}, the price is {:.2f}\".format(K, american_call_price))"
      ],
      "metadata": {
        "colab": {
          "base_uri": "https://localhost:8080/"
        },
        "id": "XYn1xMNubWwO",
        "outputId": "fa86bd1b-8788-4831-8d9e-9fe81571d82a"
      },
      "execution_count": null,
      "outputs": [
        {
          "output_type": "stream",
          "name": "stdout",
          "text": [
            "With K =  90, the price is 11.67\n",
            "With K =  95, the price is 7.59\n",
            "With K = 100, the price is 4.53\n",
            "With K = 105, the price is 2.43\n",
            "With K = 110, the price is 1.19\n"
          ]
        }
      ]
    },
    {
      "cell_type": "code",
      "source": [
        "# American Put for difference Strike Prices\n",
        "american_put_array = []\n",
        "for K in [90, 95, 100, 105, 110]:\n",
        "    american_put_price = american_option_price(S0, sigma, option_type=\"put\")\n",
        "    american_put_array.append(american_put_price)\n",
        "    print(\"With K = {:3d}, the price is {:.2f}\".format(K, american_put_price))"
      ],
      "metadata": {
        "colab": {
          "base_uri": "https://localhost:8080/"
        },
        "id": "G2votEeichlo",
        "outputId": "15cddd85-8fb5-4f75-cf6f-161db667fea0"
      },
      "execution_count": null,
      "outputs": [
        {
          "output_type": "stream",
          "name": "stdout",
          "text": [
            "With K =  90, the price is 0.56\n",
            "With K =  95, the price is 1.57\n",
            "With K = 100, the price is 3.47\n",
            "With K = 105, the price is 6.39\n",
            "With K = 110, the price is 10.30\n"
          ]
        }
      ]
    },
    {
      "cell_type": "code",
      "source": [
        "# compile list of arrays\n",
        "strike_prices = np.array([90, 95, 100, 105, 110]) # for Deep ITM, ITM, ATM, OTM & Deep OTM respectively\n",
        "stock_prices = np.array([100, 100, 100, 100, 100])\n",
        "moneyness = strike_prices/stock_prices\n",
        "american_raw_data = pd.DataFrame([american_call_array, american_put_array, stock_prices, strike_prices, moneyness])\n",
        "american_data = american_raw_data.transpose()\n",
        "american_data.columns = [\"American_call_price\", \"American_put_price\", \"Stock_price\", \"Strike_price\",\"Moneyness\" ]\n",
        "american_data.round(2)"
      ],
      "metadata": {
        "colab": {
          "base_uri": "https://localhost:8080/",
          "height": 206
        },
        "id": "iNmGjELgddQH",
        "outputId": "7685f273-d629-4b2a-f3f3-e37ebc88628a"
      },
      "execution_count": null,
      "outputs": [
        {
          "output_type": "execute_result",
          "data": {
            "text/plain": [
              "   American_call_price  American_put_price  Stock_price  Strike_price  \\\n",
              "0                11.67                0.56        100.0          90.0   \n",
              "1                 7.59                1.57        100.0          95.0   \n",
              "2                 4.53                3.47        100.0         100.0   \n",
              "3                 2.43                6.39        100.0         105.0   \n",
              "4                 1.19               10.30        100.0         110.0   \n",
              "\n",
              "   Moneyness  \n",
              "0       0.90  \n",
              "1       0.95  \n",
              "2       1.00  \n",
              "3       1.05  \n",
              "4       1.10  "
            ],
            "text/html": [
              "\n",
              "  <div id=\"df-be2122fb-35f9-4ebf-81d9-098dfa331ca9\" class=\"colab-df-container\">\n",
              "    <div>\n",
              "<style scoped>\n",
              "    .dataframe tbody tr th:only-of-type {\n",
              "        vertical-align: middle;\n",
              "    }\n",
              "\n",
              "    .dataframe tbody tr th {\n",
              "        vertical-align: top;\n",
              "    }\n",
              "\n",
              "    .dataframe thead th {\n",
              "        text-align: right;\n",
              "    }\n",
              "</style>\n",
              "<table border=\"1\" class=\"dataframe\">\n",
              "  <thead>\n",
              "    <tr style=\"text-align: right;\">\n",
              "      <th></th>\n",
              "      <th>American_call_price</th>\n",
              "      <th>American_put_price</th>\n",
              "      <th>Stock_price</th>\n",
              "      <th>Strike_price</th>\n",
              "      <th>Moneyness</th>\n",
              "    </tr>\n",
              "  </thead>\n",
              "  <tbody>\n",
              "    <tr>\n",
              "      <th>0</th>\n",
              "      <td>11.67</td>\n",
              "      <td>0.56</td>\n",
              "      <td>100.0</td>\n",
              "      <td>90.0</td>\n",
              "      <td>0.90</td>\n",
              "    </tr>\n",
              "    <tr>\n",
              "      <th>1</th>\n",
              "      <td>7.59</td>\n",
              "      <td>1.57</td>\n",
              "      <td>100.0</td>\n",
              "      <td>95.0</td>\n",
              "      <td>0.95</td>\n",
              "    </tr>\n",
              "    <tr>\n",
              "      <th>2</th>\n",
              "      <td>4.53</td>\n",
              "      <td>3.47</td>\n",
              "      <td>100.0</td>\n",
              "      <td>100.0</td>\n",
              "      <td>1.00</td>\n",
              "    </tr>\n",
              "    <tr>\n",
              "      <th>3</th>\n",
              "      <td>2.43</td>\n",
              "      <td>6.39</td>\n",
              "      <td>100.0</td>\n",
              "      <td>105.0</td>\n",
              "      <td>1.05</td>\n",
              "    </tr>\n",
              "    <tr>\n",
              "      <th>4</th>\n",
              "      <td>1.19</td>\n",
              "      <td>10.30</td>\n",
              "      <td>100.0</td>\n",
              "      <td>110.0</td>\n",
              "      <td>1.10</td>\n",
              "    </tr>\n",
              "  </tbody>\n",
              "</table>\n",
              "</div>\n",
              "    <div class=\"colab-df-buttons\">\n",
              "\n",
              "  <div class=\"colab-df-container\">\n",
              "    <button class=\"colab-df-convert\" onclick=\"convertToInteractive('df-be2122fb-35f9-4ebf-81d9-098dfa331ca9')\"\n",
              "            title=\"Convert this dataframe to an interactive table.\"\n",
              "            style=\"display:none;\">\n",
              "\n",
              "  <svg xmlns=\"http://www.w3.org/2000/svg\" height=\"24px\" viewBox=\"0 -960 960 960\">\n",
              "    <path d=\"M120-120v-720h720v720H120Zm60-500h600v-160H180v160Zm220 220h160v-160H400v160Zm0 220h160v-160H400v160ZM180-400h160v-160H180v160Zm440 0h160v-160H620v160ZM180-180h160v-160H180v160Zm440 0h160v-160H620v160Z\"/>\n",
              "  </svg>\n",
              "    </button>\n",
              "\n",
              "  <style>\n",
              "    .colab-df-container {\n",
              "      display:flex;\n",
              "      gap: 12px;\n",
              "    }\n",
              "\n",
              "    .colab-df-convert {\n",
              "      background-color: #E8F0FE;\n",
              "      border: none;\n",
              "      border-radius: 50%;\n",
              "      cursor: pointer;\n",
              "      display: none;\n",
              "      fill: #1967D2;\n",
              "      height: 32px;\n",
              "      padding: 0 0 0 0;\n",
              "      width: 32px;\n",
              "    }\n",
              "\n",
              "    .colab-df-convert:hover {\n",
              "      background-color: #E2EBFA;\n",
              "      box-shadow: 0px 1px 2px rgba(60, 64, 67, 0.3), 0px 1px 3px 1px rgba(60, 64, 67, 0.15);\n",
              "      fill: #174EA6;\n",
              "    }\n",
              "\n",
              "    .colab-df-buttons div {\n",
              "      margin-bottom: 4px;\n",
              "    }\n",
              "\n",
              "    [theme=dark] .colab-df-convert {\n",
              "      background-color: #3B4455;\n",
              "      fill: #D2E3FC;\n",
              "    }\n",
              "\n",
              "    [theme=dark] .colab-df-convert:hover {\n",
              "      background-color: #434B5C;\n",
              "      box-shadow: 0px 1px 3px 1px rgba(0, 0, 0, 0.15);\n",
              "      filter: drop-shadow(0px 1px 2px rgba(0, 0, 0, 0.3));\n",
              "      fill: #FFFFFF;\n",
              "    }\n",
              "  </style>\n",
              "\n",
              "    <script>\n",
              "      const buttonEl =\n",
              "        document.querySelector('#df-be2122fb-35f9-4ebf-81d9-098dfa331ca9 button.colab-df-convert');\n",
              "      buttonEl.style.display =\n",
              "        google.colab.kernel.accessAllowed ? 'block' : 'none';\n",
              "\n",
              "      async function convertToInteractive(key) {\n",
              "        const element = document.querySelector('#df-be2122fb-35f9-4ebf-81d9-098dfa331ca9');\n",
              "        const dataTable =\n",
              "          await google.colab.kernel.invokeFunction('convertToInteractive',\n",
              "                                                    [key], {});\n",
              "        if (!dataTable) return;\n",
              "\n",
              "        const docLinkHtml = 'Like what you see? Visit the ' +\n",
              "          '<a target=\"_blank\" href=https://colab.research.google.com/notebooks/data_table.ipynb>data table notebook</a>'\n",
              "          + ' to learn more about interactive tables.';\n",
              "        element.innerHTML = '';\n",
              "        dataTable['output_type'] = 'display_data';\n",
              "        await google.colab.output.renderOutput(dataTable, element);\n",
              "        const docLink = document.createElement('div');\n",
              "        docLink.innerHTML = docLinkHtml;\n",
              "        element.appendChild(docLink);\n",
              "      }\n",
              "    </script>\n",
              "  </div>\n",
              "\n",
              "\n",
              "<div id=\"df-db4f2f1a-d6f8-4cca-8c9b-db635a6ef065\">\n",
              "  <button class=\"colab-df-quickchart\" onclick=\"quickchart('df-db4f2f1a-d6f8-4cca-8c9b-db635a6ef065')\"\n",
              "            title=\"Suggest charts\"\n",
              "            style=\"display:none;\">\n",
              "\n",
              "<svg xmlns=\"http://www.w3.org/2000/svg\" height=\"24px\"viewBox=\"0 0 24 24\"\n",
              "     width=\"24px\">\n",
              "    <g>\n",
              "        <path d=\"M19 3H5c-1.1 0-2 .9-2 2v14c0 1.1.9 2 2 2h14c1.1 0 2-.9 2-2V5c0-1.1-.9-2-2-2zM9 17H7v-7h2v7zm4 0h-2V7h2v10zm4 0h-2v-4h2v4z\"/>\n",
              "    </g>\n",
              "</svg>\n",
              "  </button>\n",
              "\n",
              "<style>\n",
              "  .colab-df-quickchart {\n",
              "      --bg-color: #E8F0FE;\n",
              "      --fill-color: #1967D2;\n",
              "      --hover-bg-color: #E2EBFA;\n",
              "      --hover-fill-color: #174EA6;\n",
              "      --disabled-fill-color: #AAA;\n",
              "      --disabled-bg-color: #DDD;\n",
              "  }\n",
              "\n",
              "  [theme=dark] .colab-df-quickchart {\n",
              "      --bg-color: #3B4455;\n",
              "      --fill-color: #D2E3FC;\n",
              "      --hover-bg-color: #434B5C;\n",
              "      --hover-fill-color: #FFFFFF;\n",
              "      --disabled-bg-color: #3B4455;\n",
              "      --disabled-fill-color: #666;\n",
              "  }\n",
              "\n",
              "  .colab-df-quickchart {\n",
              "    background-color: var(--bg-color);\n",
              "    border: none;\n",
              "    border-radius: 50%;\n",
              "    cursor: pointer;\n",
              "    display: none;\n",
              "    fill: var(--fill-color);\n",
              "    height: 32px;\n",
              "    padding: 0;\n",
              "    width: 32px;\n",
              "  }\n",
              "\n",
              "  .colab-df-quickchart:hover {\n",
              "    background-color: var(--hover-bg-color);\n",
              "    box-shadow: 0 1px 2px rgba(60, 64, 67, 0.3), 0 1px 3px 1px rgba(60, 64, 67, 0.15);\n",
              "    fill: var(--button-hover-fill-color);\n",
              "  }\n",
              "\n",
              "  .colab-df-quickchart-complete:disabled,\n",
              "  .colab-df-quickchart-complete:disabled:hover {\n",
              "    background-color: var(--disabled-bg-color);\n",
              "    fill: var(--disabled-fill-color);\n",
              "    box-shadow: none;\n",
              "  }\n",
              "\n",
              "  .colab-df-spinner {\n",
              "    border: 2px solid var(--fill-color);\n",
              "    border-color: transparent;\n",
              "    border-bottom-color: var(--fill-color);\n",
              "    animation:\n",
              "      spin 1s steps(1) infinite;\n",
              "  }\n",
              "\n",
              "  @keyframes spin {\n",
              "    0% {\n",
              "      border-color: transparent;\n",
              "      border-bottom-color: var(--fill-color);\n",
              "      border-left-color: var(--fill-color);\n",
              "    }\n",
              "    20% {\n",
              "      border-color: transparent;\n",
              "      border-left-color: var(--fill-color);\n",
              "      border-top-color: var(--fill-color);\n",
              "    }\n",
              "    30% {\n",
              "      border-color: transparent;\n",
              "      border-left-color: var(--fill-color);\n",
              "      border-top-color: var(--fill-color);\n",
              "      border-right-color: var(--fill-color);\n",
              "    }\n",
              "    40% {\n",
              "      border-color: transparent;\n",
              "      border-right-color: var(--fill-color);\n",
              "      border-top-color: var(--fill-color);\n",
              "    }\n",
              "    60% {\n",
              "      border-color: transparent;\n",
              "      border-right-color: var(--fill-color);\n",
              "    }\n",
              "    80% {\n",
              "      border-color: transparent;\n",
              "      border-right-color: var(--fill-color);\n",
              "      border-bottom-color: var(--fill-color);\n",
              "    }\n",
              "    90% {\n",
              "      border-color: transparent;\n",
              "      border-bottom-color: var(--fill-color);\n",
              "    }\n",
              "  }\n",
              "</style>\n",
              "\n",
              "  <script>\n",
              "    async function quickchart(key) {\n",
              "      const quickchartButtonEl =\n",
              "        document.querySelector('#' + key + ' button');\n",
              "      quickchartButtonEl.disabled = true;  // To prevent multiple clicks.\n",
              "      quickchartButtonEl.classList.add('colab-df-spinner');\n",
              "      try {\n",
              "        const charts = await google.colab.kernel.invokeFunction(\n",
              "            'suggestCharts', [key], {});\n",
              "      } catch (error) {\n",
              "        console.error('Error during call to suggestCharts:', error);\n",
              "      }\n",
              "      quickchartButtonEl.classList.remove('colab-df-spinner');\n",
              "      quickchartButtonEl.classList.add('colab-df-quickchart-complete');\n",
              "    }\n",
              "    (() => {\n",
              "      let quickchartButtonEl =\n",
              "        document.querySelector('#df-db4f2f1a-d6f8-4cca-8c9b-db635a6ef065 button');\n",
              "      quickchartButtonEl.style.display =\n",
              "        google.colab.kernel.accessAllowed ? 'block' : 'none';\n",
              "    })();\n",
              "  </script>\n",
              "</div>\n",
              "\n",
              "    </div>\n",
              "  </div>\n"
            ],
            "application/vnd.google.colaboratory.intrinsic+json": {
              "type": "dataframe",
              "summary": "{\n  \"name\": \"american_data\",\n  \"rows\": 5,\n  \"fields\": [\n    {\n      \"column\": \"American_call_price\",\n      \"properties\": {\n        \"dtype\": \"number\",\n        \"std\": 4.224253780255158,\n        \"min\": 1.19,\n        \"max\": 11.67,\n        \"num_unique_values\": 5,\n        \"samples\": [\n          7.59,\n          1.19,\n          4.53\n        ],\n        \"semantic_type\": \"\",\n        \"description\": \"\"\n      }\n    },\n    {\n      \"column\": \"American_put_price\",\n      \"properties\": {\n        \"dtype\": \"number\",\n        \"std\": 3.948818810733154,\n        \"min\": 0.56,\n        \"max\": 10.3,\n        \"num_unique_values\": 5,\n        \"samples\": [\n          1.57,\n          10.3,\n          3.47\n        ],\n        \"semantic_type\": \"\",\n        \"description\": \"\"\n      }\n    },\n    {\n      \"column\": \"Stock_price\",\n      \"properties\": {\n        \"dtype\": \"number\",\n        \"std\": 0.0,\n        \"min\": 100.0,\n        \"max\": 100.0,\n        \"num_unique_values\": 1,\n        \"samples\": [\n          100.0\n        ],\n        \"semantic_type\": \"\",\n        \"description\": \"\"\n      }\n    },\n    {\n      \"column\": \"Strike_price\",\n      \"properties\": {\n        \"dtype\": \"number\",\n        \"std\": 7.905694150420948,\n        \"min\": 90.0,\n        \"max\": 110.0,\n        \"num_unique_values\": 5,\n        \"samples\": [\n          95.0\n        ],\n        \"semantic_type\": \"\",\n        \"description\": \"\"\n      }\n    },\n    {\n      \"column\": \"Moneyness\",\n      \"properties\": {\n        \"dtype\": \"number\",\n        \"std\": 0.07905694150420951,\n        \"min\": 0.9,\n        \"max\": 1.1,\n        \"num_unique_values\": 5,\n        \"samples\": [\n          0.95\n        ],\n        \"semantic_type\": \"\",\n        \"description\": \"\"\n      }\n    }\n  ]\n}"
            }
          },
          "metadata": {},
          "execution_count": 24
        }
      ]
    },
    {
      "cell_type": "code",
      "source": [
        "fig, ax = plt.subplots(1,2)\n",
        "fig.subplots_adjust(wspace=0.6)\n",
        "\n",
        "ax[0].plot(american_data['Moneyness'], american_data['American_call_price'] )\n",
        "ax[0].set_title(\"Call Option Price vs Moneyness\")\n",
        "ax[0].set_xlabel(\"Moneyness\")\n",
        "ax[0].set_ylabel(\"American Call Price\")\n",
        "\n",
        "\n",
        "ax[1].plot(american_data['Moneyness'], american_data['American_put_price'] )\n",
        "ax[1].set_title(\"Put Option Price vs Moneyness\")\n",
        "ax[1].set_xlabel(\"Moneyness\")\n",
        "ax[1].set_ylabel(\"American Put Price\")\n",
        "\n",
        "\n",
        "plt.show()"
      ],
      "metadata": {
        "colab": {
          "base_uri": "https://localhost:8080/",
          "height": 472
        },
        "id": "cHZ09KXRdlRV",
        "outputId": "17e82504-f627-43dd-f59c-d47da71c11bc"
      },
      "execution_count": null,
      "outputs": [
        {
          "output_type": "display_data",
          "data": {
            "text/plain": [
              "<Figure size 640x480 with 2 Axes>"
            ],
            "image/png": "[encoded data removed]"
          },
          "metadata": {}
        }
      ]
    },
    {
      "cell_type": "markdown",
      "source": [
        "# Step 3"
      ],
      "metadata": {
        "id": "8-T5E9rFiA-f"
      }
    },
    {
      "cell_type": "markdown",
      "source": [
        "**7. Black-Scholes European Exotic Options**"
      ],
      "metadata": {
        "id": "yY4bCkA6iF5L"
      }
    },
    {
      "cell_type": "markdown",
      "source": [
        "The Black-Scholes model will serve as our tool for pricing European options that are at varying levels of moneyness. We will then examine the delta of constructed portfolios that utilize these options."
      ],
      "metadata": {
        "id": "VN8vDYJxq_Ry"
      }
    },
    {
      "cell_type": "code",
      "source": [
        "# Parameters\n",
        "S0 = 100  # Initial stock price\n",
        "r = 0.05  # Risk-free rate\n",
        "sigma = 0.2  # Volatility\n",
        "T = 0.25  # Time to maturity (3 months)\n",
        "\n",
        "def black_scholes(S, K, T, r, sigma, option_type='call'):\n",
        "    d1 = (np.log(S / K) + (r + 0.5 * sigma**2) * T) / (sigma * np.sqrt(T))\n",
        "    d2 = d1 - sigma * np.sqrt(T)\n",
        "\n",
        "    if option_type == 'call':\n",
        "        price = S * norm.cdf(d1) - K * np.exp(-r * T) * norm.cdf(d2)\n",
        "    else:  # put\n",
        "        price = K * np.exp(-r * T) * norm.cdf(-d2) - S * norm.cdf(-d1)\n",
        "\n",
        "    return price\n",
        "\n",
        "def black_scholes_delta(S, K, T, r, sigma, option_type='call'):\n",
        "    d1 = (np.log(S / K) + (r + 0.5 * sigma**2) * T) / (sigma * np.sqrt(T))\n",
        "\n",
        "    if option_type == 'call':\n",
        "        delta = norm.cdf(d1)\n",
        "    else:  # put\n",
        "        delta = norm.cdf(d1) - 1\n",
        "\n",
        "    return delta\n",
        "\n",
        "# Calculate strike prices\n",
        "K_call = S0 * 1.10  # 110% moneyness\n",
        "K_put = S0 * 0.95   # 95% moneyness\n",
        "\n",
        "# Price the options\n",
        "call_price = black_scholes(S0, K_call, T, r, sigma, 'call')\n",
        "put_price = black_scholes(S0, K_put, T, r, sigma, 'put')\n",
        "\n",
        "print(f\"a. European Call option price (110% moneyness): ${call_price:.2f}\")\n",
        "print(f\"   European Put option price (95% moneyness): ${put_price:.2f}\")\n",
        "\n",
        "# Calculate deltas\n",
        "call_delta = black_scholes_delta(S0, K_call, T, r, sigma, 'call')\n",
        "put_delta = black_scholes_delta(S0, K_put, T, r, sigma, 'put')\n",
        "\n",
        "# Portfolio 1: Long Call and Long Put\n",
        "portfolio1_delta = call_delta + put_delta\n",
        "\n",
        "print(f\"\\nb. Portfolio 1 (Long Call + Long Put) delta: {portfolio1_delta:.4f}\")\n",
        "print(f\"   To delta-hedge: Sell {portfolio1_delta:.4f} shares of the underlying stock\")\n",
        "\n",
        "# Portfolio 2: Long Call and Short Put\n",
        "portfolio2_delta = call_delta - put_delta\n",
        "\n",
        "print(f\"\\nc. Portfolio 2 (Long Call + Short Put) delta: {portfolio2_delta:.4f}\")\n",
        "print(f\"   To delta-hedge: Sell {portfolio2_delta:.4f} shares of the underlying stock\")"
      ],
      "metadata": {
        "colab": {
          "base_uri": "https://localhost:8080/"
        },
        "id": "jEa1d1_wueBp",
        "outputId": "e7d92149-825b-4dcb-c4d7-2d97c0776170"
      },
      "execution_count": null,
      "outputs": [
        {
          "output_type": "stream",
          "name": "stdout",
          "text": [
            "a. European Call option price (110% moneyness): $1.19\n",
            "   European Put option price (95% moneyness): $1.53\n",
            "\n",
            "b. Portfolio 1 (Long Call + Long Put) delta: -0.0275\n",
            "   To delta-hedge: Sell -0.0275 shares of the underlying stock\n",
            "\n",
            "c. Portfolio 2 (Long Call + Short Put) delta: 0.4640\n",
            "   To delta-hedge: Sell 0.4640 shares of the underlying stock\n"
          ]
        }
      ]
    },
    {
      "cell_type": "markdown",
      "source": [
        "**8. Up-and-Out Barrier Option**"
      ],
      "metadata": {
        "id": "DVrp59ZIi40i"
      }
    },
    {
      "cell_type": "markdown",
      "source": [
        "**Parameters**\n",
        "\n",
        "- $S = 120$       (stock price)\n",
        "\n",
        "- $K = 120$  (ATM strike price)\n",
        "- $B = 141$ (Barrier level)\n",
        "\n",
        "- $r = 0.06$       (Risk-free rate)\n",
        "- $sigma = 0.30$   (Volatility)\n",
        "- $T = 8 / 12$      (Time to expiration in years (8 months))\n",
        "- $N = 168$  (Number of time steps for 8months)"
      ],
      "metadata": {
        "id": "2GyWu9RMjNLU"
      }
    },
    {
      "cell_type": "code",
      "source": [
        "# Parameters\n",
        "S0 = 120             # Initial stock price\n",
        "K = 120              # Strike price (ATM, so equal to S0)\n",
        "B = 141              # Barrier level\n",
        "T = 8/12              # Time to maturity (8 months)\n",
        "r = 0.06             # Risk-free interest rate (6%)\n",
        "sigma = 0.2          # Volatility of the underlying (20%)\n",
        "num_simulations = 10000  # Number of Monte Carlo simulations\n",
        "num_steps = 168          # Number of steps per simulation (daily steps for 8 months)\n",
        "\n",
        "# Time increment per step\n",
        "dt = T / num_steps\n",
        "# Simulate the paths\n",
        "np.random.seed(0)  # For reproducibility\n",
        "\n",
        "\n"
      ],
      "metadata": {
        "id": "WuCsUq-AjJfq"
      },
      "execution_count": null,
      "outputs": []
    },
    {
      "cell_type": "code",
      "source": [
        "# ATM Up-and-Out Barrier Call Option\n",
        "payoffs = []\n",
        "for i in range(num_simulations):\n",
        "    # Generate an array of random standard normal values for each step\n",
        "    Z = np.random.standard_normal(num_steps)\n",
        "\n",
        "    # Create the price path\n",
        "    S = np.zeros(num_steps + 1)\n",
        "    S[0] = S0\n",
        "    knocked_out = True\n",
        "\n",
        "    # Generate the price path\n",
        "    for t in range(1, num_steps + 1):\n",
        "        S[t] = S[t-1] * np.exp((r - 0.5 * sigma**2) * dt + sigma * np.sqrt(dt) * Z[t-1])\n",
        "\n",
        "        # Check if the barrier is breached\n",
        "        if S[t] >= B:\n",
        "            knocked_out = True\n",
        "            break\n",
        "\n",
        "    # Calculate the payoff if the option has not knocked out\n",
        "    if not knocked_out:\n",
        "        payoff = max(S[-1] - K, 0)  # Payoff for a call option\n",
        "        payoffs.append(payoff)\n",
        "\n",
        "# Calculate the option price\n",
        "option_price = np.exp(-r * T) * np.mean(payoffs) if payoffs else 0\n",
        "\n",
        "print(f\"The estimated price of the ATM up-and-out call barrier option is: {option_price:.2f}\")"
      ],
      "metadata": {
        "colab": {
          "base_uri": "https://localhost:8080/"
        },
        "id": "0v1tuYjmn0YL",
        "outputId": "c1025b8d-d006-4960-af39-f63c29451dfe"
      },
      "execution_count": null,
      "outputs": [
        {
          "output_type": "stream",
          "name": "stdout",
          "text": [
            "The estimated price of the ATM up-and-out call barrier option is: 0.00\n"
          ]
        }
      ]
    },
    {
      "cell_type": "code",
      "source": [
        "# ATM Up-and-Out Barrier Put Option\n",
        "payoffs = []\n",
        "for i in range(num_simulations):\n",
        "    # Generate an array of random standard normal values for each step\n",
        "    Z = np.random.standard_normal(num_steps)\n",
        "\n",
        "    # Create the price path\n",
        "    S = np.zeros(num_steps + 1)\n",
        "    S[0] = S0\n",
        "    knocked_out = False\n",
        "\n",
        "    # Generate the price path\n",
        "    for t in range(1, num_steps + 1):\n",
        "        S[t] = S[t-1] * np.exp((r - 0.5 * sigma**2) * dt + sigma * np.sqrt(dt) * Z[t-1])\n",
        "\n",
        "        # Check if the barrier is breached\n",
        "        if S[t] >= B:\n",
        "            knocked_out = True\n",
        "            break\n",
        "\n",
        "    # Calculate the payoff if the option has not knocked out\n",
        "    if not knocked_out:\n",
        "        payoff = max(K - S[-1], 0)  # Payoff for a put option\n",
        "        payoffs.append(payoff)\n",
        "\n",
        "# Calculate the option price\n",
        "option_price = np.exp(-r * T) * np.mean(payoffs) if payoffs else 0\n",
        "\n",
        "print(f\"The estimated price of the ATM up-and-out Put barrier option is: {option_price:.2f}\")"
      ],
      "metadata": {
        "colab": {
          "base_uri": "https://localhost:8080/"
        },
        "id": "SOO-VMQ-ohpv",
        "outputId": "f7fff20d-e1e9-4786-bdef-be1ba722a9f4"
      },
      "execution_count": null,
      "outputs": [
        {
          "output_type": "stream",
          "name": "stdout",
          "text": [
            "The estimated price of the ATM up-and-out Put barrier option is: 8.60\n"
          ]
        }
      ]
    },
    {
      "cell_type": "markdown",
      "source": [
        "**9a. Up-and-In Barrier Option**"
      ],
      "metadata": {
        "id": "QJ2DNUO8pE-X"
      }
    },
    {
      "cell_type": "markdown",
      "source": [
        "**Parameters**\n",
        "\n",
        "- $S = 120$       (stock price)\n",
        "\n",
        "- $K = 120$  (ATM strike price)\n",
        "- $B = 141$ (Barrier level)\n",
        "\n",
        "\n",
        "- $r = 0.06$       (Risk-free rate)\n",
        "- $sigma = 0.30$   (Volatility)\n",
        "- $T = 8 / 12$      (Time to expiration in years (8 months))\n",
        "- $N = 168$  (Number of time steps for 8months)"
      ],
      "metadata": {
        "id": "GVxI9wHBpgtX"
      }
    },
    {
      "cell_type": "code",
      "source": [
        "# Parameters\n",
        "S0 = 120             # Initial stock price\n",
        "K = 120              # Strike price (ATM, so equal to S0)\n",
        "B = 141              # Barrier level (up-and-in)\n",
        "T = 8/12             # Time to maturity (8 months)\n",
        "r = 0.06             # Risk-free interest rate (5%)\n",
        "sigma = 0.3         # Volatility of the underlying (20%)\n",
        "num_simulations = 10000  # Number of Monte Carlo simulations\n",
        "num_steps = 168         # Number of steps per simulation (daily steps for 8 months)\n",
        "\n",
        "# Time increment per step\n",
        "dt = T / num_steps\n",
        "\n",
        "# Simulate the paths\n",
        "np.random.seed(0)  # For reproducibility\n"
      ],
      "metadata": {
        "id": "3vVHe9aOqI4K"
      },
      "execution_count": null,
      "outputs": []
    },
    {
      "cell_type": "code",
      "source": [
        "# ATM Up-and-In Barrier Call Option\n",
        "\n",
        "# Simulate the paths\n",
        "np.random.seed(0)  # For reproducibility\n",
        "payoffs = []\n",
        "\n",
        "for i in range(num_simulations):\n",
        "    # Generate an array of random standard normal values for each step\n",
        "    Z = np.random.standard_normal(num_steps)\n",
        "\n",
        "    # Create the price path\n",
        "    S = np.zeros(num_steps + 1)\n",
        "    S[0] = S0\n",
        "    barrier_reached = True\n",
        "\n",
        "    # Generate the price path\n",
        "    for t in range(1, num_steps + 1):\n",
        "        S[t] = S[t-1] * np.exp((r - 0.5 * sigma**2) * dt + sigma * np.sqrt(dt) * Z[t-1])\n",
        "\n",
        "        # Check if the barrier is reached\n",
        "        if S[t] >= B:\n",
        "            barrier_reached = True\n",
        "\n",
        "    # Calculate the payoff if the barrier was reached\n",
        "    if barrier_reached:\n",
        "        payoff = max(S[-1] - K, 0)  # Payoff for a call option\n",
        "        payoffs.append(payoff)\n",
        "\n",
        "# Calculate the option price\n",
        "option_price = np.exp(-r * T) * np.mean(payoffs) if payoffs else 0\n",
        "\n",
        "print(f\"The estimated price of the ATM up-and-in call barrier option is: {option_price:.2f}\")"
      ],
      "metadata": {
        "colab": {
          "base_uri": "https://localhost:8080/"
        },
        "id": "aaubaRL5qNu_",
        "outputId": "3d9aeca9-6555-4428-f5b4-1b80405dc623"
      },
      "execution_count": null,
      "outputs": [
        {
          "output_type": "stream",
          "name": "stdout",
          "text": [
            "The estimated price of the ATM up-and-in call barrier option is: 13.86\n"
          ]
        }
      ]
    },
    {
      "cell_type": "code",
      "source": [
        "# ATM Up-and-In Barrier Put Option\n",
        "payoffs = []\n",
        "\n",
        "for i in range(num_simulations):\n",
        "    # Generate an array of random standard normal values for each step\n",
        "    Z = np.random.standard_normal(num_steps)\n",
        "\n",
        "    # Create the price path\n",
        "    S = np.zeros(num_steps + 1)\n",
        "    S[0] = S0\n",
        "    barrier_reached = False\n",
        "\n",
        "    # Generate the price path\n",
        "    for t in range(1, num_steps + 1):\n",
        "        S[t] = S[t-1] * np.exp((r - 0.5 * sigma**2) * dt + sigma * np.sqrt(dt) * Z[t-1])\n",
        "\n",
        "        # Check if the barrier is reached\n",
        "        if S[t] >= B:\n",
        "            barrier_reached = True\n",
        "\n",
        "    # Calculate the payoff if the barrier was reached\n",
        "    if barrier_reached:\n",
        "        payoff = max(K - S[-1], 0)  # Payoff for a put option\n",
        "        payoffs.append(payoff)\n",
        "\n",
        "# Calculate the option price\n",
        "option_price = np.exp(-r * T) * np.mean(payoffs) if payoffs else 0\n",
        "\n",
        "print(f\"The estimated price of the ATM up-and-in put barrier option is: {option_price:.2f}\")"
      ],
      "metadata": {
        "colab": {
          "base_uri": "https://localhost:8080/"
        },
        "id": "0NVQ3M2kvhzS",
        "outputId": "08204a37-e4fa-4d9b-a797-f9e2d51dcfa4"
      },
      "execution_count": null,
      "outputs": [
        {
          "output_type": "stream",
          "name": "stdout",
          "text": [
            "The estimated price of the ATM up-and-in put barrier option is: 1.88\n"
          ]
        }
      ]
    },
    {
      "cell_type": "markdown",
      "source": [
        "**9b. Vanilla Option**"
      ],
      "metadata": {
        "id": "2TcA3JFpwZo5"
      }
    },
    {
      "cell_type": "markdown",
      "source": [],
      "metadata": {
        "id": "kIc4adawwzmp"
      }
    },
    {
      "cell_type": "code",
      "source": [
        "#Monte Carlo Vanila Option Prices\n",
        "\n",
        "def vanilla_option(S0, K, r, sigma, T, t, num_simulations, option_type):\n",
        "    data = np.zeros((num_simulations, 2))\n",
        "    z = np.random.normal(0, 1, [1,  num_simulations])\n",
        "    S = S0 * np.exp((T - t) * (r - 0.5 * sigma**2) + sigma * np.sqrt(T - t) * z)\n",
        "    if option_type==\"call\":\n",
        "        data[:, 1] = S - K\n",
        "    else:\n",
        "        data[:, 1] = K - S\n",
        "\n",
        "    average = np.sum(np.amax(data, axis=1)) / float(num_simulations)\n",
        "\n",
        "    return np.exp(-r * (T - t)) * average"
      ],
      "metadata": {
        "id": "tDeiygnDCCme"
      },
      "execution_count": null,
      "outputs": []
    },
    {
      "cell_type": "code",
      "source": [
        "print(f\"Vanilla Call Price:, {vanilla_option(120, 120, 0.06, 0.30, 8/12, 0, 10000, 'call'):.2f}\")\n",
        "print(f\"Vanilla Put Price:, {vanilla_option(120, 120, 0.06, 0.30, 8/12, 0, 10000, 'put'):.2f}\")"
      ],
      "metadata": {
        "colab": {
          "base_uri": "https://localhost:8080/"
        },
        "id": "oEpIF7V7CNL1",
        "outputId": "abeda450-821b-49bb-f043-920db82cf4fc"
      },
      "execution_count": null,
      "outputs": [
        {
          "output_type": "stream",
          "name": "stdout",
          "text": [
            "Vanilla Call Price:, 13.94\n",
            "Vanilla Put Price:, 9.24\n"
          ]
        }
      ]
    },
    {
      "cell_type": "markdown",
      "source": [
        "**9c. Relationship Between UAO, UAI and Vanilla Options**"
      ],
      "metadata": {
        "id": "9b8h59Uzcbj7"
      }
    },
    {
      "cell_type": "markdown",
      "source": [
        "- Up-and-Out Barrier Option: A call or put option that ceases to exist (or \"knocks out\") if the underlying asset's price rises above a certain barrier level during the life of the option.\n",
        "\n",
        "- Up-and-In Barrier Option: A call or put option that only comes into existence (or \"knocks in\") if the underlying asset's price rises above a certain barrier level during the option's life.\n",
        "\n",
        "- Vanilla Option: A standard European call or put option with no barrier or path-dependency\n",
        "\n",
        "From the results options above, it is obaserved that the result for the Vanilla Call option price(13.94) is the approximate sume of the Up-and-Out Barrier Call  Option price (0.00) and Up-and-In barrier Call option price (13.86). In the same vein, the Vanila Put option price (9.24) is the approximate sum of the Up-and-Out Barrier put option price (8.60) and the Up-and-In barrier put option price (1.88).\n",
        "\n",
        "The proves the theory that:\n",
        "\n",
        "Vanilla Option Price = Up-and Out Barrier Option Price + Up-and-In Barrier Option Price.\n",
        "\n",
        "**V = UAO + UAI.**\n",
        "\n"
      ],
      "metadata": {
        "id": "joliV3dHxnTF"
      }
    },
    {
      "cell_type": "code",
      "source": [],
      "metadata": {
        "id": "jjNMwKtz45Gj"
      },
      "execution_count": null,
      "outputs": []
    }
  ]
}